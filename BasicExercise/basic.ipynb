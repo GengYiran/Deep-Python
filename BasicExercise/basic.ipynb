{
 "cells": [
  {
   "cell_type": "markdown",
   "metadata": {},
   "source": [
    "# List"
   ]
  },
  {
   "cell_type": "code",
   "execution_count": 21,
   "metadata": {},
   "outputs": [
    {
     "data": {
      "text/plain": [
       "[1, 12, 'qwq', 'aa', 2]"
      ]
     },
     "execution_count": 21,
     "metadata": {},
     "output_type": "execute_result"
    }
   ],
   "source": [
    "a = [1, 12, 'qwq', 'aa', [1, 3]]\n",
    "a[4]=2\n",
    "a"
   ]
  },
  {
   "cell_type": "markdown",
   "metadata": {},
   "source": [
    "# 元组\n",
    "元组不可变，元组的元素可以改变"
   ]
  },
  {
   "cell_type": "markdown",
   "metadata": {},
   "source": [
    "切片\n"
   ]
  },
  {
   "cell_type": "code",
   "execution_count": 12,
   "metadata": {},
   "outputs": [
    {
     "ename": "SyntaxError",
     "evalue": "invalid syntax (2214613670.py, line 1)",
     "output_type": "error",
     "traceback": [
      "\u001b[0;36m  Input \u001b[0;32mIn [12]\u001b[0;36m\u001b[0m\n\u001b[0;31m    d = a[::2:4]\u001b[0m\n\u001b[0m             ^\u001b[0m\n\u001b[0;31mSyntaxError\u001b[0m\u001b[0;31m:\u001b[0m invalid syntax\n"
     ]
    }
   ],
   "source": [
    "d = a[::2]\n",
    "d"
   ]
  },
  {
   "cell_type": "markdown",
   "metadata": {},
   "source": [
    "# 字符串\n",
    "字符串内容不能被改变\n",
    "![](Images/![](Images/2022-02-21-14-28-55.png).png)"
   ]
  },
  {
   "cell_type": "code",
   "execution_count": 13,
   "metadata": {},
   "outputs": [],
   "source": [
    "s = 'string'"
   ]
  },
  {
   "cell_type": "code",
   "execution_count": 16,
   "metadata": {},
   "outputs": [
    {
     "data": {
      "text/plain": [
       "'s'"
      ]
     },
     "execution_count": 16,
     "metadata": {},
     "output_type": "execute_result"
    }
   ],
   "source": [
    "s[0]\n",
    "# s[0]='d' :错误！"
   ]
  },
  {
   "cell_type": "code",
   "execution_count": 18,
   "metadata": {},
   "outputs": [
    {
     "name": "stdout",
     "output_type": "stream",
     "text": [
      "['ab', 'dss', 'sdas', 'ass']\n",
      "['ab', 'dss', 'sdas,ass']\n"
     ]
    }
   ],
   "source": [
    "s = 'ab,dss,sdas,ass'\n",
    "print(s.split(','))\n",
    "print(s.split(',', maxsplit = 2))"
   ]
  },
  {
   "cell_type": "code",
   "execution_count": 25,
   "metadata": {},
   "outputs": [
    {
     "name": "stdout",
     "output_type": "stream",
     "text": [
      "99\n"
     ]
    }
   ],
   "source": [
    "for i in range(0,100):   # 后面是一个容器，依次拿出来值送给i，本质是一个数据流，通过next方法\n",
    "\tpass\n",
    "\n",
    "print(i)   #最后一下不加"
   ]
  },
  {
   "cell_type": "markdown",
   "metadata": {},
   "source": [
    "# 生成器， 迭代器\n",
    "容器，通常来讲是一个可迭代的，有iter()方法，可以被next()函数调用，成为一个迭代器 \n",
    "生成器不能直接用下标调用![](Images/2022-02-21-14-46-07.png)\n",
    "+ 是一个惰性lazily的数据流，每次用next才会生成下一个"
   ]
  },
  {
   "cell_type": "code",
   "execution_count": 29,
   "metadata": {},
   "outputs": [
    {
     "name": "stdout",
     "output_type": "stream",
     "text": [
      "<generator object <genexpr> at 0x7ff32eb464a0>\n"
     ]
    }
   ],
   "source": [
    "g = (x*x for x in range(4))\n",
    "print(g)"
   ]
  },
  {
   "cell_type": "code",
   "execution_count": 32,
   "metadata": {},
   "outputs": [
    {
     "name": "stdout",
     "output_type": "stream",
     "text": [
      "1 2\n"
     ]
    }
   ],
   "source": [
    "x = [1, 2, 3]\n",
    "y = iter(x)\n",
    "print(next(y), next(y))"
   ]
  },
  {
   "cell_type": "markdown",
   "metadata": {},
   "source": [
    "### For 循环：\n",
    "1. 生成迭代器\n",
    "2. 不断用next()赋值给element直到流空"
   ]
  },
  {
   "cell_type": "markdown",
   "metadata": {},
   "source": [
    "# Set\n",
    "automally delete the multi-time objects\n",
    "# sequence\n",
    "can be used by order\n",
    "we don't see a Dict as  a sequence\n",
    "\n",
    "split opetate \n",
    "# enumerate\n",
    "for idx, obj in enumerate(objs):\n",
    "\t......\n"
   ]
  },
  {
   "cell_type": "markdown",
   "metadata": {},
   "source": [
    "# Dict\n",
    "key cannot change \n",
    "\n",
    "do hash using keys \n",
    "\n",
    "a pair of key-value \n",
    "\n",
    "d.keys() is a sequence, so we can use for key in d: ................ \n",
    "\n",
    "or for (key, value) in d.items()(a taple) \n",
    "\n",
    "or for value in d.values() \n",
    "\n"
   ]
  },
  {
   "cell_type": "markdown",
   "metadata": {},
   "source": [
    "Dict的key是唯一的，如果有重复就会重写\n",
    "\n"
   ]
  },
  {
   "cell_type": "markdown",
   "metadata": {},
   "source": [
    "# 生成表达式\n",
    "可以加条件（）括号括起来产生的是生成器，不是tuple\n",
    "# zip()\n",
    "和生成表达式不同的是循环是各自循环而不是循环多层\n",
    "# 解包运算符\n",
    "*\n"
   ]
  },
  {
   "cell_type": "code",
   "execution_count": 5,
   "metadata": {},
   "outputs": [
    {
     "name": "stdout",
     "output_type": "stream",
     "text": [
      "[(1, 3), (2, 4)]\n",
      "[([1, 2],), ([3, 4],)]\n"
     ]
    }
   ],
   "source": [
    "A = [[1, 2], [3, 4]]\n",
    "B = [i for i in zip(*A)]\n",
    "print(B)\n",
    "B_ = [i for i in zip(A)]\n",
    "print(B_)\n"
   ]
  },
  {
   "cell_type": "markdown",
   "metadata": {},
   "source": [
    "# python传参都是传引用，会修改相关变量\n",
    "返回值也是引用\n",
    "\n",
    "可变参数列表\n",
    "\n",
    "*args and **kwargs支持不定参数数量的函数定义\n",
    "\n",
    "*args：容器（列表）形式的参数表达\n",
    "\n",
    "**kwargs：key-value format parameters\n",
    "\n",
    "使用函数时，不用刻意变成列表，只要正常传参就可以， 在函数中使用的时候注意args看作一个列表直接使用就可以\n",
    "\n",
    "后面可以直接使用xxx = xxx来传参\n",
    "\n",
    "注意在函数定义时，关键是在*和**的使用，具体叫什么没有影响\n",
    "\n",
    "# lambda表达式\n",
    "匿名函数\n",
    "\n",
    "注意有些函数操作返回新的操作好的量，传入的引用不会被改变\n",
    "\n",
    "有些可以直接改变引用（类似加不加constant的区别）\n",
    "\n",
    "\n",
    "\n",
    "\n",
    "# 高阶函数：接受函数作为参数\n",
    "map(f, *container)\n",
    "类似sorted也是高阶函数， 因为会针对数据对象的排序方法进行排序\n",
    "\n",
    "# reduce()\n",
    "累积作用，接受一个序列\n",
    "# filter()\n",
    "\n",
    "\n",
    "# 生成器函数\n",
    "yield，异步地挂起，等待再次调用\n",
    "\n",
    "返回一个生成器对象\n",
    "\n",
    "直接可以被next()调用\n",
    "\n",
    "产生的生成器自己记录yield到哪里了\n",
    "\n",
    "\n",
    "=的物理本质是完全不一样的\n",
    "\n",
    "原函数是一个生成器函数类型\n",
    "\n",
    "等于号左边是一个生成器对象实例\n",
    "\n"
   ]
  },
  {
   "cell_type": "markdown",
   "metadata": {},
   "source": [
    "# 嵌套函数\n",
    "函数内部的函数外部不可见\n",
    "\n",
    "返回函数实例\n",
    "\n",
    "大函数定义类，返回这个类的实例\n",
    "\n",
    "可以根据参数来定制函数\n",
    "\n",
    "函数闭包\n",
    "\n",
    "内部函数是可见大函数的参数的，共享了内部的子环境（私有环境）\n",
    "\n",
    "# 变量作用域\n",
    "\n",
    "# 函数工厂\n",
    "\n",
    "# 函数装饰器\n",
    "\n",
    "\n",
    "\n"
   ]
  }
 ],
 "metadata": {
  "interpreter": {
   "hash": "31f2aee4e71d21fbe5cf8b01ff0e069b9275f58929596ceb00d14d90e3e16cd6"
  },
  "kernelspec": {
   "display_name": "Python 3.8.10 64-bit",
   "language": "python",
   "name": "python3"
  },
  "language_info": {
   "codemirror_mode": {
    "name": "ipython",
    "version": 3
   },
   "file_extension": ".py",
   "mimetype": "text/x-python",
   "name": "python",
   "nbconvert_exporter": "python",
   "pygments_lexer": "ipython3",
   "version": "3.8.10"
  },
  "orig_nbformat": 4
 },
 "nbformat": 4,
 "nbformat_minor": 2
}
