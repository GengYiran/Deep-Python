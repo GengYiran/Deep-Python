{
 "cells": [
  {
   "cell_type": "code",
   "execution_count": 3,
   "metadata": {},
   "outputs": [
    {
     "name": "stdout",
     "output_type": "stream",
     "text": [
      "<class '__main__.A'>\n"
     ]
    }
   ],
   "source": [
    "class A:\n",
    "\tl=0  # 类属性\n",
    "\tdef __init__(self):\n",
    "\t\tself.a = 0\n",
    "\n",
    "print(A)\n"
   ]
  },
  {
   "cell_type": "markdown",
   "metadata": {},
   "source": [
    "Block类似c++中的{}，每个缩进代表一个block"
   ]
  },
  {
   "cell_type": "markdown",
   "metadata": {},
   "source": [
    "区分类属性和实例属性"
   ]
  },
  {
   "cell_type": "markdown",
   "metadata": {},
   "source": [
    "# [MRO方法](http://c.biancheng.net/view/5450.html)：\n",
    "python中的类在寻找方法的定义时要在当前类和基类中进行搜索以确定方法的属性和位置\n",
    "\n",
    "搜索顺序就是方法解析顺序(Method Resolution Order)\n",
    "\n",
    "旧式类MRO: 深度优先算法\n",
    "\n",
    "新式类MRO:从Python2.2开始,仍然从左到右深度优先遍历,如果出现重复的,只保留\"最后一个\". 这样的方法有问题,可能违反单调性\n",
    "\n",
    "[MRO C3线性化](https://zh.wikipedia.org/wiki/C3%E7%BA%BF%E6%80%A7%E5%8C%96):\n",
    "1. 版本: Python $\\geq$ 2.3\n",
    "2. 特性: 基于一致性拓展的优先图,局部优先,单调性原则\n",
    "3. 例子: 不断拿头部,做线性化![](Images/2022-03-07-14-31-50.png)"
   ]
  },
  {
   "cell_type": "markdown",
   "metadata": {},
   "source": []
  }
 ],
 "metadata": {
  "interpreter": {
   "hash": "31f2aee4e71d21fbe5cf8b01ff0e069b9275f58929596ceb00d14d90e3e16cd6"
  },
  "kernelspec": {
   "display_name": "Python 3.8.10 64-bit",
   "language": "python",
   "name": "python3"
  },
  "language_info": {
   "codemirror_mode": {
    "name": "ipython",
    "version": 3
   },
   "file_extension": ".py",
   "mimetype": "text/x-python",
   "name": "python",
   "nbconvert_exporter": "python",
   "pygments_lexer": "ipython3",
   "version": "3.8.10"
  },
  "orig_nbformat": 4
 },
 "nbformat": 4,
 "nbformat_minor": 2
}
