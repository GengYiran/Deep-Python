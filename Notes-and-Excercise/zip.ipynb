{
 "cells": [
  {
   "cell_type": "markdown",
   "metadata": {},
   "source": [
    "## Zip()：\n",
    "作用:压缩数组，把多个列表压缩成多个多元元素"
   ]
  },
  {
   "cell_type": "code",
   "execution_count": 12,
   "metadata": {},
   "outputs": [
    {
     "name": "stdout",
     "output_type": "stream",
     "text": [
      "<zip object at 0x7f4809009d00>\n",
      "(1, 4, 4) (2, 5, 5) (3, 6, 6)\n",
      "<zip object at 0x7f4809009d00>\n"
     ]
    }
   ],
   "source": [
    "# 当操作数之间长度不一致时，其长度与最短操作数的长度一致\n",
    "a = [1,2,3] \n",
    "b = [4,5,6,7] \n",
    "c = [4,5,6,7,8]  \n",
    "zipped = zip(a,b,c) \n",
    "print(zipped)\n",
    "print(*zipped) # 用*来解压\n",
    "# 解压后，迭代完成"
   ]
  },
  {
   "cell_type": "code",
   "execution_count": 14,
   "metadata": {},
   "outputs": [
    {
     "name": "stdout",
     "output_type": "stream",
     "text": [
      "(1, 4, 4)\n",
      "(2, 5, 5)\n",
      "(3, 6, 6)\n",
      "<zip object at 0x7f4809039e40>\n",
      "[(1, 4, 4), (2, 5, 5), (3, 6, 6)]\n",
      "(1, 4, 4) (2, 5, 5) (3, 6, 6)\n"
     ]
    }
   ],
   "source": [
    "# zip()函数返回的值是一个迭代器\n",
    "a = [1,2,3] \n",
    "b = [4,5,6,7] \n",
    "c = [4,5,6,7,8]  \n",
    "zipped = zip(a,b,c) \n",
    "for i in zipped:\n",
    "\tprint(i)\n",
    "zipped = zip(a,b,c) \n",
    "print(zipped)\n",
    "print(list(zipped))\n",
    "zipped = zip(a,b,c) \n",
    "print(*list(zipped))"
   ]
  },
  {
   "cell_type": "markdown",
   "metadata": {},
   "source": [
    "# zip(*zip(a,b))"
   ]
  },
  {
   "cell_type": "code",
   "execution_count": 15,
   "metadata": {},
   "outputs": [
    {
     "name": "stdout",
     "output_type": "stream",
     "text": [
      "zip(m, n)返回: [(1, 4), (2, 5), (3, 6)]\n",
      "*zip(m, n)返回: (1, 4) (2, 5) (3, 6)\n",
      "m2和n2的值分别为: (1, 2, 3) (4, 5, 6)\n"
     ]
    }
   ],
   "source": [
    "m = [1, 2, 3]\n",
    "n = [4, 5, 6]\n",
    "\n",
    "print(\"zip(m, n)返回:\", list(zip(m, n)))\n",
    "print(\"*zip(m, n)返回:\", *zip(m, n))\n",
    "m2, n2 = zip(*zip(m, n))\n",
    "print(\"m2和n2的值分别为:\", m2, n2)"
   ]
  },
  {
   "cell_type": "code",
   "execution_count": null,
   "metadata": {},
   "outputs": [],
   "source": []
  }
 ],
 "metadata": {
  "interpreter": {
   "hash": "31f2aee4e71d21fbe5cf8b01ff0e069b9275f58929596ceb00d14d90e3e16cd6"
  },
  "kernelspec": {
   "display_name": "Python 3.8.10 64-bit",
   "language": "python",
   "name": "python3"
  },
  "language_info": {
   "codemirror_mode": {
    "name": "ipython",
    "version": 3
   },
   "file_extension": ".py",
   "mimetype": "text/x-python",
   "name": "python",
   "nbconvert_exporter": "python",
   "pygments_lexer": "ipython3",
   "version": "3.8.10"
  },
  "orig_nbformat": 4
 },
 "nbformat": 4,
 "nbformat_minor": 2
}
