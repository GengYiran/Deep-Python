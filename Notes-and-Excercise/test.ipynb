{
 "cells": [
  {
   "cell_type": "code",
   "execution_count": 27,
   "metadata": {},
   "outputs": [
    {
     "name": "stdout",
     "output_type": "stream",
     "text": [
      "tensor([[3, 6],\n",
      "        [6, 3]])\n"
     ]
    }
   ],
   "source": [
    "import torch\n",
    "point_clouds = torch.tensor([[1, 1, 1], [2, 2, 2]])\n",
    "buffer = torch.tensor([[2, 2, 2], [3, 3, 3]])\n",
    "\n",
    "\n",
    "pc_square = (point_clouds*point_clouds).sum(dim=1)  # N*1\n",
    "buffer_square = (buffer*buffer).sum(dim=1)  # num_buffer*1\n",
    "\n",
    "pc_buffer_dot = torch.mm(point_clouds, buffer.T)  # N*num_buffer\n",
    "\n",
    "dis = (pc_square+buffer_square.reshape(2, 1))-2*pc_buffer_dot\n",
    "\n",
    "# print(buffer_square)\n",
    "# print(pc_buffer_dot)\n",
    "print(dis)"
   ]
  },
  {
   "cell_type": "code",
   "execution_count": null,
   "metadata": {},
   "outputs": [],
   "source": []
  }
 ],
 "metadata": {
  "interpreter": {
   "hash": "224f25fc0be08b930fddfad12a010fb7adcf3a716374ba1b6741252a895f3cad"
  },
  "kernelspec": {
   "display_name": "Python 3.7.12 ('rlgpu')",
   "language": "python",
   "name": "python3"
  },
  "language_info": {
   "name": "python",
   "version": "3.7.12"
  },
  "orig_nbformat": 4
 },
 "nbformat": 4,
 "nbformat_minor": 2
}
