{
 "cells": [
  {
   "cell_type": "markdown",
   "metadata": {},
   "source": [
    "# 高阶函数\n",
    "一个函数接收另一个函数作为参数\n",
    "\n",
    "\n",
    "\n",
    "\n",
    "\n",
    "# 常用内置高阶函数\n",
    "\n",
    "1. map: 输入函数func和*iterables, 返回一个迭代器\n",
    "\n",
    "2. reduce: reduce 函数需要传入一个有两个参数的函数，然后用这个函数从左至右顺序遍历序列并生成结果\n",
    "\n",
    "3. filter:  函数用来过滤序列中不符合条件的值，返回一个迭代器，该迭代器生成那些函数(项)为 true 的 iterable 项。如果函数为 None，则返回为 true 的项。\n",
    "\n",
    "4. sorted: 函数默认将序列升序排列后返回一个新的 list，还可以自定义键函数来进行排序，也可以设置 reverse 参数确定是升序还是降序，如果 reverse = True 则为降序。key # 可以用来计算的排序函数。\n",
    "\n",
    "5. zip：将迭代器的对象作为参数，将对象中的元素打包成元祖，返回元组组成的列表\n",
    "和生成表达式不同的是循环是各自循环而不是循环多层"
   ]
  },
  {
   "cell_type": "code",
   "execution_count": 32,
   "metadata": {},
   "outputs": [
    {
     "name": "stdout",
     "output_type": "stream",
     "text": [
      "[3, 2, 4, 1] [1, 2, 3, 4] [4, 3, 2, 1]\n",
      "[('b', 2), ('a', 1), ('c', 3), ('d', 4)] [('a', 1), ('b', 2), ('c', 3), ('d', 4)]\n",
      "[1, 2]\n",
      "[1, 2, 3]\n"
     ]
    }
   ],
   "source": [
    "# sort使用\n",
    "\n",
    "l=[3, 2, 4, 1]\n",
    "l1 = sorted(l)  # 产生一个新的对象\n",
    "l2 = sorted(l, reverse=True)  # 产生一个新的对象\n",
    "print(l, l1, l2)\n",
    "\n",
    "def compare(x1, x2):\n",
    "\tif x1>x2:\n",
    "\t\treturn 1\n",
    "\telif x1<x2:\n",
    "\t\treturn -1\n",
    "\telse:\n",
    "\t\treturn 0\n",
    "\n",
    "L=[('b',2),('a',1),('c',3),('d',4)]\n",
    "L1 = sorted(L, key=lambda x:x[1])\n",
    "# python3之后就没有cmp了！！！\n",
    "# L2 = sorted(L, cmp=lambda x, y:compare(x[1], y[1]))\n",
    "print(L, L1)\n",
    "\n",
    "\n",
    "dic = {1:5, 2:1}\n",
    "dic1 = sorted(dic)\n",
    "print(dic1)  # 字典默认按照key来排序\n",
    "\n",
    "l3 = [3, 1, 2]\n",
    "l3.sort()\n",
    "print(l3)  # IN PLACE： Stable sort"
   ]
  },
  {
   "cell_type": "code",
   "execution_count": 33,
   "metadata": {},
   "outputs": [
    {
     "name": "stdout",
     "output_type": "stream",
     "text": [
      "<zip object at 0x7f0a4db74740>\n",
      "[(1,), (2,), (3,), (4,)]\n",
      "[(1, 'a'), (2, 'b'), (3, 'c'), (4, 'd')]\n",
      "[1, 2, 3, 4] ['a', 'b', 'c', 'd']\n",
      "[(1, 2, 3, 4)]\n"
     ]
    }
   ],
   "source": [
    "# zip使用\n",
    "\n",
    "a = [1, 2, 3, 4]\n",
    "b = ['a', 'b', 'c', 'd']\n",
    "z = zip(a)\n",
    "print(z)\n",
    "# z[0] \n",
    "# 'zip' object is not subscriptable\n",
    "print(list(z))\n",
    "z_ab = zip(a, b)\n",
    "print(list(z_ab))\n",
    "a1, a2 = zip(*zip(a,b)) #解压缩\n",
    "a3 = zip(*zip(a)) #解压缩\n",
    "print(list(a1), list(a2))\n",
    "print(list(a3))"
   ]
  },
  {
   "cell_type": "code",
   "execution_count": 34,
   "metadata": {},
   "outputs": [
    {
     "name": "stdout",
     "output_type": "stream",
     "text": [
      "[(1, 3), (2, 4)]\n",
      "[([1, 2],), ([3, 4],)]\n"
     ]
    }
   ],
   "source": [
    "# 压缩和解压\n",
    "A = [[1, 2], [3, 4]]\n",
    "B = [i for i in zip(*A)]\n",
    "print(B)  # 解压，对应位置配对\n",
    "B_ = [i for i in zip(A)]\n",
    "print(B_)  # 压缩，只不过只有一个元素"
   ]
  },
  {
   "cell_type": "code",
   "execution_count": 39,
   "metadata": {},
   "outputs": [
    {
     "name": "stdout",
     "output_type": "stream",
     "text": [
      "<filter object at 0x7f0a4dad1d60> <filter object at 0x7f0a4dad12e0>\n",
      "[0, 0, 0] [1, 2, 2]\n"
     ]
    }
   ],
   "source": [
    "# Filter使用：\n",
    "def if_zero(x):\n",
    "\treturn x==0\n",
    "f_list1 = filter(if_zero, [0, 0, 1, 2, 0])\n",
    "f_list2 = filter(lambda x:x>0, [0, 0, 1, 2, 2, 0])\n",
    "print(f_list1, f_list2)\n",
    "print(list(f_list1), list(f_list2))"
   ]
  },
  {
   "cell_type": "markdown",
   "metadata": {},
   "source": [
    "# 缓存现象：\n",
    "在Python中，整数和短小的字符，\n",
    "Python都会缓存这些对象，以便重\n",
    "复使用，不是频繁的建立和销毁。当\n",
    "创建多个等于1的引用时，实际上是\n",
    "让这些引用指向了同一个对象。\n",
    "\n"
   ]
  },
  {
   "cell_type": "code",
   "execution_count": 41,
   "metadata": {},
   "outputs": [
    {
     "name": "stdout",
     "output_type": "stream",
     "text": [
      "12762\n",
      "12759\n"
     ]
    }
   ],
   "source": [
    "from sys import getrefcount as grc\n",
    "a=1\n",
    "print(grc(a))\n",
    "b=1\n",
    "print(grc(a))  # 结果很大，且不是差1，说明直接使用的缓存，并且有很多地方共同引用这个1！！！"
   ]
  },
  {
   "cell_type": "markdown",
   "metadata": {},
   "source": [
    "# 浅拷贝： \n",
    "直接引用"
   ]
  },
  {
   "cell_type": "code",
   "execution_count": 26,
   "metadata": {},
   "outputs": [
    {
     "name": "stdout",
     "output_type": "stream",
     "text": [
      "[1, 2, ['a', 'b', 'c']] [1, 2, ['a', 'b', 'c']]\n",
      "[1, 2, ['a', 'b', 'c'], 3] [1, 2, ['a', 'b', 'c']]\n"
     ]
    }
   ],
   "source": [
    "# 浅拷贝\n",
    "import copy\n",
    "i = [1, 2, ['a', 'b']]\n",
    "a = copy.copy(i)  # 浅拷贝:把容器i的内容直接作为引用传到新的容器a\n",
    "# 也就是容器前面几项内容是被共享的，被多次引用\n",
    "a[2].append('c')\n",
    "print(a, i)\n",
    "# 改变共同引用的都会起效果\n",
    "a.append(3)\n",
    "# 加新的项，不再共同引用新的\n",
    "print(a, i)"
   ]
  },
  {
   "cell_type": "markdown",
   "metadata": {},
   "source": [
    "# 深拷贝\n",
    "复制一份"
   ]
  },
  {
   "cell_type": "code",
   "execution_count": 27,
   "metadata": {},
   "outputs": [
    {
     "name": "stdout",
     "output_type": "stream",
     "text": [
      "[1, 2, ['a', 'b', 'c']] [1, 2, ['a', 'b']]\n",
      "[1, 2, ['a', 'b', 'c'], 3] [1, 2, ['a', 'b']]\n"
     ]
    }
   ],
   "source": [
    "# 深拷贝\n",
    "import copy\n",
    "i = [1, 2, ['a', 'b']]\n",
    "a = copy.deepcopy(i)  # 深拷贝：完全被重新生成\n",
    "a[2].append('c')\n",
    "print(a, i)\n",
    "a.append(3)\n",
    "print(a, i)"
   ]
  },
  {
   "cell_type": "markdown",
   "metadata": {},
   "source": [
    "python的赋值本质上就是一个给引用取名字的过程\n",
    "\n",
    "赋值操作或者在容器中包含对象就会 引用++\n",
    "\n",
    "引用--的情况：离开namespace， 从容器移除，名字被del销毁，一个名字被绑定成另外一个对象\n",
    "\n",
    "引用计数为0时自动调用对象回收机制，防止内存泄漏"
   ]
  },
  {
   "cell_type": "code",
   "execution_count": 4,
   "metadata": {},
   "outputs": [
    {
     "name": "stdout",
     "output_type": "stream",
     "text": [
      "3\n",
      "3\n",
      "4 4\n",
      "['num3', 'num1']\n",
      "6 6\n",
      "5\n",
      "6\n",
      "5\n"
     ]
    }
   ],
   "source": [
    "from sys import getrefcount as grc\n",
    "num1 = 1331218\n",
    "print(grc(num1))\n",
    "num2 = num1+1\n",
    "print(grc(num1)) # num2 是新的数\n",
    "num3 = num1\n",
    "print(grc(num1), grc(num3))\n",
    "# print(globals())  # 各种全局变量 \n",
    "ref_dict = dict(globals())  # 全局引用表\n",
    "print([ref for ref in ref_dict if ref_dict[ref] is num3]) \n",
    "# 和num3 id一样的\n",
    "# 数组中又被引用2次\n",
    "print(grc(num1), grc(num3))\n",
    "del num1\n",
    "print(grc(num3))\n",
    "num4=num3\n",
    "print(grc(num4))\n",
    "num3=2\n",
    "# num3不再引用原来的id，故减1\n",
    "print(grc(num4))"
   ]
  },
  {
   "cell_type": "markdown",
   "metadata": {},
   "source": [
    "# python传参都是传引用，会修改相关变量\n",
    "参数，返回值都是引用"
   ]
  },
  {
   "cell_type": "code",
   "execution_count": 11,
   "metadata": {},
   "outputs": [
    {
     "name": "stdout",
     "output_type": "stream",
     "text": [
      "139682607450448\n",
      "139682607450448\n",
      "6\n",
      "2\n",
      "139682241806720\n",
      "1124234536\n",
      "[1, 2, 5]\n",
      "139682607450448\n"
     ]
    }
   ],
   "source": [
    "from sys import getrefcount as gfc\n",
    "def f(num, list):\n",
    "\tnum1 = num\n",
    "\tprint(id(num))\n",
    "\tprint(grc(num))\n",
    "\tnum += 1\n",
    "\tprint(grc(num))\n",
    "\tprint(id(num)) # 这时，num+1就成为一个新的对象被num引用\n",
    "\t \n",
    "\tlist[2]=5\n",
    "\treturn num1, list\n",
    "\n",
    "n = 1124234536\n",
    "l = [1, 2, 3]\n",
    "print(id(n))\n",
    "num_, list_ = f(n, l)  # 结果显示就是传引用，也就是函数会直接影响外面（类似浅拷贝，值复制引用，而不是新建一个对象复制值）\n",
    "print(n)\n",
    "print(l) # l被修改，说明确实传引用,list[2]指向新的变量\n",
    "print(id(num_))  # 返回值也是传引用"
   ]
  },
  {
   "cell_type": "markdown",
   "metadata": {},
   "source": [
    "# 变参数列表\n",
    "\n",
    "*args and **kwargs支持不定参数数量的函数定义\n",
    "\n",
    "*args：容器（列表）形式的参数表达\n",
    "\n",
    "**kwargs：key-value format parameters\n",
    "\n",
    "使用函数时，不用刻意变成列表，只要正常传参就可以， 在函数中使用的时候注意args看作一个列表直接使用就可以\n",
    "\n",
    "后面可以直接使用xxx = xxx来传参\n",
    "\n",
    "注意在函数定义时，关键是在*和**的使用，具体叫什么没有影响"
   ]
  },
  {
   "cell_type": "code",
   "execution_count": 13,
   "metadata": {},
   "outputs": [
    {
     "name": "stdout",
     "output_type": "stream",
     "text": [
      "1 2 (3, 4) {'s': 1, 'k': 'kk'}\n"
     ]
    }
   ],
   "source": [
    "def f(a, b, *c, **d):\n",
    "\tprint(a, b, c, d)\n",
    "\treturn \n",
    "f(1, 2, 3, 4, s=1, k='kk')"
   ]
  },
  {
   "cell_type": "code",
   "execution_count": 15,
   "metadata": {},
   "outputs": [
    {
     "data": {
      "text/plain": [
       "[1, 2, 4, 5, 6, 9, 24]"
      ]
     },
     "execution_count": 15,
     "metadata": {},
     "output_type": "execute_result"
    }
   ],
   "source": [
    "# 快排\n",
    "def quick_sort(arr):\n",
    "\tif(len(arr)<=1):\n",
    "\t\treturn arr\n",
    "\tpivot = arr[len(arr)//2]\n",
    "\tleft = [x for x in arr if x<pivot]\n",
    "\tmiddle = [x for x in arr if x==pivot]  # 单独写出来帮助把中间重复值替换掉\n",
    "\tright = [x for x in arr if x>pivot]\n",
    "\treturn quick_sort(left)+middle+quick_sort(right)\n",
    "quick_sort([2, 4, 1, 5, 6, 9, 24])\n"
   ]
  },
  {
   "cell_type": "code",
   "execution_count": 18,
   "metadata": {},
   "outputs": [
    {
     "data": {
      "text/plain": [
       "[[1, 2, 4, 5, 6, 9, 24]]"
      ]
     },
     "execution_count": 18,
     "metadata": {},
     "output_type": "execute_result"
    }
   ],
   "source": [
    "# lambda+快排\n",
    "def q_sort(arr):\n",
    "\tif(len(arr)<=1):\n",
    "\t\treturn arr\n",
    "\treturn [quick_sort(list(filter(lambda x: x<=arr[0], arr[1:])))+[arr[0]]+quick_sort(list(filter(lambda x: x>arr[0], arr[1:])))]\n",
    "# 每次把第一个作为哨兵并且拿出来\n",
    "q_sort([2, 4, 1, 5, 6, 9, 24])"
   ]
  },
  {
   "cell_type": "markdown",
   "metadata": {},
   "source": [
    "\n",
    "# lambda表达式\n",
    "匿名函数\n",
    "\n",
    "注意有些函数操作返回新的操作好的量，传入的引用不会被改变\n",
    "\n",
    "有些可以直接改变引用（类似加不加constant的区别）"
   ]
  },
  {
   "cell_type": "markdown",
   "metadata": {},
   "source": [
    "# 生成器函数\n",
    "yield，异步地挂起，等待再次调用\n",
    "\n",
    "返回一个生成器对象\n",
    "\n",
    "直接可以被next()调用\n",
    "\n",
    "产生的生成器自己记录yield到哪里了\n",
    "\n",
    "\n",
    "=的物理本质是完全不一样的\n",
    "\n",
    "原函数是一个生成器函数类型\n",
    "\n",
    "等于号左边是一个生成器对象实例"
   ]
  },
  {
   "cell_type": "code",
   "execution_count": 45,
   "metadata": {},
   "outputs": [
    {
     "name": "stdout",
     "output_type": "stream",
     "text": [
      "<generator object f at 0x7f0a4dcb4a50>\n",
      "5 4 3\n",
      "5 2 4\n",
      "4321"
     ]
    }
   ],
   "source": [
    "def f(n):\n",
    "\twhile(n>0):\n",
    "\t\tyield n\n",
    "\t\tn-=1\n",
    "a = f(5)  # 这个等于，相当于表示了一个对象，这个对象的\n",
    "b = f(5)\n",
    "c = f(4)\n",
    "print(a)\n",
    "print(next(a), next(a), next(a))\n",
    "print(next(b), next(a), next(b))  # 多个实例\n",
    "for i in c:\n",
    "\tprint(i, end='')"
   ]
  },
  {
   "cell_type": "markdown",
   "metadata": {},
   "source": [
    "# 嵌套函数\n",
    "* 函数内部的函数外部不可见\n",
    "* 返回函数实例而不是函数\n",
    "* 大函数定义类，返回这个类的实例\n",
    "* 可以根据参数来定制函数\n",
    "* 函数闭包\n",
    "* 内部函数是可见大函数的参数的，共享了内部的子环境（私有环境）"
   ]
  },
  {
   "cell_type": "code",
   "execution_count": 49,
   "metadata": {},
   "outputs": [
    {
     "name": "stdout",
     "output_type": "stream",
     "text": [
      "2\n",
      "<function f.<locals>.g at 0x7f0a4dd49b80>\n",
      "2\n"
     ]
    }
   ],
   "source": [
    "# 嵌套函数\n",
    "def  f(n):\n",
    "\tdef g():\n",
    "\t\treturn n+1\n",
    "\treturn g()\n",
    "print(f(1))  # 调用内部函数\n",
    "\n",
    "# 函数闭包\n",
    "def  f(n):\n",
    "\tdef g():\n",
    "\t\treturn n+1\n",
    "\treturn g\n",
    "print(f(1)) # 返回函数\n",
    "\n",
    "print(f(1)())\n"
   ]
  },
  {
   "cell_type": "markdown",
   "metadata": {},
   "source": [
    "# 变量作用域\n",
    "* 引用顺序：当前局部，外层作用域，当前模块全局，python内置\n",
    "* global宣布全局变量，哪里都可以用\n",
    "* nonlocal只能用于嵌套函数，且外层定义了该局部变量\n"
   ]
  },
  {
   "cell_type": "code",
   "execution_count": 50,
   "metadata": {},
   "outputs": [
    {
     "name": "stdout",
     "output_type": "stream",
     "text": [
      "inner\n",
      "h\n",
      "h\n",
      "i\n"
     ]
    }
   ],
   "source": [
    "def f():\n",
    "\ta='inner'\n",
    "\tdef g():\n",
    "\t\ta = 'g'\n",
    "\tdef h():\n",
    "\t\tnonlocal a\n",
    "\t\ta = 'h'\n",
    "\tdef i():\n",
    "\t\tglobal a\n",
    "\t\ta = 'i'\n",
    "\tg()\n",
    "\tprint(a)  # g中局部变量不影响\n",
    "\th()\n",
    "\tprint(a)  # nonlocal可以影响外层的inner\n",
    "\ti()\n",
    "\tprint(a)  # 直接改变global，因此不改变inner\n",
    "\treturn \n",
    "a='global'\n",
    "f()\n",
    "print(a) # 被i函数改变"
   ]
  },
  {
   "cell_type": "markdown",
   "metadata": {},
   "source": [
    "# 函数闭包\n",
    "* 返回函数实例，而不是调用函数"
   ]
  },
  {
   "cell_type": "code",
   "execution_count": 55,
   "metadata": {},
   "outputs": [
    {
     "name": "stdout",
     "output_type": "stream",
     "text": [
      "<function f.<locals>.g at 0x7f0a4dc6f8b0>\n",
      "5\n",
      "3  1\n"
     ]
    }
   ],
   "source": [
    "def  f(n):\n",
    "\tdef g(a=0):\n",
    "\t\treturn n+a+1\n",
    "\treturn g\n",
    "print(f(1)) # 返回函数\n",
    "print(f(1)(3))\n",
    "\n",
    "# 函数模板：输入函数作为外层参数，制定函数并返回加工后的函数\n",
    "# 对func加工，把输入的函数加工后变成新的函数输出出来\n",
    "def add(x):\n",
    "\treturn x+1\n",
    "def dec(x):\n",
    "\treturn x-1\n",
    "def f(func):\n",
    "\tdef oprate(x):\n",
    "\t\treturn func(x)\n",
    "\treturn oprate\n",
    "add_op = f(add)\n",
    "dec_op = f(dec)\n",
    "print(add_op(2), end = '  ')\n",
    "print(dec_op(2))\n"
   ]
  },
  {
   "cell_type": "markdown",
   "metadata": {},
   "source": [
    "# 函数装饰器\n",
    "* 传入函数，在内部嵌套函数对函数进行包装返回新的函数\n",
    "* 类型抽象体系\n",
    "* 抽取共性操作作为功能切片， 对相同的一类函数进行包装\n",
    "\n"
   ]
  },
  {
   "cell_type": "code",
   "execution_count": 17,
   "metadata": {},
   "outputs": [
    {
     "name": "stdout",
     "output_type": "stream",
     "text": [
      "decorated f1 add1\n",
      "decorated f2 add2\n",
      "f_ decorated f3\n"
     ]
    }
   ],
   "source": [
    "# 函数类的统一操作，给一个函数，包装之后给出包装后的函数\n",
    "def f(func, s):\n",
    "\tdef g():\n",
    "\t\tprint(\"decorated\", end=' ')\n",
    "\t\tfunc(s)\n",
    "\treturn g\n",
    "\n",
    "def f1(s):\n",
    "\tprint(\"f1\", s)\n",
    "def f2(s):\n",
    "\tprint(\"f2\", s)\n",
    "\n",
    "decorated_f1 = f(f1, 'add1')\n",
    "decorated_f2 = f(f2, 'add2')\n",
    "decorated_f1()\n",
    "decorated_f2()\n",
    "\n",
    "def f_(func):\n",
    "\tdef g():\n",
    "\t\tprint(\"f_ decorated\", end=' ')\n",
    "\t\tfunc()\n",
    "\treturn g\n",
    "\n",
    "@f_\n",
    "def f3():\n",
    "\tprint(\"f3\")\n",
    "f3()  # 直接就成立装饰后的实例\n"
   ]
  },
  {
   "cell_type": "code",
   "execution_count": 15,
   "metadata": {},
   "outputs": [
    {
     "name": "stdout",
     "output_type": "stream",
     "text": [
      "decorator1 f1\n",
      "decorator2 f2\n"
     ]
    }
   ],
   "source": [
    "# 装饰器也可以抽象出来一层，每次定义不同的装饰器来进行操作\n",
    "def general_decorator(arg1):\n",
    "\tdef specify_decorator(func):  # 内层参数最好只有一个func，其他需要抽象的直接放到装饰器抽象层\n",
    "\t\tdef g():\n",
    "\t\t\tprint(arg1, end=\" \")\n",
    "\t\t\tfunc()\n",
    "\t\treturn g\n",
    "\treturn specify_decorator\n",
    "\n",
    "@general_decorator(\"decorator1\")  # 相当于实例化了一个装饰器\n",
    "def f1():\n",
    "\tprint(\"f1\")\n",
    "\n",
    "@general_decorator(\"decorator2\")\n",
    "def f2():\n",
    "\tprint(\"f2\")\n",
    "\n",
    "f1()\n",
    "f2()"
   ]
  },
  {
   "cell_type": "code",
   "execution_count": 32,
   "metadata": {},
   "outputs": [
    {
     "name": "stdout",
     "output_type": "stream",
     "text": [
      "******************************\n",
      "$$$$$$$$$$$$$$$$$$$$$$$$$$$$$$\n",
      "aaaaaaa\n",
      "$$$$$$$$$$$$$$$$$$$$$$$$$$$$$$\n",
      "******************************\n",
      "$$$$$$$$$$$$$$$$$$$$$$$$$$$$$$\n",
      "******************************\n",
      "Asdasd\n",
      "******************************\n",
      "$$$$$$$$$$$$$$$$$$$$$$$$$$$$$$\n"
     ]
    }
   ],
   "source": [
    "def decorator1(func):\n",
    "\tdef g(*args):\n",
    "\t\tprint(\"*\"*30)\n",
    "\t\tfunc(*args)\n",
    "\t\tprint(\"*\"*30)\n",
    "\treturn g\n",
    "\n",
    "def decorator2(func):\n",
    "\tdef g(*args):\n",
    "\t\tprint(\"$\"*30)\n",
    "\t\tfunc(*args)\n",
    "\t\tprint(\"$\"*30)\n",
    "\treturn g\n",
    "\n",
    "@decorator1  # 对半成品加工\n",
    "@decorator2  # 内层装饰器，因此是初步加工\n",
    "def f(msg):\n",
    "\tprint(msg)\n",
    "f(\"aaaaaaa\")\n",
    "# 等价于 f=decorator1(decorator2(f))  返回的g是可以吃*args的参数的\n",
    "\n",
    "\n",
    "@decorator1\n",
    "def h(msg):  # h是decorator1加工的半成品\n",
    "\tprint(msg)\n",
    "\n",
    "h_ = decorator2(h)  # 继续用decorator2加工h\n",
    "h_(\"Asdasd\")"
   ]
  },
  {
   "cell_type": "code",
   "execution_count": 36,
   "metadata": {},
   "outputs": [
    {
     "name": "stdout",
     "output_type": "stream",
     "text": [
      "0 not in memory0  1 not in memory1  2 not in memory2  3 not in memory3  4 not in memory4  \n",
      "0  1  2  3  4  "
     ]
    }
   ],
   "source": [
    "# 记忆化存储\n",
    "\n",
    "def get_interator(func):\n",
    "\tmemory = []\n",
    "\tdef g(n):\n",
    "\t\tfor i in range(n):\n",
    "\t\t\tif i not in memory:\n",
    "\t\t\t\tprint(\"%d not in memory\"%(i), end='')\n",
    "\t\t\t\tmemory.append(i)\n",
    "\t\t\tfunc(i)\n",
    "\n",
    "\treturn g\n",
    "\n",
    "\n",
    "@get_interator\n",
    "def func(n):\n",
    "\tprint(n, end=\"  \")\n",
    "\n",
    "func(5)\n",
    "print(\"\\n\", end='')\n",
    "func(5)  # 共享memory"
   ]
  },
  {
   "cell_type": "code",
   "execution_count": null,
   "metadata": {},
   "outputs": [],
   "source": []
  }
 ],
 "metadata": {
  "interpreter": {
   "hash": "31f2aee4e71d21fbe5cf8b01ff0e069b9275f58929596ceb00d14d90e3e16cd6"
  },
  "kernelspec": {
   "display_name": "Python 3.8.10 64-bit",
   "language": "python",
   "name": "python3"
  },
  "language_info": {
   "codemirror_mode": {
    "name": "ipython",
    "version": 3
   },
   "file_extension": ".py",
   "mimetype": "text/x-python",
   "name": "python",
   "nbconvert_exporter": "python",
   "pygments_lexer": "ipython3",
   "version": "3.8.10"
  },
  "orig_nbformat": 4
 },
 "nbformat": 4,
 "nbformat_minor": 2
}
