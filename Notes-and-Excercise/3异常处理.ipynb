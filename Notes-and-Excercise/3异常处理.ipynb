{
 "cells": [
  {
   "cell_type": "markdown",
   "metadata": {},
   "source": [
    "# 异常处理\n",
    "\t异常处理\n",
    "\t捕捉异常可以使用try/except语句。\n",
    "\ttry/except语句用来检测try语句块中的错误，从而让except语句捕获异常信息并处理。\n",
    "\t如果你不想在异常发生时结束你的程序，只需在try里捕获它。 "
   ]
  },
  {
   "cell_type": "code",
   "execution_count": 4,
   "metadata": {},
   "outputs": [
    {
     "name": "stdout",
     "output_type": "stream",
     "text": [
      "Error\n",
      "Error\n",
      "Error\n",
      "whatever\n"
     ]
    }
   ],
   "source": [
    "try:\n",
    "\topen('file.txt', mode='r')\n",
    "except IOError:  # 检测错误，并不报错\n",
    "\tprint(\"Error\")\n",
    "else:\n",
    "\tprint(\"Right\")\n",
    "\n",
    "\n",
    "try:\n",
    "\topen('file.txt', mode='r')\n",
    "except BaseException:  # 所有错误的基类，比较通用， 也可以不加\n",
    "\tprint(\"Error\")\n",
    "else:\n",
    "\tprint(\"Right\")\n",
    "\n",
    "try:\n",
    "\topen('file.txt', mode='r')\n",
    "except:  # 不加类型\n",
    "\tprint(\"Error\")\n",
    "else:\n",
    "\tprint(\"Right\")\n",
    "finally: # 总会过来\n",
    "\tprint(\"whatever\")\n"
   ]
  },
  {
   "cell_type": "code",
   "execution_count": 10,
   "metadata": {},
   "outputs": [
    {
     "name": "stdout",
     "output_type": "stream",
     "text": [
      "<class 'Exception'>\n"
     ]
    }
   ],
   "source": [
    "def  f(n):\n",
    "\tif n<0:\n",
    "\t\traise Exception(\"minus num!\", n)\n",
    "try:\n",
    "\tf(-1)\n",
    "except Exception:\n",
    "\tprint(Exception)"
   ]
  },
  {
   "cell_type": "code",
   "execution_count": 11,
   "metadata": {},
   "outputs": [
    {
     "ename": "Exception",
     "evalue": "('minus num!', -1)",
     "output_type": "error",
     "traceback": [
      "\u001b[0;31m---------------------------------------------------------------------------\u001b[0m",
      "\u001b[0;31mException\u001b[0m                                 Traceback (most recent call last)",
      "\u001b[1;32m/home/gyr/file/course/Deep-Python/Notes-and-Excercise/3异常处理.ipynb Cell 4'\u001b[0m in \u001b[0;36m<module>\u001b[0;34m\u001b[0m\n\u001b[0;32m----> <a href='vscode-notebook-cell:/home/gyr/file/course/Deep-Python/Notes-and-Excercise/3%E5%BC%82%E5%B8%B8%E5%A4%84%E7%90%86.ipynb#ch0000003?line=0'>1</a>\u001b[0m f(\u001b[39m-\u001b[39;49m\u001b[39m1\u001b[39;49m)\n",
      "\u001b[1;32m/home/gyr/file/course/Deep-Python/Notes-and-Excercise/3异常处理.ipynb Cell 3'\u001b[0m in \u001b[0;36mf\u001b[0;34m(n)\u001b[0m\n\u001b[1;32m      <a href='vscode-notebook-cell:/home/gyr/file/course/Deep-Python/Notes-and-Excercise/3%E5%BC%82%E5%B8%B8%E5%A4%84%E7%90%86.ipynb#ch0000002?line=0'>1</a>\u001b[0m \u001b[39mdef\u001b[39;00m  \u001b[39mf\u001b[39m(n):\n\u001b[1;32m      <a href='vscode-notebook-cell:/home/gyr/file/course/Deep-Python/Notes-and-Excercise/3%E5%BC%82%E5%B8%B8%E5%A4%84%E7%90%86.ipynb#ch0000002?line=1'>2</a>\u001b[0m \t\u001b[39mif\u001b[39;00m n\u001b[39m<\u001b[39m\u001b[39m0\u001b[39m:\n\u001b[0;32m----> <a href='vscode-notebook-cell:/home/gyr/file/course/Deep-Python/Notes-and-Excercise/3%E5%BC%82%E5%B8%B8%E5%A4%84%E7%90%86.ipynb#ch0000002?line=2'>3</a>\u001b[0m \t\t\u001b[39mraise\u001b[39;00m \u001b[39mException\u001b[39;00m(\u001b[39m\"\u001b[39m\u001b[39mminus num!\u001b[39m\u001b[39m\"\u001b[39m, n)\n",
      "\u001b[0;31mException\u001b[0m: ('minus num!', -1)"
     ]
    }
   ],
   "source": [
    "# Traceback\n",
    "f(-1)"
   ]
  },
  {
   "cell_type": "code",
   "execution_count": 29,
   "metadata": {},
   "outputs": [
    {
     "name": "stdout",
     "output_type": "stream",
     "text": [
      "Calculating 1/a\n",
      "Error! The info is: (<class 'TypeError'>, TypeError(\"unsupported operand type(s) for /: 'int' and 'str'\"), <traceback object at 0x7f323178d340>)\n",
      "\n",
      "Calculating 1/0\n",
      "Error! The info is: (<class 'ZeroDivisionError'>, ZeroDivisionError('division by zero'), <traceback object at 0x7f32318e9b40>)\n",
      "\n",
      "Calculating 1/2\n",
      "No Error Occured\n",
      "\n"
     ]
    }
   ],
   "source": [
    "# print Error Type!!!\n",
    "import sys\n",
    "l = ['a', 0, 2]\n",
    "for i in l:\n",
    "\ttry:\n",
    "\t\tprint(\"Calculating 1/{}\".format(i))\n",
    "\t\t1/i\n",
    "\texcept:\n",
    "\t\tprint('Error! The info is:', sys.exc_info())\n",
    "\telse:\n",
    "\t\tprint(\"No Error Occured\")\n",
    "\tfinally:\n",
    "\t\tprint()\n"
   ]
  },
  {
   "cell_type": "code",
   "execution_count": 22,
   "metadata": {},
   "outputs": [
    {
     "name": "stdout",
     "output_type": "stream",
     "text": [
      "('TypeError', <class 'TypeError'>)\n",
      "('ImportError', <class 'ImportError'>)\n",
      "('ModuleNotFoundError', <class 'ModuleNotFoundError'>)\n",
      "('OSError', <class 'OSError'>)\n",
      "('EnvironmentError', <class 'OSError'>)\n",
      "('IOError', <class 'OSError'>)\n",
      "('EOFError', <class 'EOFError'>)\n",
      "('RuntimeError', <class 'RuntimeError'>)\n",
      "('RecursionError', <class 'RecursionError'>)\n",
      "('NotImplementedError', <class 'NotImplementedError'>)\n",
      "('NameError', <class 'NameError'>)\n",
      "('UnboundLocalError', <class 'UnboundLocalError'>)\n",
      "('AttributeError', <class 'AttributeError'>)\n",
      "('SyntaxError', <class 'SyntaxError'>)\n",
      "('IndentationError', <class 'IndentationError'>)\n",
      "('TabError', <class 'TabError'>)\n",
      "('LookupError', <class 'LookupError'>)\n",
      "('IndexError', <class 'IndexError'>)\n",
      "('KeyError', <class 'KeyError'>)\n",
      "('ValueError', <class 'ValueError'>)\n",
      "('UnicodeError', <class 'UnicodeError'>)\n",
      "('UnicodeEncodeError', <class 'UnicodeEncodeError'>)\n",
      "('UnicodeDecodeError', <class 'UnicodeDecodeError'>)\n",
      "('UnicodeTranslateError', <class 'UnicodeTranslateError'>)\n",
      "('AssertionError', <class 'AssertionError'>)\n",
      "('ArithmeticError', <class 'ArithmeticError'>)\n",
      "('FloatingPointError', <class 'FloatingPointError'>)\n",
      "('OverflowError', <class 'OverflowError'>)\n",
      "('ZeroDivisionError', <class 'ZeroDivisionError'>)\n",
      "('SystemError', <class 'SystemError'>)\n",
      "('ReferenceError', <class 'ReferenceError'>)\n",
      "('MemoryError', <class 'MemoryError'>)\n",
      "('BufferError', <class 'BufferError'>)\n",
      "('ConnectionError', <class 'ConnectionError'>)\n",
      "('BlockingIOError', <class 'BlockingIOError'>)\n",
      "('BrokenPipeError', <class 'BrokenPipeError'>)\n",
      "('ChildProcessError', <class 'ChildProcessError'>)\n",
      "('ConnectionAbortedError', <class 'ConnectionAbortedError'>)\n",
      "('ConnectionRefusedError', <class 'ConnectionRefusedError'>)\n",
      "('ConnectionResetError', <class 'ConnectionResetError'>)\n",
      "('FileExistsError', <class 'FileExistsError'>)\n",
      "('FileNotFoundError', <class 'FileNotFoundError'>)\n",
      "('IsADirectoryError', <class 'IsADirectoryError'>)\n",
      "('NotADirectoryError', <class 'NotADirectoryError'>)\n",
      "('InterruptedError', <class 'InterruptedError'>)\n",
      "('PermissionError', <class 'PermissionError'>)\n",
      "('ProcessLookupError', <class 'ProcessLookupError'>)\n",
      "('TimeoutError', <class 'TimeoutError'>)\n"
     ]
    }
   ],
   "source": [
    "# 打印内置异常\n",
    "ans = locals()['__builtins__'].__dict__\n",
    "for k, v in ans.items():\n",
    "\tif 'Error' in k:\n",
    "\t\tprint((k, v))"
   ]
  },
  {
   "cell_type": "code",
   "execution_count": null,
   "metadata": {},
   "outputs": [],
   "source": []
  }
 ],
 "metadata": {
  "interpreter": {
   "hash": "31f2aee4e71d21fbe5cf8b01ff0e069b9275f58929596ceb00d14d90e3e16cd6"
  },
  "kernelspec": {
   "display_name": "Python 3.8.10 64-bit",
   "language": "python",
   "name": "python3"
  },
  "language_info": {
   "codemirror_mode": {
    "name": "ipython",
    "version": 3
   },
   "file_extension": ".py",
   "mimetype": "text/x-python",
   "name": "python",
   "nbconvert_exporter": "python",
   "pygments_lexer": "ipython3",
   "version": "3.8.10"
  },
  "orig_nbformat": 4
 },
 "nbformat": 4,
 "nbformat_minor": 2
}
