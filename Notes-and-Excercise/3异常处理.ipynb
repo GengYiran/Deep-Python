{
 "cells": [
  {
   "cell_type": "markdown",
   "metadata": {},
   "source": [
    "# 异常处理\n",
    "\t异常处理\n",
    "\t捕捉异常可以使用try/except语句。\n",
    "\ttry/except语句用来检测try语句块中的错误，从而让except语句捕获异常信息并处理。\n",
    "\t如果你不想在异常发生时结束你的程序，只需在try里捕获它。 "
   ]
  },
  {
   "cell_type": "code",
   "execution_count": 6,
   "metadata": {},
   "outputs": [
    {
     "name": "stdout",
     "output_type": "stream",
     "text": [
      "Error\n",
      "Error\n"
     ]
    }
   ],
   "source": [
    "try:\n",
    "\topen('file.txt', mode='r')\n",
    "except IOError:  # 检测错误，并不报错\n",
    "\tprint(\"Error\")\n",
    "else:\n",
    "\tprint(\"Right\")\n",
    "\n",
    "\n",
    "try:\n",
    "\topen('file.txt', mode='r')\n",
    "except BaseException:  # 所有错误的基类，比较通用\n",
    "\tprint(\"Error\")\n",
    "else:\n",
    "\tprint(\"Right\")"
   ]
  },
  {
   "cell_type": "code",
   "execution_count": null,
   "metadata": {},
   "outputs": [],
   "source": []
  }
 ],
 "metadata": {
  "interpreter": {
   "hash": "31f2aee4e71d21fbe5cf8b01ff0e069b9275f58929596ceb00d14d90e3e16cd6"
  },
  "kernelspec": {
   "display_name": "Python 3.8.10 64-bit",
   "language": "python",
   "name": "python3"
  },
  "language_info": {
   "codemirror_mode": {
    "name": "ipython",
    "version": 3
   },
   "file_extension": ".py",
   "mimetype": "text/x-python",
   "name": "python",
   "nbconvert_exporter": "python",
   "pygments_lexer": "ipython3",
   "version": "3.8.10"
  },
  "orig_nbformat": 4
 },
 "nbformat": 4,
 "nbformat_minor": 2
}
