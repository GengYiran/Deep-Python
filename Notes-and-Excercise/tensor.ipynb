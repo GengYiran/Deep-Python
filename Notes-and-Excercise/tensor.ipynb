{
 "cells": [
  {
   "cell_type": "code",
   "execution_count": 2,
   "metadata": {},
   "outputs": [],
   "source": [
    "import torch"
   ]
  },
  {
   "cell_type": "code",
   "execution_count": 3,
   "metadata": {},
   "outputs": [
    {
     "name": "stdout",
     "output_type": "stream",
     "text": [
      "tensor([[1, 2, 3],\n",
      "        [3, 4, 5]])\n",
      "tensor([[1, 2, 3, 1, 2, 3],\n",
      "        [3, 4, 5, 3, 4, 5]])\n",
      "tensor([[1, 2, 3],\n",
      "        [3, 4, 5],\n",
      "        [1, 2, 3],\n",
      "        [3, 4, 5]])\n",
      "torch.Size([1, 4, 9])\n",
      "torch.Size([1, 2, 3])\n"
     ]
    }
   ],
   "source": [
    "# repeat\n",
    "a = torch.tensor([[1, 2, 3], [3, 4, 5]])  # 2*3\n",
    "b = a.repeat((1, 2))  # 2*6\n",
    "c = a.repeat((2, 1))  # 4*3\n",
    "d = a.repeat((1, 2, 3))  # 1*4*9\n",
    "e = a.repeat((1, 1, 1))  # 1*2*3\n",
    "print(a)\n",
    "print(b)\n",
    "print(c)\n",
    "print(d.shape)\n",
    "print(e.shape)"
   ]
  },
  {
   "cell_type": "code",
   "execution_count": 5,
   "metadata": {},
   "outputs": [
    {
     "name": "stdout",
     "output_type": "stream",
     "text": [
      "torch.Size([2, 3, 5])\n",
      "tensor([[[ 0.0267,  1.2154, -0.4508,  0.9646,  1.2483],\n",
      "         [-1.4421, -0.4723,  0.5368, -1.0809, -1.0782],\n",
      "         [-0.4878,  0.1464,  0.3326,  0.5759,  0.7215]],\n",
      "\n",
      "        [[-0.5848, -0.7556, -0.5885, -1.0141,  0.2248],\n",
      "         [ 0.6022, -1.2206,  0.8756,  0.9993, -1.2468],\n",
      "         [ 0.3774,  0.2345,  0.8087,  0.4206,  0.1563]]])\n",
      "torch.Size([5, 2, 3])\n",
      "tensor([[[ 0.0267, -1.4421, -0.4878],\n",
      "         [-0.5848,  0.6022,  0.3774]],\n",
      "\n",
      "        [[ 1.2154, -0.4723,  0.1464],\n",
      "         [-0.7556, -1.2206,  0.2345]],\n",
      "\n",
      "        [[-0.4508,  0.5368,  0.3326],\n",
      "         [-0.5885,  0.8756,  0.8087]],\n",
      "\n",
      "        [[ 0.9646, -1.0809,  0.5759],\n",
      "         [-1.0141,  0.9993,  0.4206]],\n",
      "\n",
      "        [[ 1.2483, -1.0782,  0.7215],\n",
      "         [ 0.2248, -1.2468,  0.1563]]])\n"
     ]
    }
   ],
   "source": [
    "# permute 置换\n",
    "x = torch.randn(2, 3, 5)\n",
    "print(x.shape)\n",
    "print(x)\n",
    "x = x.permute(2, 0, 1)\n",
    "print(x.shape)\n",
    "print(x)"
   ]
  },
  {
   "cell_type": "code",
   "execution_count": null,
   "metadata": {},
   "outputs": [],
   "source": []
  }
 ],
 "metadata": {
  "interpreter": {
   "hash": "31f2aee4e71d21fbe5cf8b01ff0e069b9275f58929596ceb00d14d90e3e16cd6"
  },
  "kernelspec": {
   "display_name": "Python 3.8.10 64-bit",
   "language": "python",
   "name": "python3"
  },
  "language_info": {
   "codemirror_mode": {
    "name": "ipython",
    "version": 3
   },
   "file_extension": ".py",
   "mimetype": "text/x-python",
   "name": "python",
   "nbconvert_exporter": "python",
   "pygments_lexer": "ipython3",
   "version": "3.8.10"
  },
  "orig_nbformat": 4
 },
 "nbformat": 4,
 "nbformat_minor": 2
}
