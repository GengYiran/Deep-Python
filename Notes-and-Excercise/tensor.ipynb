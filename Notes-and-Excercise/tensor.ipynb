{
 "cells": [
  {
   "cell_type": "code",
   "execution_count": 1,
   "metadata": {},
   "outputs": [],
   "source": [
    "import torch"
   ]
  },
  {
   "cell_type": "code",
   "execution_count": 2,
   "metadata": {},
   "outputs": [
    {
     "name": "stdout",
     "output_type": "stream",
     "text": [
      "tensor([[1, 2, 3],\n",
      "        [3, 4, 5]])\n",
      "tensor([[1, 2, 3, 1, 2, 3],\n",
      "        [3, 4, 5, 3, 4, 5]])\n",
      "tensor([[1, 2, 3],\n",
      "        [3, 4, 5],\n",
      "        [1, 2, 3],\n",
      "        [3, 4, 5]])\n",
      "torch.Size([1, 4, 9])\n",
      "torch.Size([1, 2, 3])\n"
     ]
    }
   ],
   "source": [
    "# repeat\n",
    "a = torch.tensor([[1, 2, 3], [3, 4, 5]])  # 2*3\n",
    "b = a.repeat((1, 2))  # 2*6\n",
    "c = a.repeat((2, 1))  # 4*3\n",
    "d = a.repeat((1, 2, 3))  # 1*4*9\n",
    "e = a.repeat((1, 1, 1))  # 1*2*3\n",
    "print(a)\n",
    "print(b)\n",
    "print(c)\n",
    "print(d.shape)\n",
    "print(e.shape)"
   ]
  },
  {
   "cell_type": "code",
   "execution_count": 3,
   "metadata": {},
   "outputs": [
    {
     "name": "stdout",
     "output_type": "stream",
     "text": [
      "torch.Size([2, 3, 5])\n",
      "tensor([[[ 0.9614, -0.1410,  0.3901,  2.7002,  0.1288],\n",
      "         [-0.3735,  0.3699, -0.3304, -0.2866, -0.0275],\n",
      "         [-0.4707,  0.2714, -1.1361,  1.3180, -2.2495]],\n",
      "\n",
      "        [[-0.5228, -0.1276, -1.4814,  0.0572, -1.1219],\n",
      "         [-1.0866,  0.4324,  1.0709,  1.6383, -0.1924],\n",
      "         [ 0.7558,  1.5531, -1.2026,  2.2658,  0.2234]]])\n",
      "torch.Size([5, 2, 3])\n",
      "tensor([[[ 0.9614, -0.3735, -0.4707],\n",
      "         [-0.5228, -1.0866,  0.7558]],\n",
      "\n",
      "        [[-0.1410,  0.3699,  0.2714],\n",
      "         [-0.1276,  0.4324,  1.5531]],\n",
      "\n",
      "        [[ 0.3901, -0.3304, -1.1361],\n",
      "         [-1.4814,  1.0709, -1.2026]],\n",
      "\n",
      "        [[ 2.7002, -0.2866,  1.3180],\n",
      "         [ 0.0572,  1.6383,  2.2658]],\n",
      "\n",
      "        [[ 0.1288, -0.0275, -2.2495],\n",
      "         [-1.1219, -0.1924,  0.2234]]])\n"
     ]
    }
   ],
   "source": [
    "# permute 置换\n",
    "x = torch.randn(2, 3, 5)\n",
    "print(x.shape)\n",
    "print(x)\n",
    "x = x.permute(2, 0, 1)\n",
    "print(x.shape)\n",
    "print(x)"
   ]
  },
  {
   "cell_type": "code",
   "execution_count": 6,
   "metadata": {},
   "outputs": [
    {
     "name": "stdout",
     "output_type": "stream",
     "text": [
      "tensor([2.5000, 3.5000, 4.5000])\n",
      "tensor([2., 5.])\n"
     ]
    }
   ],
   "source": [
    "a = torch.tensor([[1., 2., 3.], [4., 5., 6.]])  # 2*3\n",
    "print(a.mean(dim=0))  # 3\n",
    "print(a.mean(dim=1))  # 2"
   ]
  },
  {
   "cell_type": "code",
   "execution_count": 10,
   "metadata": {},
   "outputs": [
    {
     "name": "stdout",
     "output_type": "stream",
     "text": [
      "tensor([[1., 2., 3.],\n",
      "        [4., 5., 6.],\n",
      "        [1., 2., 3.],\n",
      "        [4., 5., 6.]])\n",
      "torch.Size([2, 3])\n",
      "torch.Size([2, 3, 1])\n"
     ]
    }
   ],
   "source": [
    "print(torch.cat((a, a), dim=0))  # 3*3->4*3\n",
    "b = torch.unsqueeze(a, 2)\n",
    "print(a.shape)\n",
    "print(b.shape)"
   ]
  },
  {
   "cell_type": "code",
   "execution_count": null,
   "metadata": {},
   "outputs": [],
   "source": []
  }
 ],
 "metadata": {
  "interpreter": {
   "hash": "31f2aee4e71d21fbe5cf8b01ff0e069b9275f58929596ceb00d14d90e3e16cd6"
  },
  "kernelspec": {
   "display_name": "Python 3.8.10 64-bit",
   "language": "python",
   "name": "python3"
  },
  "language_info": {
   "codemirror_mode": {
    "name": "ipython",
    "version": 3
   },
   "file_extension": ".py",
   "mimetype": "text/x-python",
   "name": "python",
   "nbconvert_exporter": "python",
   "pygments_lexer": "ipython3",
   "version": "3.8.10"
  },
  "orig_nbformat": 4
 },
 "nbformat": 4,
 "nbformat_minor": 2
}
