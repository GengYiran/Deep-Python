{
 "cells": [
  {
   "cell_type": "markdown",
   "metadata": {},
   "source": [
    "设计模式是面向对象方法解决方案的抽象(java更清楚)"
   ]
  },
  {
   "cell_type": "markdown",
   "metadata": {},
   "source": [
    "单例模式:\n",
    "__new__()方法:__init__()"
   ]
  },
  {
   "cell_type": "markdown",
   "metadata": {},
   "source": [
    "观察者模式: 注册-通知-撤销注册"
   ]
  },
  {
   "cell_type": "markdown",
   "metadata": {},
   "source": [
    "命令模式"
   ]
  },
  {
   "cell_type": "markdown",
   "metadata": {},
   "source": [
    "# 并法\n",
    "同时处理多个任务\n",
    "需要等待资源\n",
    "黑板系统逻辑\n"
   ]
  }
 ],
 "metadata": {
  "language_info": {
   "name": "python"
  },
  "orig_nbformat": 4
 },
 "nbformat": 4,
 "nbformat_minor": 2
}
