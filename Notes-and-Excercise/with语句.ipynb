{
 "cells": [
  {
   "cell_type": "markdown",
   "metadata": {},
   "source": [
    "# with语句实例\n"
   ]
  },
  {
   "cell_type": "code",
   "execution_count": 2,
   "metadata": {},
   "outputs": [],
   "source": [
    "with open('useful_folder/text.txt', 'w') as f:\n",
    "\tf.write('hello, world!')"
   ]
  },
  {
   "cell_type": "code",
   "execution_count": 3,
   "metadata": {},
   "outputs": [],
   "source": [
    "# 等价于：\n",
    "f = open('useful_folder/text.txt', 'w')\n",
    "try:\n",
    "\tf.write('hello, world')\n",
    "finally:\n",
    "\tf.close()\n",
    "# 相比于直接使用三个语句，有一个好处就是会在\n",
    "# write报错的时候仍然会在最后关掉文件"
   ]
  },
  {
   "cell_type": "markdown",
   "metadata": {},
   "source": [
    "```python\n",
    "some_lock = threading.Lock()\n",
    "\n",
    "# 有问题:\n",
    "some_lock.acquire()\n",
    "try:\n",
    "\t# 执行某些操作……\n",
    "finally:\n",
    "\tsome_lock.release()\n",
    "\n",
    "# 改进版:\n",
    "with some_lock:\n",
    "\t# 执行某些操作……\n",
    "```"
   ]
  },
  {
   "cell_type": "markdown",
   "metadata": {},
   "source": [
    "# 原理和实现：\n",
    "\t无论是open()函数和threading.Lock类本身，还是它们与with语句一起使用，这些都没有什么特殊之处。只要实现所谓的上下文管理器（context manager），就可以在自定义的类和函数中获得相同的功能。\n",
    "\n",
    "\t总的来说，如果想将一个对象作为上下文管理器，需要做的就是向其中添加__enter__和__exit__方法。"
   ]
  },
  {
   "cell_type": "code",
   "execution_count": 6,
   "metadata": {},
   "outputs": [
    {
     "name": "stdout",
     "output_type": "stream",
     "text": [
      "Now, __enter__ function!\n",
      "Now, in with block!\n",
      "Now, __exit__ function!\n"
     ]
    }
   ],
   "source": [
    "class ManagedFile:\n",
    "\tdef __init__(self, name):\n",
    "\t\tself.name = name\n",
    "\n",
    "\tdef __enter__(self):\n",
    "\t\tprint(\"Now, __enter__ function!\")\n",
    "\t\tself.file = open(self.name, 'w')\n",
    "\t\treturn self.file\n",
    "\n",
    "\tdef __exit__(self, exc_type, exc_val, exc_tb):\n",
    "\t\tprint(\"Now, __exit__ function!\")\n",
    "\t\tif self.file:\n",
    "\t\t\tself.file.close()\n",
    "\n",
    "with ManagedFile('useful_folder/text.txt') as f:\n",
    "\tprint(\"Now, in with block!\")\n",
    "\n",
    "def func():\n",
    "\treturn ManagedFile\n",
    "\n",
    "# with func as f:  # 报错\n",
    "# \tprint(\"Now, in with block!\") "
   ]
  },
  {
   "cell_type": "code",
   "execution_count": 7,
   "metadata": {},
   "outputs": [],
   "source": [
    "from contextlib import contextmanager\n",
    "\n",
    "@contextmanager\n",
    "def managed_file(name):\n",
    "\ttry:\n",
    "\t\tf = open(name, 'w')\n",
    "\t\tyield f  # 这里暂停，返回资源供后面使用\n",
    "\tfinally:\n",
    "\t\tf.close()\n",
    "\n",
    "with managed_file('useful_folder/text.txt') as f:\n",
    "\tf.write('hello, world!')\n",
    "\tf.write('bye now')\n"
   ]
  },
  {
   "cell_type": "code",
   "execution_count": null,
   "metadata": {},
   "outputs": [],
   "source": [
    "# "
   ]
  }
 ],
 "metadata": {
  "interpreter": {
   "hash": "31f2aee4e71d21fbe5cf8b01ff0e069b9275f58929596ceb00d14d90e3e16cd6"
  },
  "kernelspec": {
   "display_name": "Python 3.8.10 64-bit",
   "language": "python",
   "name": "python3"
  },
  "language_info": {
   "codemirror_mode": {
    "name": "ipython",
    "version": 3
   },
   "file_extension": ".py",
   "mimetype": "text/x-python",
   "name": "python",
   "nbconvert_exporter": "python",
   "pygments_lexer": "ipython3",
   "version": "3.8.10"
  },
  "orig_nbformat": 4
 },
 "nbformat": 4,
 "nbformat_minor": 2
}
