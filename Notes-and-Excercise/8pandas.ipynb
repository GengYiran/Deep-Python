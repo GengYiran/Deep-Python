{
 "cells": [
  {
   "cell_type": "markdown",
   "metadata": {},
   "source": [
    "# Pandas\n",
    "\t以记录为数据单元，记录的序列为操作单元的数据处理平台\n",
    "\t支持索引，多键值索引下的表间运算（合并）（类似字典） \n",
    "\t支持按行的向量广播计算，按属性的聚合运算\n",
    "\t索引值唯一，属性值可重复，属性值可实现表间的连接计算"
   ]
  },
  {
   "cell_type": "code",
   "execution_count": 2,
   "metadata": {},
   "outputs": [
    {
     "name": "stdout",
     "output_type": "stream",
     "text": [
      "0    0.0\n",
      "1    0.1\n",
      "2    0.2\n",
      "3    0.3\n",
      "4    0.4\n",
      "5    0.5\n",
      "6    0.6\n",
      "7    0.7\n",
      "8    0.8\n",
      "9    0.9\n",
      "dtype: float64\n",
      "RangeIndex(start=0, stop=10, step=1)\n",
      "[0.  0.1 0.2 0.3 0.4 0.5 0.6 0.7 0.8 0.9]\n",
      "<class 'pandas.core.indexes.range.RangeIndex'>\n"
     ]
    }
   ],
   "source": [
    "import pandas as pd\n",
    "# 记录是数据单元，序列data是操作单元\n",
    "data = pd.Series([i*0.1 for i in range(10)])\n",
    "print(data)\n",
    "print(data.index)\n",
    "print(data.values)\n",
    "print(type(data.index))"
   ]
  },
  {
   "cell_type": "code",
   "execution_count": 3,
   "metadata": {},
   "outputs": [
    {
     "name": "stdout",
     "output_type": "stream",
     "text": [
      "a    1\n",
      "b    3\n",
      "c    2\n",
      "dtype: int64\n",
      "a    1\n",
      "c    2\n",
      "b    3\n",
      "dtype: int64\n",
      "3\n",
      "1 3 2\n"
     ]
    }
   ],
   "source": [
    "data = pd.Series([1, 3, 2], index=['a', 'b', 'c'])\n",
    "print(data)\n",
    "print(data.sort_values())  # 并不改变data本身\n",
    "print(data['b'])  # 类似字典的索引  loc\n",
    "print(data[0], data[1], data[2])  # 同样支持index索引: iloc\n"
   ]
  },
  {
   "cell_type": "code",
   "execution_count": 4,
   "metadata": {},
   "outputs": [
    {
     "name": "stdout",
     "output_type": "stream",
     "text": [
      "1\n",
      "2\n",
      "3\n",
      "5    3\n",
      "2    2\n",
      "dtype: int64\n",
      "[1 3 2]\n",
      "<class 'numpy.ndarray'>\n"
     ]
    }
   ],
   "source": [
    "data = pd.Series([1, 3, 2], index=[1, 5, 2])\n",
    "print(data[1])\n",
    "print(data[2])\n",
    "print(data[5])  # 如果index是数字的话，数字按照index走\n",
    "print(data[1:3])  # 切片访问的是一段series\n",
    "print(data.values)\n",
    "print(type(data.values))  # pd的序列的value竟然是np的ndarray类型"
   ]
  },
  {
   "cell_type": "code",
   "execution_count": 5,
   "metadata": {},
   "outputs": [
    {
     "name": "stdout",
     "output_type": "stream",
     "text": [
      "5    3\n",
      "2    2\n",
      "dtype: int64\n",
      "5    6\n",
      "2    4\n",
      "dtype: int64\n"
     ]
    }
   ],
   "source": [
    "# 布尔条件生成下标访问序列\n",
    "print(data[data>1])\n",
    "print(data[data>1]*2)  # 对访问序列操作"
   ]
  },
  {
   "cell_type": "markdown",
   "metadata": {},
   "source": [
    "# loc, iloc, ix\n",
    "\t可以显式地使用loc和iloc来操作\n",
    "\t默认情况下，如果有显式的integer的index，会默认使用loc\n",
    "### 最好显示使用\n",
    "\tloc 在index的标签上进行索引,范围包括start和end.\n",
    "\tiloc 在index的位置上进行索引,不包括end.\n",
    "\tix 先在index的标签上索引，索引不到就在index的位置上索引(如果index非全整数),不包括end."
   ]
  },
  {
   "cell_type": "code",
   "execution_count": 6,
   "metadata": {},
   "outputs": [
    {
     "name": "stdout",
     "output_type": "stream",
     "text": [
      "a\n",
      "3    b\n",
      "5    c\n",
      "dtype: object\n",
      "a\n",
      "b\n",
      "********************\n",
      "3\n",
      "b    3\n",
      "c    5\n",
      "dtype: int64\n",
      "3\n"
     ]
    }
   ],
   "source": [
    "data = pd.Series(['a', 'b', 'c'], index=[1, 3, 5])\n",
    "print(data[1])  # 相当于loc\n",
    "print(data[1:3])\n",
    "print(data.loc[1])  # 根据index索引\n",
    "print(data.iloc[1])  # 根据python中的序列来走\n",
    "print(\"*\"*20)\n",
    "data = pd.Series([1, 3, 5], index=['a', 'b', 'c'])\n",
    "print(data[1])  # 相当于iloc\n",
    "print(data[1:3])\n",
    "# print(data.loc[1])  # 根据index索引\n",
    "print(data.iloc[1])  # 根据python中的序列来走"
   ]
  },
  {
   "cell_type": "code",
   "execution_count": 7,
   "metadata": {},
   "outputs": [
    {
     "name": "stdout",
     "output_type": "stream",
     "text": [
      "False\n",
      "True\n"
     ]
    }
   ],
   "source": [
    "print(1 in data)\n",
    "print(1 in data.values)"
   ]
  },
  {
   "cell_type": "code",
   "execution_count": 8,
   "metadata": {},
   "outputs": [
    {
     "name": "stdout",
     "output_type": "stream",
     "text": [
      "1 3 5 \n",
      "1 3 5 \n",
      "a b c "
     ]
    }
   ],
   "source": [
    "for i in data:\n",
    "\tprint(i, end=' ')\n",
    "print('')\n",
    "for i in data.values:\n",
    "\tprint(i, end=' ')\n",
    "print('')\n",
    "for i in data.index:\n",
    "\tprint(i, end=' ')"
   ]
  },
  {
   "cell_type": "code",
   "execution_count": 51,
   "metadata": {},
   "outputs": [
    {
     "name": "stdout",
     "output_type": "stream",
     "text": [
      "a    1\n",
      "c    3\n",
      "b    2\n",
      "dtype: int64\n",
      "a    1.0\n",
      "b    2.0\n",
      "d    NaN\n",
      "dtype: float64\n",
      "a    2.0\n",
      "b    4.0\n",
      "c    NaN\n",
      "d    NaN\n",
      "dtype: float64\n",
      "a    0.0\n",
      "b    0.0\n",
      "c    NaN\n",
      "d    NaN\n",
      "dtype: float64\n",
      "a    1.0\n",
      "c    3.0\n",
      "b    2.0\n",
      "a    1.0\n",
      "b    2.0\n",
      "d    NaN\n",
      "dtype: float64\n",
      "a    1.0\n",
      "a    1.0\n",
      "dtype: float64\n"
     ]
    }
   ],
   "source": [
    "sdata = {'a':1, 'c':3, 'b':2}  # 字典（知识库）\n",
    "s1 = pd.Series(sdata)\n",
    "states = ['a', 'b', 'd']\n",
    "s2 = pd.Series(sdata, index=states)  # 查找字典，找不到就返回\n",
    "s3 = s1+s2\n",
    "s4 = s1-s2\n",
    "print(s1)\n",
    "print(s2)\n",
    "print(s3)  # 自动对齐数据\n",
    "print(s4)\n",
    "print(pd.concat([s1, s2]))  # 和加不一样！！！\n",
    "print(pd.concat([s1, s2])['a']) # 一个索引，对应两个值\n"
   ]
  },
  {
   "cell_type": "markdown",
   "metadata": {},
   "source": [
    "# Merge"
   ]
  },
  {
   "cell_type": "code",
   "execution_count": 57,
   "metadata": {},
   "outputs": [
    {
     "name": "stdout",
     "output_type": "stream",
     "text": [
      "  employee group age\n",
      "0        A     a  14\n",
      "1        B     b  12\n",
      "2        C     c  12\n",
      "3        D     d  10\n"
     ]
    }
   ],
   "source": [
    "s1 = pd.DataFrame({'employee':['A', 'B', 'C', 'D'], 'group':['a', 'b', 'c', 'd']})\n",
    "s2 = pd.DataFrame({'employee':['B', 'A', 'C', 'D'], 'age':['12', '14', '12', '10']})\n",
    "s3 = pd.merge(s1, s2)\n",
    "print(s3)"
   ]
  },
  {
   "cell_type": "markdown",
   "metadata": {},
   "source": [
    "# Apply + 函数"
   ]
  },
  {
   "cell_type": "code",
   "execution_count": 63,
   "metadata": {},
   "outputs": [
    {
     "name": "stdout",
     "output_type": "stream",
     "text": [
      "   A  B\n",
      "0  a  1\n",
      "1  b  2\n",
      "2  c  3\n",
      "3  a  4\n",
      "4  c  5\n",
      "a\n",
      "   A  B\n",
      "0  a  1\n",
      "3  a  4\n",
      "b\n",
      "   A  B\n",
      "1  b  2\n",
      "c\n",
      "   A  B\n",
      "2  c  3\n",
      "4  c  5\n",
      "     A  B\n",
      "A        \n",
      "a 0  a  1\n",
      "b 1  b  2\n",
      "c 2  c  3\n",
      "   A  B      C\n",
      "0  a  1  a@@@@\n",
      "1  b  2  b@@@@\n",
      "2  c  3  c@@@@\n",
      "3  a  4  a@@@@\n",
      "4  c  5  c@@@@\n"
     ]
    }
   ],
   "source": [
    "s = pd.DataFrame({'A':['a', 'b', 'c', 'a', 'c'], 'B':[1, 2, 3, 4, 5]})\n",
    "print(s)\n",
    "grouped = s.groupby('A')  # 按照其中一个属性进行分类\n",
    "for name, group in grouped:\n",
    "\tprint(name)\n",
    "\tprint(group)\n",
    "\n",
    "d = grouped.apply(lambda x:x.head(1))\n",
    "print(d)\n",
    "s['C']=s['A'].apply(lambda x:x+'@@@@')\n",
    "print(s)"
   ]
  },
  {
   "cell_type": "code",
   "execution_count": 10,
   "metadata": {},
   "outputs": [
    {
     "name": "stdout",
     "output_type": "stream",
     "text": [
      "   data1  data2\n",
      "a    1.0    NaN\n",
      "b    2.0    NaN\n",
      "c    5.0    3.0\n",
      "d    NaN    4.0\n",
      "a    1.0\n",
      "b    2.0\n",
      "c    5.0\n",
      "d    NaN\n",
      "Name: data1, dtype: float64\n",
      "a    1.0\n",
      "b    2.0\n",
      "c    5.0\n",
      "d    NaN\n",
      "Name: data1, dtype: float64\n",
      "   data1  data2  new_data\n",
      "a    1.0    NaN       NaN\n",
      "b    2.0    NaN       NaN\n",
      "c    5.0    3.0       2.0\n",
      "d    NaN    4.0       NaN\n",
      "            a    b    c    d\n",
      "data1     1.0  2.0  5.0  NaN\n",
      "data2     NaN  NaN  3.0  4.0\n",
      "new_data  NaN  NaN  2.0  NaN\n",
      "   data1  data2  new_data\n",
      "c    5.0    3.0       2.0\n",
      "   data1  data2  new_data\n",
      "a    1.0    NaN    1111.0\n",
      "b    2.0    NaN       NaN\n",
      "c    5.0    3.0       2.0\n",
      "d    NaN    4.0       NaN\n"
     ]
    }
   ],
   "source": [
    "data1 = pd.Series([1, 2, 5], index=['a', 'b', 'c'])\n",
    "data2 = pd.Series([3, 4], index=['c', 'd'])\n",
    "frame = pd.DataFrame({\"data1\":data1, \"data2\":data2})\n",
    "print(frame)\n",
    "print(frame['data1'])\n",
    "print(frame.data1)\n",
    "frame['new_data']=frame['data1']-frame['data2']\n",
    "print(frame)\n",
    "print(frame.T)\n",
    "print(frame.loc[frame.new_data==2, ['data1', 'data2', 'new_data']])  # 前筛选行，后面决定显示的列，loc还是要按照index索引\n",
    "frame.iloc[0, 2]=1111  # iloc支持多维索引\n",
    "print(frame)"
   ]
  },
  {
   "cell_type": "code",
   "execution_count": 11,
   "metadata": {},
   "outputs": [
    {
     "name": "stdout",
     "output_type": "stream",
     "text": [
      "Index(['a', 'b', 'c', 'd'], dtype='object')\n",
      "Index(['data1', 'data2', 'new_data'], dtype='object')\n",
      "a    1.0\n",
      "b    2.0\n",
      "c    5.0\n",
      "d    NaN\n",
      "Name: data1, dtype: float64\n",
      "a    NaN\n",
      "b    NaN\n",
      "c    3.0\n",
      "d    4.0\n",
      "Name: data2, dtype: float64\n",
      "a    1111.0\n",
      "b       NaN\n",
      "c       2.0\n",
      "d       NaN\n",
      "Name: new_data, dtype: float64\n"
     ]
    }
   ],
   "source": [
    "print(frame.index)  # 坐标轴1\n",
    "print(frame.columns)  # 坐标轴2\n",
    "for i in frame.columns:\n",
    "\tprint(frame[i])  # 每一组数据单独输出"
   ]
  },
  {
   "cell_type": "code",
   "execution_count": 12,
   "metadata": {},
   "outputs": [
    {
     "name": "stdout",
     "output_type": "stream",
     "text": [
      "[{'a': 0, 'b': 0}, {'a': 1, 'b': 1}, {'a': 2, 'b': 2}]\n",
      "   a  b\n",
      "0  0  0\n",
      "1  1  1\n",
      "2  2  2\n"
     ]
    }
   ],
   "source": [
    "# 字典列表生成frame\n",
    "data = [{'a':i, 'b':i} for i in range(3)]\n",
    "print(data)\n",
    "print(pd.DataFrame(data))"
   ]
  },
  {
   "cell_type": "code",
   "execution_count": 13,
   "metadata": {},
   "outputs": [
    {
     "data": {
      "text/html": [
       "<div>\n",
       "<style scoped>\n",
       "    .dataframe tbody tr th:only-of-type {\n",
       "        vertical-align: middle;\n",
       "    }\n",
       "\n",
       "    .dataframe tbody tr th {\n",
       "        vertical-align: top;\n",
       "    }\n",
       "\n",
       "    .dataframe thead th {\n",
       "        text-align: right;\n",
       "    }\n",
       "</style>\n",
       "<table border=\"1\" class=\"dataframe\">\n",
       "  <thead>\n",
       "    <tr style=\"text-align: right;\">\n",
       "      <th></th>\n",
       "      <th>foo</th>\n",
       "      <th>bar</th>\n",
       "    </tr>\n",
       "  </thead>\n",
       "  <tbody>\n",
       "    <tr>\n",
       "      <th>a</th>\n",
       "      <td>0.986866</td>\n",
       "      <td>0.395466</td>\n",
       "    </tr>\n",
       "    <tr>\n",
       "      <th>b</th>\n",
       "      <td>0.037625</td>\n",
       "      <td>0.071548</td>\n",
       "    </tr>\n",
       "    <tr>\n",
       "      <th>c</th>\n",
       "      <td>0.935548</td>\n",
       "      <td>0.987789</td>\n",
       "    </tr>\n",
       "  </tbody>\n",
       "</table>\n",
       "</div>"
      ],
      "text/plain": [
       "        foo       bar\n",
       "a  0.986866  0.395466\n",
       "b  0.037625  0.071548\n",
       "c  0.935548  0.987789"
      ]
     },
     "execution_count": 13,
     "metadata": {},
     "output_type": "execute_result"
    }
   ],
   "source": [
    "# 2d numpy array到frame\n",
    "import numpy as np\n",
    "pd.DataFrame(np.random.rand(3, 2), columns=['foo', 'bar'], index=['a', 'b', 'c'])"
   ]
  },
  {
   "cell_type": "code",
   "execution_count": 14,
   "metadata": {},
   "outputs": [
    {
     "name": "stdout",
     "output_type": "stream",
     "text": [
      "          a         b         c         d\n",
      "A  0.775817  0.953420  0.267237  0.430763\n",
      "B  0.364259  0.941135  0.796725  0.666924\n",
      "C  0.573409  0.898694  0.785494  0.660804\n",
      "          a         b         c         d\n",
      "A  0.700299  0.815400  0.264068  0.417564\n",
      "B  0.356257  0.808227  0.715071  0.618572\n",
      "C  0.542499  0.782514  0.707175  0.613752\n",
      "          a         b         c         d\n",
      "A  0.193954  0.238355  0.066809  0.107691\n",
      "B  0.091065  0.235284  0.199181  0.166731\n",
      "C  0.143352  0.224673  0.196374  0.165201\n",
      "          a         b         c         d\n",
      "A  0.000000  0.000000  0.000000  0.000000\n",
      "B -0.411558 -0.012285  0.529488  0.236161\n",
      "C -0.202407 -0.054726  0.518257  0.230042\n"
     ]
    }
   ],
   "source": [
    "# numpy的Ufunc使用：\n",
    "\n",
    "frame = pd.DataFrame(np.random.rand(3, 4), columns=['a', 'b', 'c', 'd'], index=['A','B','C'])\n",
    "print(frame)\n",
    "# 广播机制\n",
    "print(np.sin(frame))\n",
    "print(frame/4)\n",
    "df = frame-frame.iloc[0]\n",
    "print(df)  # 按行broadcasting"
   ]
  },
  {
   "cell_type": "markdown",
   "metadata": {},
   "source": [
    "#  支持+,-,*,/,//,%,**\n",
    "并且会自动补全"
   ]
  },
  {
   "cell_type": "code",
   "execution_count": 15,
   "metadata": {},
   "outputs": [
    {
     "data": {
      "text/html": [
       "<div>\n",
       "<style scoped>\n",
       "    .dataframe tbody tr th:only-of-type {\n",
       "        vertical-align: middle;\n",
       "    }\n",
       "\n",
       "    .dataframe tbody tr th {\n",
       "        vertical-align: top;\n",
       "    }\n",
       "\n",
       "    .dataframe thead th {\n",
       "        text-align: right;\n",
       "    }\n",
       "</style>\n",
       "<table border=\"1\" class=\"dataframe\">\n",
       "  <thead>\n",
       "    <tr style=\"text-align: right;\">\n",
       "      <th></th>\n",
       "      <th>a</th>\n",
       "      <th>b</th>\n",
       "      <th>c</th>\n",
       "      <th>d</th>\n",
       "    </tr>\n",
       "  </thead>\n",
       "  <tbody>\n",
       "    <tr>\n",
       "      <th>A</th>\n",
       "      <td>NaN</td>\n",
       "      <td>NaN</td>\n",
       "      <td>NaN</td>\n",
       "      <td>NaN</td>\n",
       "    </tr>\n",
       "    <tr>\n",
       "      <th>B</th>\n",
       "      <td>NaN</td>\n",
       "      <td>1.455249</td>\n",
       "      <td>1.738340</td>\n",
       "      <td>1.517386</td>\n",
       "    </tr>\n",
       "    <tr>\n",
       "      <th>C</th>\n",
       "      <td>NaN</td>\n",
       "      <td>0.851711</td>\n",
       "      <td>0.810822</td>\n",
       "      <td>1.124408</td>\n",
       "    </tr>\n",
       "  </tbody>\n",
       "</table>\n",
       "</div>"
      ],
      "text/plain": [
       "    a         b         c         d\n",
       "A NaN       NaN       NaN       NaN\n",
       "B NaN  1.455249  1.738340  1.517386\n",
       "C NaN  0.851711  0.810822  1.124408"
      ]
     },
     "execution_count": 15,
     "metadata": {},
     "output_type": "execute_result"
    }
   ],
   "source": [
    "# 自动对齐-补足（out join）\n",
    "frame1 = pd.DataFrame(np.random.rand(3, 4), columns=['a', 'b', 'c', 'd'], index=['A','B','C'])\n",
    "frame2 = pd.DataFrame(np.random.rand(2, 3), columns=['b', 'c', 'd'], index=['B','C'])\n",
    "frame3 = frame1 + frame2\n",
    "frame3"
   ]
  },
  {
   "cell_type": "code",
   "execution_count": 16,
   "metadata": {},
   "outputs": [
    {
     "name": "stdout",
     "output_type": "stream",
     "text": [
      "Int64Index([2, 3, 5], dtype='int64')\n",
      "Int64Index([1, 2, 3, 4, 5, 7, 11], dtype='int64')\n",
      "Int64Index([1, 4, 7, 11], dtype='int64')\n"
     ]
    },
    {
     "name": "stderr",
     "output_type": "stream",
     "text": [
      "/home/gyr/anaconda3/envs/rlgpu/lib/python3.7/site-packages/ipykernel_launcher.py:3: FutureWarning: Index.__and__ operating as a set operation is deprecated, in the future this will be a logical operation matching Series.__and__.  Use index.intersection(other) instead\n",
      "  This is separate from the ipykernel package so we can avoid doing imports until\n",
      "/home/gyr/anaconda3/envs/rlgpu/lib/python3.7/site-packages/ipykernel_launcher.py:4: FutureWarning: Index.__or__ operating as a set operation is deprecated, in the future this will be a logical operation matching Series.__or__.  Use index.union(other) instead\n",
      "  after removing the cwd from sys.path.\n",
      "/home/gyr/anaconda3/envs/rlgpu/lib/python3.7/site-packages/ipykernel_launcher.py:5: FutureWarning: Index.__xor__ operating as a set operation is deprecated, in the future this will be a logical operation matching Series.__xor__.  Use index.symmetric_difference(other) instead\n",
      "  \"\"\"\n"
     ]
    }
   ],
   "source": [
    "index1 = pd.Index([1, 2, 3, 4, 5])\n",
    "index2 = pd.Index([2, 3, 5, 7, 11])\n",
    "print(index1 & index2)\n",
    "print(index1 | index2)\n",
    "print(index1 ^ index2)"
   ]
  },
  {
   "cell_type": "code",
   "execution_count": 22,
   "metadata": {},
   "outputs": [
    {
     "name": "stdout",
     "output_type": "stream",
     "text": [
      "0    False\n",
      "1     True\n",
      "2    False\n",
      "3     True\n",
      "dtype: bool\n",
      "1     NaN\n",
      "3    None\n",
      "dtype: object\n",
      "0    1\n",
      "2    a\n",
      "dtype: object\n",
      "0    1\n",
      "1    0\n",
      "2    a\n",
      "3    0\n",
      "dtype: object\n",
      "0    1\n",
      "1    1\n",
      "2    a\n",
      "3    a\n",
      "dtype: object\n"
     ]
    }
   ],
   "source": [
    "data = pd.Series([1, np.NaN, 'a', None])\n",
    "print(data.isnull())\n",
    "print(data[data.isnull()])\n",
    "print(data[data.notnull()])\n",
    "print(data.fillna(0))\n",
    "print(data.fillna(method='ffill'))  # fill前一个元素"
   ]
  },
  {
   "cell_type": "markdown",
   "metadata": {},
   "source": [
    "# 层次-组合 索引（Hierarchical-Indexing）\n"
   ]
  },
  {
   "cell_type": "code",
   "execution_count": 42,
   "metadata": {},
   "outputs": [
    {
     "name": "stdout",
     "output_type": "stream",
     "text": [
      "a  1    1\n",
      "b  2    2\n",
      "c  1    3\n",
      "dtype: int64\n",
      "3\n",
      "a    1\n",
      "c    3\n",
      "dtype: int64\n",
      "1  1    5\n",
      "   2    6\n",
      "2  1    7\n",
      "3  2    8\n",
      "dtype: int64\n",
      "1    6\n",
      "3    8\n",
      "dtype: int64\n"
     ]
    }
   ],
   "source": [
    "index = [('a', 1), ('b', 2), ('c', 1)]\n",
    "data = [1, 2, 3]\n",
    "index = pd.MultiIndex.from_tuples(index)  # 多级索引，两个索引确认一个值\n",
    "s = pd.Series(data, index=index)\n",
    "print(s)\n",
    "print(s[('c', 1)])\n",
    "print(s[:, 1])\n",
    "\n",
    "\n",
    "index = [[1, 1, 2, 3], [1, 2, 1, 2]]\n",
    "popu = [5, 6, 7, 8]\n",
    "pop = pd.Series(popu, index = index)\n",
    "print(pop)\n",
    "print(pop[:, 2])  # 类似隔一个切片"
   ]
  },
  {
   "cell_type": "code",
   "execution_count": 44,
   "metadata": {},
   "outputs": [
    {
     "name": "stdout",
     "output_type": "stream",
     "text": [
      "     1    2\n",
      "a  1.0  NaN\n",
      "b  NaN  2.0\n",
      "c  3.0  NaN\n",
      "<class 'pandas.core.frame.DataFrame'>\n"
     ]
    }
   ],
   "source": [
    "s_ = s.unstack()  # 同维度到多维度\n",
    "print(s_)\n",
    "print(type(s_))"
   ]
  },
  {
   "cell_type": "code",
   "execution_count": 47,
   "metadata": {},
   "outputs": [
    {
     "data": {
      "text/plain": [
       "a  1    1.0\n",
       "b  2    2.0\n",
       "c  1    3.0\n",
       "dtype: float64"
      ]
     },
     "execution_count": 47,
     "metadata": {},
     "output_type": "execute_result"
    }
   ],
   "source": [
    "print(s_.stack())"
   ]
  },
  {
   "cell_type": "code",
   "execution_count": 48,
   "metadata": {},
   "outputs": [
    {
     "data": {
      "text/html": [
       "<div>\n",
       "<style scoped>\n",
       "    .dataframe tbody tr th:only-of-type {\n",
       "        vertical-align: middle;\n",
       "    }\n",
       "\n",
       "    .dataframe tbody tr th {\n",
       "        vertical-align: top;\n",
       "    }\n",
       "\n",
       "    .dataframe thead th {\n",
       "        text-align: right;\n",
       "    }\n",
       "</style>\n",
       "<table border=\"1\" class=\"dataframe\">\n",
       "  <thead>\n",
       "    <tr style=\"text-align: right;\">\n",
       "      <th></th>\n",
       "      <th></th>\n",
       "      <th>data1</th>\n",
       "      <th>data2</th>\n",
       "    </tr>\n",
       "  </thead>\n",
       "  <tbody>\n",
       "    <tr>\n",
       "      <th rowspan=\"2\" valign=\"top\">a</th>\n",
       "      <th>1</th>\n",
       "      <td>0.457505</td>\n",
       "      <td>0.802522</td>\n",
       "    </tr>\n",
       "    <tr>\n",
       "      <th>2</th>\n",
       "      <td>0.595729</td>\n",
       "      <td>0.223050</td>\n",
       "    </tr>\n",
       "    <tr>\n",
       "      <th rowspan=\"2\" valign=\"top\">b</th>\n",
       "      <th>1</th>\n",
       "      <td>0.535122</td>\n",
       "      <td>0.422217</td>\n",
       "    </tr>\n",
       "    <tr>\n",
       "      <th>2</th>\n",
       "      <td>0.595524</td>\n",
       "      <td>0.837674</td>\n",
       "    </tr>\n",
       "  </tbody>\n",
       "</table>\n",
       "</div>"
      ],
      "text/plain": [
       "        data1     data2\n",
       "a 1  0.457505  0.802522\n",
       "  2  0.595729  0.223050\n",
       "b 1  0.535122  0.422217\n",
       "  2  0.595524  0.837674"
      ]
     },
     "execution_count": 48,
     "metadata": {},
     "output_type": "execute_result"
    }
   ],
   "source": [
    "df = pd.DataFrame(np.random.rand(4, 2), index=[['a', 'a', 'b', 'b'], [1, 2, 1, 2]], columns=['data1', 'data2'])\n",
    "df"
   ]
  },
  {
   "cell_type": "markdown",
   "metadata": {},
   "source": [
    "# 数据处理"
   ]
  },
  {
   "cell_type": "code",
   "execution_count": null,
   "metadata": {},
   "outputs": [],
   "source": []
  }
 ],
 "metadata": {
  "interpreter": {
   "hash": "224f25fc0be08b930fddfad12a010fb7adcf3a716374ba1b6741252a895f3cad"
  },
  "kernelspec": {
   "display_name": "Python 3.7.12 ('rlgpu')",
   "language": "python",
   "name": "python3"
  },
  "language_info": {
   "codemirror_mode": {
    "name": "ipython",
    "version": 3
   },
   "file_extension": ".py",
   "mimetype": "text/x-python",
   "name": "python",
   "nbconvert_exporter": "python",
   "pygments_lexer": "ipython3",
   "version": "3.7.12"
  },
  "orig_nbformat": 4
 },
 "nbformat": 4,
 "nbformat_minor": 2
}
