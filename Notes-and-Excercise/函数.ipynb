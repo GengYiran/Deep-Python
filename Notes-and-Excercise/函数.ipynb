{
 "cells": [
  {
   "cell_type": "markdown",
   "metadata": {},
   "source": [
    "# 高阶函数\n",
    "一个函数接收另一个函数作为参数\n",
    "\n",
    "\n",
    "\n",
    "\n",
    "\n",
    "# 常用内置高阶函数\n",
    "\n",
    "1. map: 输入函数func和*iterables, 返回一个迭代器\n",
    "\n",
    "2. reduce: reduce 函数需要传入一个有两个参数的函数，然后用这个函数从左至右顺序遍历序列并生成结果\n",
    "\n",
    "3. filter:  函数用来过滤序列中不符合条件的值，返回一个迭代器，该迭代器生成那些函数(项)为 true 的 iterable 项。如果函数为 None，则返回为 true 的项。\n",
    "\n",
    "4. sorted: 函数默认将序列升序排列后返回一个新的 list，还可以自定义键函数来进行排序，也可以设置 reverse 参数确定是升序还是降序，如果 reverse = True 则为降序。key # 可以用来计算的排序函数。\n",
    "\n",
    "5. zip"
   ]
  }
 ],
 "metadata": {
  "language_info": {
   "name": "python"
  },
  "orig_nbformat": 4
 },
 "nbformat": 4,
 "nbformat_minor": 2
}
