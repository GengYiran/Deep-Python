{
 "cells": [
  {
   "cell_type": "code",
   "execution_count": 1,
   "metadata": {},
   "outputs": [],
   "source": [
    "import numpy as np\n",
    "def iter_add_py(x, y, out=None):\n",
    "    addop = np.add  # 函数的引用\n",
    "    it = np.nditer([x, y, out], [],\n",
    "                [['readonly'], ['readonly'], ['writeonly','allocate']])\n",
    "    with it:\n",
    "        for (a, b, c) in it:\n",
    "            addop(a, b, out=c)\n",
    "        return it.operands[2]"
   ]
  },
  {
   "cell_type": "code",
   "execution_count": 2,
   "metadata": {},
   "outputs": [],
   "source": [
    "def iter_add(x, y, out=None):\n",
    "   addop = np.add\n",
    "   it = np.nditer([x, y, out], [],\n",
    "               [['readonly'], ['readonly'], ['writeonly','allocate']])\n",
    "   with it:\n",
    "       while not it.finished:\n",
    "           addop(it[0], it[1], out=it[2])\n",
    "           it.iternext()\n",
    "       return it.operands[2]\n",
    "a = np.arange(2)+1\n",
    "b = np.arange(3)+1\n",
    "print(a)\n",
    "print(b)\n",
    "print(iter_add(a,b))\n"
   ]
  },
  {
   "cell_type": "code",
   "execution_count": 3,
   "metadata": {},
   "outputs": [],
   "source": [
    "def outer_it(x, y, out=None):\n",
    "    mulop = np.multiply\n",
    "    it = np.nditer([x, y, out], ['external_loop'],\n",
    "            [['readonly'], ['readonly'], ['writeonly', 'allocate']],\n",
    "            op_axes=[list(range(x.ndim)) + [-1] * y.ndim,\n",
    "                     [-1] * x.ndim + list(range(y.ndim)),None])\n",
    "    with it:\n",
    "        for (a, b, c) in it:\n",
    "            mulop(a, b, out=c)\n",
    "        return it.operands[2]"
   ]
  },
  {
   "cell_type": "code",
   "execution_count": 4,
   "metadata": {},
   "outputs": [
    {
     "data": {
      "text/plain": [
       "array([[1, 2, 3],\n",
       "       [2, 4, 6]])"
      ]
     },
     "execution_count": 4,
     "metadata": {},
     "output_type": "execute_result"
    }
   ],
   "source": [
    "a = np.arange(2)+1\n",
    "b = np.arange(3)+1\n",
    "outer_it(a,b)"
   ]
  },
  {
   "cell_type": "code",
   "execution_count": null,
   "metadata": {},
   "outputs": [],
   "source": []
  }
 ],
 "metadata": {
  "interpreter": {
   "hash": "224f25fc0be08b930fddfad12a010fb7adcf3a716374ba1b6741252a895f3cad"
  },
  "kernelspec": {
   "display_name": "Python 3.7.12 ('rlgpu')",
   "language": "python",
   "name": "python3"
  },
  "language_info": {
   "codemirror_mode": {
    "name": "ipython",
    "version": 3
   },
   "file_extension": ".py",
   "mimetype": "text/x-python",
   "name": "python",
   "nbconvert_exporter": "python",
   "pygments_lexer": "ipython3",
   "version": "3.7.12"
  },
  "orig_nbformat": 4
 },
 "nbformat": 4,
 "nbformat_minor": 2
}
