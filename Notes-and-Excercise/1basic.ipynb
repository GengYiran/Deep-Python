{
 "cells": [
  {
   "cell_type": "markdown",
   "metadata": {},
   "source": [
    "# 基本语言\n",
    "and or 不强制返回布尔值，而是短路运算\n",
    "注意：is 和 is not考虑的是是否指向同一个对象"
   ]
  },
  {
   "cell_type": "code",
   "execution_count": 8,
   "metadata": {},
   "outputs": [
    {
     "data": {
      "text/plain": [
       "('abd', 'asa', 'a', '', '', 'a')"
      ]
     },
     "execution_count": 8,
     "metadata": {},
     "output_type": "execute_result"
    }
   ],
   "source": [
    "s1 = '' or 'abd'\n",
    "s2 = 'asa' or ''\n",
    "s3 = 'a' or 'b'\n",
    "s4 = '' and 'abd'   # 0 and 1 = 0\n",
    "s5 = 'asa' and ''    # 1 and 0 = 0\n",
    "s6 = 'b' and 'a'      # 1 and 1' = 1'取后者\n",
    "s1, s2, s3, s4, s5, s6"
   ]
  },
  {
   "cell_type": "markdown",
   "metadata": {},
   "source": [
    "# List"
   ]
  },
  {
   "cell_type": "code",
   "execution_count": 1,
   "metadata": {},
   "outputs": [
    {
     "data": {
      "text/plain": [
       "[1, 12, 'qwq', 'aa', 2]"
      ]
     },
     "execution_count": 1,
     "metadata": {},
     "output_type": "execute_result"
    }
   ],
   "source": [
    "a = [1, 12, 'qwq', 'aa', [1, 3]]\n",
    "a[4]=2\n",
    "a"
   ]
  },
  {
   "cell_type": "code",
   "execution_count": 13,
   "metadata": {},
   "outputs": [
    {
     "data": {
      "text/plain": [
       "[2, 3, 4, 5, 6]"
      ]
     },
     "execution_count": 13,
     "metadata": {},
     "output_type": "execute_result"
    }
   ],
   "source": [
    "a = [1, 2, 3, 4, 5, 6]\n",
    "a[1:6:1]  # beginning:ending:slice step"
   ]
  },
  {
   "cell_type": "code",
   "execution_count": 18,
   "metadata": {},
   "outputs": [
    {
     "data": {
      "text/plain": [
       "([3, 2, 'a', 1, 2, 'a', 1, 2, 'a', 1, 2, 'a'],\n",
       " [{1: 'b'}, {1: 'b'}, {1: 'b'}, {1: 'b'}],\n",
       " [[1, 3, 'a'], [1, 3, 'a'], [1, 3, 'a'], [1, 3, 'a']])"
      ]
     },
     "execution_count": 18,
     "metadata": {},
     "output_type": "execute_result"
    }
   ],
   "source": [
    "a = [1, 2, 'a']*4   #! 对列表内容复制，复制所有对象\n",
    "a[0]=3\n",
    "b = [{1:'a'}]*4   #! 对列表内容复制，复制引用，指向同一个对象\n",
    "b[0][1]='b'\n",
    "c = [[1, 2, 'a']]*4\n",
    "c[0][1]=3     #! 对列表内容复制，复制引用，指向同一个对象\n",
    "a, b, c"
   ]
  },
  {
   "cell_type": "markdown",
   "metadata": {},
   "source": [
    "# tuple\n",
    "元组不可变，元组的元素可以改变"
   ]
  },
  {
   "cell_type": "markdown",
   "metadata": {},
   "source": [
    "切片\n"
   ]
  },
  {
   "cell_type": "code",
   "execution_count": 12,
   "metadata": {},
   "outputs": [
    {
     "ename": "SyntaxError",
     "evalue": "invalid syntax (2214613670.py, line 1)",
     "output_type": "error",
     "traceback": [
      "\u001b[0;36m  Input \u001b[0;32mIn [12]\u001b[0;36m\u001b[0m\n\u001b[0;31m    d = a[::2:4]\u001b[0m\n\u001b[0m             ^\u001b[0m\n\u001b[0;31mSyntaxError\u001b[0m\u001b[0;31m:\u001b[0m invalid syntax\n"
     ]
    }
   ],
   "source": [
    "d = a[::2]\n",
    "d"
   ]
  },
  {
   "cell_type": "markdown",
   "metadata": {},
   "source": [
    "# 字符串\n",
    "字符串内容不能被改变\n",
    "![](Images/![](Images/2022-02-21-14-28-55.png).png)\n",
    "\n",
    "\n",
    "## 如何理解字符串不能被改变\n",
    "直观上的改变都是直接新生成对象指向新的string\n",
    "```python\n",
    "s = 'string'\n",
    "s[0]  # s[0]='d' :错误！\n",
    "```"
   ]
  },
  {
   "cell_type": "code",
   "execution_count": 3,
   "metadata": {},
   "outputs": [
    {
     "name": "stdout",
     "output_type": "stream",
     "text": [
      "True\n",
      "True\n",
      "True\n",
      "True\n"
     ]
    }
   ],
   "source": [
    "s1 = 'A'\n",
    "s2 = 'A'\n",
    "print(s1==s2)\n",
    "print(id(s1)==id(s2))  # 竟然能指向同一块地址！！！\n",
    "s3 = input()\n",
    "print(s1==s3)\n",
    "print(id(s3)==id(s1))  # 还是同一个地址！！！"
   ]
  },
  {
   "cell_type": "code",
   "execution_count": 18,
   "metadata": {},
   "outputs": [
    {
     "name": "stdout",
     "output_type": "stream",
     "text": [
      "['ab', 'dss', 'sdas', 'ass']\n",
      "['ab', 'dss', 'sdas,ass']\n"
     ]
    }
   ],
   "source": [
    "s = 'ab,dss,sdas,ass'\n",
    "print(s.split(','))\n",
    "print(s.split(',', maxsplit = 2))"
   ]
  },
  {
   "cell_type": "code",
   "execution_count": 5,
   "metadata": {},
   "outputs": [
    {
     "name": "stdout",
     "output_type": "stream",
     "text": [
      "99\n"
     ]
    }
   ],
   "source": [
    "for i in range(0,100):   # 后面是一个容器，依次拿出来值送给i，本质是一个数据流，通过next方法\n",
    "\tpass\n",
    "print(i)   #最后一下不加"
   ]
  },
  {
   "cell_type": "markdown",
   "metadata": {},
   "source": [
    "### [s.strip()](https://www.learnbyexample.org/python-string-strip-method/)\n",
    "掐头去尾把空格('\\n', '\\t', '\\r')去掉\n",
    "\n",
    "x = s.strip('cmowz.')\n",
    "\n",
    "把开头结尾的包含的字母去掉\n",
    "\n",
    "### [s.count()](https://www.learnbyexample.org/python-string-count-method/)\n",
    "string.count(sub,start,end)\n",
    "\n",
    "\n",
    "### [s.join()](https://www.learnbyexample.org/python-string-join-method/)\n",
    "string.join(iterable)\n",
    "\n",
    "字典默认join key\n",
    "\n",
    "\n",
    "### [s.split()](https://www.runoob.com/python/att-string-split.html)\n",
    "str.split(str=\"\", num=string.count(str))\n",
    "\n"
   ]
  },
  {
   "cell_type": "markdown",
   "metadata": {},
   "source": [
    "# 迭代器\n",
    "容器，通常来讲是一个可迭代的，有iter()方法，可以被next()函数调用，成为一个迭代器 \n",
    "#### 函数 iter(object，sentine)\n",
    "如果只有第一个参数，object必须实现\\_\\_iter\\_\\_()函数，或者\\_\\_getitem\\_\\_()函数\n",
    "\n",
    "如果返回值==sentinel就直接抛出StopIteration \n",
    "#### For 循环：\n",
    "1. 生成迭代器\n",
    "2. 不断用next()赋值给element直到流空\n",
    "\n",
    "生成器不能直接用下标调用![](Images/2022-02-21-14-46-07.png)\n",
    "\n",
    "是一个惰性lazily的数据流，每次用next才会生成下一个\n",
    "\n",
    "一个常见的用法，注意StopIteration\n",
    "```python\n",
    "while True:\n",
    "    try:\n",
    "        print (next(it))\n",
    "    except StopIteration:\n",
    "        sys.exit()\n",
    "```\n",
    "\n"
   ]
  },
  {
   "cell_type": "code",
   "execution_count": null,
   "metadata": {},
   "outputs": [],
   "source": [
    "x = [1, 2, 3]\n",
    "y = iter(x)\n",
    "print(next(y), next(y))"
   ]
  },
  {
   "cell_type": "markdown",
   "metadata": {},
   "source": [
    "### 类作为迭代器\n",
    "\n",
    "需要实现\\_\\_iter\\_\\_(), \\_\\_next\\_\\_()"
   ]
  },
  {
   "cell_type": "code",
   "execution_count": 6,
   "metadata": {},
   "outputs": [
    {
     "name": "stdout",
     "output_type": "stream",
     "text": [
      "1\n",
      "2\n",
      "3\n",
      "4\n",
      "5\n"
     ]
    }
   ],
   "source": [
    "class MyIter:\n",
    "\tdef __iter__(self):\n",
    "\t\tself.a = 1\n",
    "\t\treturn self\n",
    "\tdef __next__(self):\n",
    "\t\tx = self.a\n",
    "\t\tself.a +=1\n",
    "\t\treturn x\n",
    "\n",
    "myiter = MyIter()\n",
    "myiter = iter(myiter)\n",
    "print(next(myiter))\n",
    "print(next(myiter))\n",
    "print(next(myiter))\n",
    "print(next(myiter))\n",
    "print(next(myiter))"
   ]
  },
  {
   "cell_type": "markdown",
   "metadata": {},
   "source": [
    "# 生成器\n",
    "\n",
    "使用了yield的函数称为生成器函数\n",
    "\n",
    "形如(x*x for x in range(4))称为生成器表达式"
   ]
  },
  {
   "cell_type": "code",
   "execution_count": 42,
   "metadata": {},
   "outputs": [
    {
     "name": "stdout",
     "output_type": "stream",
     "text": [
      "<generator object <genexpr> at 0x7f32ef6053c0>\n"
     ]
    }
   ],
   "source": [
    "g = (x*x for x in range(4))\n",
    "print(g)"
   ]
  },
  {
   "cell_type": "markdown",
   "metadata": {},
   "source": [
    "# 集合Set\n",
    "无序，可哈希，无重复元素"
   ]
  },
  {
   "cell_type": "code",
   "execution_count": 16,
   "metadata": {},
   "outputs": [
    {
     "name": "stdout",
     "output_type": "stream",
     "text": [
      "{1, 3, 4} {1, 2, 3} {'e', 'a', 's', 'f', 'w'}\n",
      "easfw"
     ]
    }
   ],
   "source": [
    "s1 = {1, 1, 3, 4, 4}  # 不重复\n",
    "s2 = set([1, 2, 3, 3, 2, 1])\n",
    "s3 = set('asafaafwfwe')  # 无序\n",
    "print(s1, s2, s3)\n",
    "for i in s3:\n",
    "\tprint(i, end='')  # 可用for循环（几乎所有常用容器都是可迭代的）\n",
    "\n",
    "# print(s1[0])  #会报错 is not subscriptable"
   ]
  },
  {
   "cell_type": "markdown",
   "metadata": {},
   "source": [
    "# Sequence\n",
    "可以按顺序使用\n",
    "\n",
    "字典不是sequence\n",
    "\n"
   ]
  },
  {
   "cell_type": "markdown",
   "metadata": {},
   "source": [
    "## Enumerate\n"
   ]
  },
  {
   "cell_type": "code",
   "execution_count": 14,
   "metadata": {},
   "outputs": [
    {
     "name": "stdout",
     "output_type": "stream",
     "text": [
      "0 1  1 2  2 3  0 1  1 2  2 3  <enumerate object at 0x7f33046f2f40>\n",
      "(0, 1)\n",
      "(1, 2)\n",
      "(0, 1)\n",
      "(0, 1)\n"
     ]
    }
   ],
   "source": [
    "l = [1, 2, 3]\n",
    "for (i, item) in enumerate(l):\n",
    "\tprint(i, item, end='  ')\n",
    "for i, item in enumerate(l):\n",
    "\tprint(i, item, end='  ')\n",
    "E = enumerate(l)\n",
    "print(E)\n",
    "print(E.__next__())\n",
    "print(E.__next__())\n",
    "print(enumerate(l).__next__())\n",
    "print(enumerate(l).__next__()) # 每次都生成新的对象，因此重新迭代"
   ]
  },
  {
   "cell_type": "markdown",
   "metadata": {},
   "source": [
    "# 字典Dict\n",
    "key 不能改变\n",
    "\n",
    "用key来做hash\n"
   ]
  },
  {
   "cell_type": "code",
   "execution_count": 41,
   "metadata": {},
   "outputs": [
    {
     "name": "stdout",
     "output_type": "stream",
     "text": [
      "{0: 'a', 1: 'b', 2: 'c'}\n",
      "True\n",
      "False\n",
      "012\n",
      "0 a  1 b  2 c  \n",
      "abc\n",
      "dict_values(['a', 'b', 'c'])\n",
      "dict_items([(0, 'a'), (1, 'b'), (2, 'c')])\n",
      "b\n",
      "None\n",
      "-10086\n",
      "{0: 'a', 2: 'c'}\n",
      "{1: 2, 3: 4}\n"
     ]
    }
   ],
   "source": [
    "d = {}\n",
    "d[0]=\"a\"\n",
    "d[1]='b'\n",
    "d[2]='c'\n",
    "print(d)\n",
    "print(0 in d)  # 看的是key而不是value\n",
    "print('a' in d)\n",
    "# 遍历用法1：for key in d: \n",
    "for i in d:\n",
    "\tprint(i, end='')\n",
    "print(\"\\n\", end='')\n",
    "# 遍历用法2：for (key, value) in d.items()\n",
    "for (key, value) in d.items():\n",
    "\tprint(key, value, end='  ')\n",
    "print(\"\\n\", end='')\n",
    "# 遍历用法3：for value in d.values() \n",
    "for v in d.values():\n",
    "\tprint(v, end='')\n",
    "print('\\n', end='')\n",
    "print(d.values())\n",
    "print(d.items())\n",
    "print(d.get(1))\n",
    "print(d.get(3))\n",
    "print(d.get(3, -10086)) # 没找到就返回-10086\n",
    "d.pop(1)\n",
    "print(d)\n",
    "d1 = dict([[1, 2], [3, 4]])\n",
    "print(d1)"
   ]
  },
  {
   "cell_type": "code",
   "execution_count": 67,
   "metadata": {},
   "outputs": [
    {
     "name": "stdout",
     "output_type": "stream",
     "text": [
      "{'A1': 'z', 'A2': 'z', 'A3': 'z', 'B1': 'z', 'B2': 'z', 'B3': 'z', 'C1': 'z', 'C2': 'z', 'C3': 'z'}\n"
     ]
    }
   ],
   "source": [
    "# 列表生成式生成字典\n",
    "d = {i+j:k\n",
    "\t\tfor i in 'ABC'\n",
    "\t\t\tfor j in \"123\"\n",
    "\t\t\t\tfor k in 'xyz'}\n",
    "print(d)  # x y 都被z覆盖掉了，因为相同的key只能有一个item"
   ]
  }
 ],
 "metadata": {
  "interpreter": {
   "hash": "31f2aee4e71d21fbe5cf8b01ff0e069b9275f58929596ceb00d14d90e3e16cd6"
  },
  "kernelspec": {
   "display_name": "Python 3.8.10 64-bit",
   "language": "python",
   "name": "python3"
  },
  "language_info": {
   "codemirror_mode": {
    "name": "ipython",
    "version": 3
   },
   "file_extension": ".py",
   "mimetype": "text/x-python",
   "name": "python",
   "nbconvert_exporter": "python",
   "pygments_lexer": "ipython3",
   "version": "3.8.10"
  },
  "orig_nbformat": 4
 },
 "nbformat": 4,
 "nbformat_minor": 2
}
