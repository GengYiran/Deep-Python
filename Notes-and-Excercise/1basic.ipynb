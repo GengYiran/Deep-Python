{
 "cells": [
  {
   "cell_type": "markdown",
   "metadata": {},
   "source": [
    "### and or 不强制返回布尔值，而是短路运算\n",
    "### 注意：is 和 is not考虑的是是否指向同一个对象"
   ]
  },
  {
   "cell_type": "markdown",
   "metadata": {},
   "source": [
    "# List"
   ]
  },
  {
   "cell_type": "code",
   "execution_count": 1,
   "metadata": {},
   "outputs": [
    {
     "data": {
      "text/plain": [
       "[1, 12, 'qwq', 'aa', 2]"
      ]
     },
     "execution_count": 1,
     "metadata": {},
     "output_type": "execute_result"
    }
   ],
   "source": [
    "a = [1, 12, 'qwq', 'aa', [1, 3]]\n",
    "a[4]=2\n",
    "a"
   ]
  },
  {
   "cell_type": "code",
   "execution_count": 13,
   "metadata": {},
   "outputs": [
    {
     "data": {
      "text/plain": [
       "[2, 3, 4, 5, 6]"
      ]
     },
     "execution_count": 13,
     "metadata": {},
     "output_type": "execute_result"
    }
   ],
   "source": [
    "a = [1, 2, 3, 4, 5, 6]\n",
    "a[1:6:1]  # beginning:ending:slice step"
   ]
  },
  {
   "cell_type": "markdown",
   "metadata": {},
   "source": [
    "# tuple\n",
    "元组不可变，元组的元素可以改变"
   ]
  },
  {
   "cell_type": "markdown",
   "metadata": {},
   "source": [
    "切片\n"
   ]
  },
  {
   "cell_type": "code",
   "execution_count": 12,
   "metadata": {},
   "outputs": [
    {
     "ename": "SyntaxError",
     "evalue": "invalid syntax (2214613670.py, line 1)",
     "output_type": "error",
     "traceback": [
      "\u001b[0;36m  Input \u001b[0;32mIn [12]\u001b[0;36m\u001b[0m\n\u001b[0;31m    d = a[::2:4]\u001b[0m\n\u001b[0m             ^\u001b[0m\n\u001b[0;31mSyntaxError\u001b[0m\u001b[0;31m:\u001b[0m invalid syntax\n"
     ]
    }
   ],
   "source": [
    "d = a[::2]\n",
    "d"
   ]
  },
  {
   "cell_type": "markdown",
   "metadata": {},
   "source": [
    "# 字符串\n",
    "字符串内容不能被改变\n",
    "![](Images/![](Images/2022-02-21-14-28-55.png).png)\n",
    "\n",
    "\n",
    "## 如何理解字符串不能被改变\n",
    "直观上的改变都是直接新生成对象指向新的string\n",
    "```python\n",
    "s = 'string'\n",
    "s[0]  # s[0]='d' :错误！\n",
    "```"
   ]
  },
  {
   "cell_type": "code",
   "execution_count": 3,
   "metadata": {},
   "outputs": [
    {
     "name": "stdout",
     "output_type": "stream",
     "text": [
      "True\n",
      "True\n",
      "True\n",
      "True\n"
     ]
    }
   ],
   "source": [
    "s1 = 'A'\n",
    "s2 = 'A'\n",
    "print(s1==s2)\n",
    "print(id(s1)==id(s2))  # 竟然能指向同一块地址！！！\n",
    "s3 = input()\n",
    "print(s1==s3)\n",
    "print(id(s3)==id(s1))  # 还是同一个地址！！！"
   ]
  },
  {
   "cell_type": "code",
   "execution_count": 18,
   "metadata": {},
   "outputs": [
    {
     "name": "stdout",
     "output_type": "stream",
     "text": [
      "['ab', 'dss', 'sdas', 'ass']\n",
      "['ab', 'dss', 'sdas,ass']\n"
     ]
    }
   ],
   "source": [
    "s = 'ab,dss,sdas,ass'\n",
    "print(s.split(','))\n",
    "print(s.split(',', maxsplit = 2))"
   ]
  },
  {
   "cell_type": "code",
   "execution_count": 5,
   "metadata": {},
   "outputs": [
    {
     "name": "stdout",
     "output_type": "stream",
     "text": [
      "99\n"
     ]
    }
   ],
   "source": [
    "for i in range(0,100):   # 后面是一个容器，依次拿出来值送给i，本质是一个数据流，通过next方法\n",
    "\tpass\n",
    "print(i)   #最后一下不加"
   ]
  },
  {
   "cell_type": "markdown",
   "metadata": {},
   "source": [
    "### [s.strip()](https://www.learnbyexample.org/python-string-strip-method/)\n",
    "掐头去尾把空格('\\n', '\\t', '\\r')去掉\n",
    "\n",
    "x = s.strip('cmowz.')\n",
    "\n",
    "把开头结尾的包含的字母去掉\n",
    "\n",
    "### [s.count()](https://www.learnbyexample.org/python-string-count-method/)\n",
    "string.count(sub,start,end)\n",
    "\n",
    "\n",
    "### [s.join()](https://www.learnbyexample.org/python-string-join-method/)\n",
    "string.join(iterable)\n",
    "\n",
    "字典默认join key\n",
    "\n",
    "\n",
    "### [s.split()](https://www.runoob.com/python/att-string-split.html)\n",
    "str.split(str=\"\", num=string.count(str))\n",
    "\n"
   ]
  },
  {
   "cell_type": "markdown",
   "metadata": {},
   "source": [
    "# 迭代器\n",
    "容器，通常来讲是一个可迭代的，有iter()方法，可以被next()函数调用，成为一个迭代器 \n",
    "\n",
    "生成器不能直接用下标调用![](Images/2022-02-21-14-46-07.png)\n",
    "\n",
    "是一个惰性lazily的数据流，每次用next才会生成下一个\n",
    "\n",
    "一个常见的用法，注意StopIteration\n",
    "```python\n",
    "while True:\n",
    "    try:\n",
    "        print (next(it))\n",
    "    except StopIteration:\n",
    "        sys.exit()\n",
    "```"
   ]
  },
  {
   "cell_type": "code",
   "execution_count": null,
   "metadata": {},
   "outputs": [],
   "source": [
    "x = [1, 2, 3]\n",
    "y = iter(x)\n",
    "print(next(y), next(y))"
   ]
  },
  {
   "cell_type": "markdown",
   "metadata": {},
   "source": [
    "### 类作为迭代器\n",
    "\n",
    "需要实现\\_\\_iter\\_\\_(), \\_\\_next\\_\\_()"
   ]
  },
  {
   "cell_type": "code",
   "execution_count": 6,
   "metadata": {},
   "outputs": [
    {
     "name": "stdout",
     "output_type": "stream",
     "text": [
      "1\n",
      "2\n",
      "3\n",
      "4\n",
      "5\n"
     ]
    }
   ],
   "source": [
    "class MyIter:\n",
    "\tdef __iter__(self):\n",
    "\t\tself.a = 1\n",
    "\t\treturn self\n",
    "\tdef __next__(self):\n",
    "\t\tx = self.a\n",
    "\t\tself.a +=1\n",
    "\t\treturn x\n",
    "\n",
    "myiter = MyIter()\n",
    "myiter = iter(myiter)\n",
    "print(next(myiter))\n",
    "print(next(myiter))\n",
    "print(next(myiter))\n",
    "print(next(myiter))\n",
    "print(next(myiter))"
   ]
  },
  {
   "cell_type": "markdown",
   "metadata": {},
   "source": [
    "# iter(object，sentine)\n",
    "如果只有第一个参数，object必须实现\\_\\_iter\\_\\_()函数，或者\\_\\_getitem\\_\\_()函数\n",
    "\n",
    "如果返回值==sentinel就直接抛出StopIteration"
   ]
  },
  {
   "cell_type": "markdown",
   "metadata": {},
   "source": [
    "# 生成器\n",
    "使用了yield的函数称为生成器函数\n",
    "\n",
    "形如(x*x for x in range(4))称为生成器表达式"
   ]
  },
  {
   "cell_type": "code",
   "execution_count": 29,
   "metadata": {},
   "outputs": [
    {
     "name": "stdout",
     "output_type": "stream",
     "text": [
      "<generator object <genexpr> at 0x7ff32eb464a0>\n"
     ]
    }
   ],
   "source": [
    "g = (x*x for x in range(4))\n",
    "print(g)"
   ]
  },
  {
   "cell_type": "markdown",
   "metadata": {},
   "source": [
    "### For 循环：\n",
    "1. 生成迭代器\n",
    "2. 不断用next()赋值给element直到流空"
   ]
  },
  {
   "cell_type": "markdown",
   "metadata": {},
   "source": [
    "# Set\n",
    "无序，可哈希，无重复元素\n",
    "# sequence\n",
    "can be used by order\n",
    "we don't see a Dict as  a sequence\n",
    "\n",
    "split opetate \n",
    "# enumerate\n",
    "for idx, obj in enumerate(objs):\n",
    "\t......\n"
   ]
  },
  {
   "cell_type": "markdown",
   "metadata": {},
   "source": [
    "# Dict\n",
    "key cannot change \n",
    "\n",
    "do hash using keys \n",
    "\n",
    "a pair of key-value \n",
    "\n",
    "d.keys() is a sequence, so we can use for key in d: ................ \n",
    "\n",
    "or for (key, value) in d.items()(a taple) \n",
    "\n",
    "or for value in d.values() \n",
    "\n"
   ]
  },
  {
   "cell_type": "markdown",
   "metadata": {},
   "source": [
    "Dict的key是唯一的，如果有重复就会重写\n",
    "\n"
   ]
  },
  {
   "cell_type": "markdown",
   "metadata": {},
   "source": [
    "### enumerate(iterable, start=0):\n",
    "返回tuple"
   ]
  },
  {
   "cell_type": "markdown",
   "metadata": {},
   "source": [
    "# zip()\n",
    "和生成表达式不同的是循环是各自循环而不是循环多层\n",
    "# 解包运算符\n",
    "*\n"
   ]
  },
  {
   "cell_type": "code",
   "execution_count": 5,
   "metadata": {},
   "outputs": [
    {
     "name": "stdout",
     "output_type": "stream",
     "text": [
      "[(1, 3), (2, 4)]\n",
      "[([1, 2],), ([3, 4],)]\n"
     ]
    }
   ],
   "source": [
    "A = [[1, 2], [3, 4]]\n",
    "B = [i for i in zip(*A)]\n",
    "print(B)\n",
    "B_ = [i for i in zip(A)]\n",
    "print(B_)\n"
   ]
  },
  {
   "cell_type": "markdown",
   "metadata": {},
   "source": [
    "# python传参都是传引用，会修改相关变量\n",
    "返回值也是引用\n",
    "\n",
    "可变参数列表\n",
    "\n",
    "*args and **kwargs支持不定参数数量的函数定义\n",
    "\n",
    "*args：容器（列表）形式的参数表达\n",
    "\n",
    "**kwargs：key-value format parameters\n",
    "\n",
    "使用函数时，不用刻意变成列表，只要正常传参就可以， 在函数中使用的时候注意args看作一个列表直接使用就可以\n",
    "\n",
    "后面可以直接使用xxx = xxx来传参\n",
    "\n",
    "注意在函数定义时，关键是在*和**的使用，具体叫什么没有影响\n",
    "\n",
    "# lambda表达式\n",
    "匿名函数\n",
    "\n",
    "注意有些函数操作返回新的操作好的量，传入的引用不会被改变\n",
    "\n",
    "有些可以直接改变引用（类似加不加constant的区别）\n",
    "\n",
    "\n",
    "\n",
    "\n",
    "# 高阶函数：接受函数作为参数\n",
    "map(f, *container)\n",
    "类似sorted也是高阶函数， 因为会针对数据对象的排序方法进行排序\n",
    "\n",
    "# reduce()\n",
    "累积作用，接受一个序列\n",
    "# filter()\n",
    "\n",
    "\n",
    "# 生成器函数\n",
    "yield，异步地挂起，等待再次调用\n",
    "\n",
    "返回一个生成器对象\n",
    "\n",
    "直接可以被next()调用\n",
    "\n",
    "产生的生成器自己记录yield到哪里了\n",
    "\n",
    "\n",
    "=的物理本质是完全不一样的\n",
    "\n",
    "原函数是一个生成器函数类型\n",
    "\n",
    "等于号左边是一个生成器对象实例\n",
    "\n"
   ]
  },
  {
   "cell_type": "markdown",
   "metadata": {},
   "source": [
    "# 嵌套函数\n",
    "函数内部的函数外部不可见\n",
    "\n",
    "返回函数实例\n",
    "\n",
    "大函数定义类，返回这个类的实例\n",
    "\n",
    "可以根据参数来定制函数\n",
    "\n",
    "函数闭包\n",
    "\n",
    "内部函数是可见大函数的参数的，共享了内部的子环境（私有环境）\n",
    "\n",
    "# 变量作用域\n",
    "\n",
    "# 函数工厂\n",
    "\n",
    "# 函数装饰器\n",
    "\n",
    "传入函数，在内部嵌套函数对函数进行包装返回新的函数\n",
    "\n",
    "类型抽象体系\n",
    "\n",
    "抽取共性操作作为功能切片， 对相同的一类函数进行包装\n",
    "\n",
    "![](Images/2022-03-03-08-15-26.png)\n"
   ]
  },
  {
   "cell_type": "markdown",
   "metadata": {},
   "source": []
  }
 ],
 "metadata": {
  "interpreter": {
   "hash": "31f2aee4e71d21fbe5cf8b01ff0e069b9275f58929596ceb00d14d90e3e16cd6"
  },
  "kernelspec": {
   "display_name": "Python 3.8.10 64-bit",
   "language": "python",
   "name": "python3"
  },
  "language_info": {
   "codemirror_mode": {
    "name": "ipython",
    "version": 3
   },
   "file_extension": ".py",
   "mimetype": "text/x-python",
   "name": "python",
   "nbconvert_exporter": "python",
   "pygments_lexer": "ipython3",
   "version": "3.8.10"
  },
  "orig_nbformat": 4
 },
 "nbformat": 4,
 "nbformat_minor": 2
}
