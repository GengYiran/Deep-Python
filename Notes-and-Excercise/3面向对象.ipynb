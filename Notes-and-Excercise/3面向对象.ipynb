{
 "cells": [
  {
   "cell_type": "markdown",
   "metadata": {},
   "source": [
    "# 类中基本概念\n",
    "* 类变量：在实例化的对象中是公用的，定义在类中，函数体之外\n",
    "* 数据成员：类变量或者实例变量\n",
    "* 局部变量：定义在方法中的变量，只作用于当前实例的类\n",
    "* 实例变量"
   ]
  },
  {
   "cell_type": "code",
   "execution_count": 6,
   "metadata": {},
   "outputs": [
    {
     "name": "stdout",
     "output_type": "stream",
     "text": [
      "<class '__main__.A'>\n",
      "\n",
      "\tA class to try\n",
      "\t\n",
      "Help on class A in module __main__:\n",
      "\n",
      "class A(builtins.object)\n",
      " |  A class to try\n",
      " |  \n",
      " |  Methods defined here:\n",
      " |  \n",
      " |  __init__(self)\n",
      " |      my class\n",
      " |  \n",
      " |  ----------------------------------------------------------------------\n",
      " |  Data descriptors defined here:\n",
      " |  \n",
      " |  __dict__\n",
      " |      dictionary for instance variables (if defined)\n",
      " |  \n",
      " |  __weakref__\n",
      " |      list of weak references to the object (if defined)\n",
      " |  \n",
      " |  ----------------------------------------------------------------------\n",
      " |  Data and other attributes defined here:\n",
      " |  \n",
      " |  l = 0\n",
      "\n",
      "None\n"
     ]
    }
   ],
   "source": [
    "class A:\n",
    "\t\"\"\"\n",
    "\tA class to try\n",
    "\t\"\"\"\n",
    "\t# my class  # 这种不会放到help里面\n",
    "\tl=0  # 类属性\n",
    "\tdef __init__(self):\n",
    "\t\t'''\n",
    "\t\tmy class\n",
    "\t\t'''\n",
    "\t\tself.a = 0\n",
    "print(A)\n",
    "print(A.__doc__)  # 会打印类定义后的注释！\n",
    "print(help(A))  # 更详细的信息\n"
   ]
  },
  {
   "cell_type": "code",
   "execution_count": 11,
   "metadata": {},
   "outputs": [
    {
     "name": "stdout",
     "output_type": "stream",
     "text": [
      "**********************************************************************\n",
      "File \"__main__\", line 12, in __main__.MyMath.add\n",
      "Failed example:\n",
      "    mt.add(3,-2)\n",
      "Expected:\n",
      "    0\n",
      "Got:\n",
      "    1\n",
      "**********************************************************************\n",
      "1 items had failures:\n",
      "   1 of   4 in __main__.MyMath.add\n",
      "***Test Failed*** 1 failures.\n"
     ]
    }
   ],
   "source": [
    "class MyMath:\n",
    "    \"\"\"\n",
    "    A class with math operator\n",
    "    \"\"\"\n",
    "    def add(self,x,y):\n",
    "        \"\"\"\n",
    "        Function to get the sum of x and y.\n",
    "        Example:\n",
    "        >>> mt=MyMath() \n",
    "        >>> mt.add(1,2)\n",
    "        3\n",
    "        >>> mt.add(3,-2)\n",
    "        0\n",
    "        >>> mt.add(2.4,1.5)\n",
    "        3.9\n",
    "        \"\"\"\n",
    "        return x+y\n",
    "\n",
    "if __name__=='__main__':\n",
    "\timport doctest\n",
    "\tdoctest.testmod()\n",
    "# 会自动检测doc中的test来核查是不是正确的，为了能够初步检验函数的正确性"
   ]
  },
  {
   "cell_type": "code",
   "execution_count": 33,
   "metadata": {},
   "outputs": [
    {
     "name": "stdout",
     "output_type": "stream",
     "text": [
      "<__main__.A object at 0x7f0f47cf71f0>\n",
      "<class '__main__.A'>\n",
      "1\n",
      "0\n",
      "1\n",
      "2\n",
      "2\n",
      "9788992\n",
      "9789024\n",
      "9789024\n"
     ]
    }
   ],
   "source": [
    "class A:\n",
    "\ta=0  # 类变量，所有实例共享，并不是self.xxx的形式\n",
    "\tdef test(self):\n",
    "\t\tprint(self)\n",
    "\t\tprint(self.__class__)\n",
    "\n",
    "A_ = A()\n",
    "A_.test()\n",
    "B_ = A()\n",
    "C_ = A()\n",
    "A_.a+=1\n",
    "print(A_.a)\n",
    "print(B_.a)  # 直接通过对象来改变类变量并没有作用，需要从类来改\n",
    "\n",
    "A.a=2\n",
    "print(A_.a)\n",
    "print(B_.a) \n",
    "print(C_.a) \n",
    "print(id(A_.a))\n",
    "print(id(B_.a))\n",
    "print(id(C_.a))  # A_的量改了之后，整个不再属于同一个引用\n",
    "# 相当于一个类变量是被所有该类的实例所共享的引用"
   ]
  },
  {
   "cell_type": "code",
   "execution_count": 59,
   "metadata": {},
   "outputs": [
    {
     "name": "stdout",
     "output_type": "stream",
     "text": [
      "c1.b = 0\n",
      "c1.c = add class attribute\n",
      "c2.c = add class attribute\n"
     ]
    }
   ],
   "source": [
    "class C():\n",
    "\tclass_attribute = \"class_attribute\"\n",
    "\n",
    "c1=C()\n",
    "c2=C()\n",
    "\n",
    "c1.b=0 # 给对象添加一个属性\n",
    "print(\"c1.b =\",c1.b)\n",
    "# print(\"c2.b =\",c2.b)  # 报错，因为b只是c1的对象的属性\n",
    "\n",
    "C.c=\"add class attribute\"  # 给类添加类属性\n",
    "print(\"c1.c =\", c1.c)\n",
    "print(\"c2.c =\", c2.c)\n",
    "\n",
    "# del c1.c # 不可以，因为c是共享是类属性，不能由实例来操作（权限不够）\n",
    "del C.c # 可以\n",
    "# print(c1.c)  # 已经被删除"
   ]
  },
  {
   "cell_type": "code",
   "execution_count": 60,
   "metadata": {},
   "outputs": [
    {
     "name": "stdout",
     "output_type": "stream",
     "text": [
      "2\n"
     ]
    }
   ],
   "source": [
    "getattr(c1, \"b\")# # 访问对象的属性。\n",
    "hasattr(c1, \"b\") # 检查是否存在一个属性。\n",
    "setattr(c1, \"c\", 2) # 设置一个属性。如果属性不存在，会创建一个新属性。\n",
    "delattr(c1, \"b\") # 删除属性。\n",
    "print(c1.c)\n",
    "# print(c1.b)  # 被delattr删掉了"
   ]
  },
  {
   "cell_type": "markdown",
   "metadata": {},
   "source": [
    "Python内置类属性\n",
    "\n",
    "    __dict__ : 类的属性（包含一个字典，由类的数据属性组成）\n",
    "    __doc__ :类的文档字符串\n",
    "    __name__: 类名\n",
    "    __module__: 类定义所在的模块（类的全名是'__main__.className'，如果类位于一个导入模块mymod中，那么className.__module__ 等于 mymod）\n",
    "    __bases__ : 类的所有父类构成元素（包含了一个由所有父类组成的元组）\n"
   ]
  },
  {
   "cell_type": "code",
   "execution_count": 67,
   "metadata": {},
   "outputs": [
    {
     "name": "stdout",
     "output_type": "stream",
     "text": [
      "\n",
      "\ta Class to try\n",
      "\t\n",
      "C\n",
      "__main__\n",
      "(<class 'object'>,)\n",
      "{'__module__': '__main__', '__doc__': '\\n\\ta Class to try\\n\\t', 'a': 0, '_C__init_': <function C.__init_ at 0x7f0f47f3cd30>, 'print_b': <function C.print_b at 0x7f0f47f3cf70>, '__dict__': <attribute '__dict__' of 'C' objects>, '__weakref__': <attribute '__weakref__' of 'C' objects>}\n"
     ]
    }
   ],
   "source": [
    "class C():\n",
    "\t# 注意，必须写到最前面才算__doc__\n",
    "\t'''\n",
    "\ta Class to try\n",
    "\t'''\n",
    "\ta=0\n",
    "\tdef __init_(self):\n",
    "\t\tself.b=0\n",
    "\tdef print_b(self):\n",
    "\t\tprint(self.b)\n",
    "print(C.__doc__)\n",
    "print(C.__name__)\n",
    "print(C.__module__)\n",
    "print(C.__bases__)\n",
    "print(C.__dict__)"
   ]
  },
  {
   "cell_type": "markdown",
   "metadata": {},
   "source": [
    "# 引用计数以及对象销毁\n",
    "对象引用变成0，会被回收。但是并不是及时的"
   ]
  },
  {
   "cell_type": "code",
   "execution_count": 72,
   "metadata": {},
   "outputs": [
    {
     "name": "stdout",
     "output_type": "stream",
     "text": [
      "139703607039408 139703607039408 139703607039408\n",
      "销毁了 Point 这个类的 <__main__.Point object at 0x7f0f47df15b0> 这个实例\n"
     ]
    }
   ],
   "source": [
    "class Point:\n",
    "   def __init__(self, x=0, y=0):\n",
    "      self.x = x\n",
    "      self.y = y\n",
    "   def __del__(self):\n",
    "      class_name = self.__class__.__name__\n",
    "      print(\"销毁了\", class_name, '这个类的',  self, \"这个实例\")\n",
    " \n",
    "pt1 = Point()\n",
    "pt2 = pt1\n",
    "pt3 = pt1  # 浅拷贝\n",
    "print(id(pt1), id(pt2), id(pt3)) # 打印对象的id\n",
    "del pt1\n",
    "del pt2\n",
    "del pt3\n",
    "# 只是销毁了这个实例"
   ]
  },
  {
   "cell_type": "markdown",
   "metadata": {},
   "source": [
    "# 重要基础重载方法：\n",
    "\n",
    "\t__del__(self)\n",
    "\t\t析构方法, 删除一个对象\n",
    "\t\t简单的调用方法 : del obj\n",
    "\t__repr__(self)\n",
    "\t\t转化为供解释器读取的形式\n",
    "\t\t简单的调用方法 : repr(obj)\n",
    "\t__str__(self)\n",
    "\t\t用于将值转化为适于人阅读的形式\n",
    "\t\t简单的调用方法 : str(obj)\n",
    "\t__cmp__(self, x)\n",
    "\t\t对象比较\n",
    "\t\t简单的调用方法 : cmp(obj, x)\n",
    "\n",
    "### 重载运算符：\n",
    "\t__add__方法"
   ]
  },
  {
   "cell_type": "code",
   "execution_count": 86,
   "metadata": {},
   "outputs": [
    {
     "name": "stdout",
     "output_type": "stream",
     "text": [
      "Vector(4, 6)\n"
     ]
    }
   ],
   "source": [
    "class vector:\n",
    "\tdef __init__(self, a, b):\n",
    "\t\tself.a = a\n",
    "\t\tself.b = b\n",
    "\tdef __str__(self):\n",
    "\t\treturn \"Vector(%d, %d)\"%(self.a, self.b)\n",
    "\tdef __add__(self, other):\n",
    "\t\treturn vector(self.a+other.a, self.b+other.b)\n",
    "\n",
    "v1 = vector(1, 2)\n",
    "v2 = vector(3, 4)\n",
    "v3 = v1+v2\n",
    "print(v3)"
   ]
  },
  {
   "cell_type": "markdown",
   "metadata": {},
   "source": [
    "# 类的继承\n",
    "面向对象的编程带来的主要好处之一是代码的重用，实现这种重用的方法之一是通过继承机制。\n",
    "\n",
    "通过继承创建的新类称为子类或派生类，被继承的类称为基类、父类或超类。"
   ]
  },
  {
   "cell_type": "markdown",
   "metadata": {},
   "source": [
    "# 重要特点\n",
    "* 不会自动调用父类的初始化，不重新写init函数\n",
    "* 先在本类中查找调用的方法，找不到才去基类中找\n",
    "* 在调用基类的方法时，需要加上基类的类名前缀，且需要带上 self 参数变量。区别在于类中调用普通函数时并不需要带上 self 参数（？）"
   ]
  },
  {
   "cell_type": "code",
   "execution_count": 84,
   "metadata": {},
   "outputs": [
    {
     "name": "stdout",
     "output_type": "stream",
     "text": [
      "child constructor\n",
      "parent constructor\n",
      "child constructor\n",
      "parent constructor\n",
      "parent constructor\n",
      "child method\n",
      "parent method\n",
      "parant attr: changed p_attr\n",
      "\n",
      "parent method\n",
      "child method\n",
      "parent method\n"
     ]
    }
   ],
   "source": [
    "class parent:\n",
    "\tp_attr = \"p_attr\"\n",
    "\tdef __init__(self):\n",
    "\t\tprint(\"parent constructor\")\n",
    "\tdef parent_method(self):\n",
    "\t\tprint(\"parent method\")\n",
    "\tdef setattr(self, attr):\n",
    "\t\tparent.p_attr = attr # 提供从实例修改类属性的接口\n",
    "\tdef getattr(self):\n",
    "\t\tprint(\"parant attr:\", parent.p_attr)\n",
    "\n",
    "class child(parent):\n",
    "\tdef __init__(self):\n",
    "\t\tprint(\"child constructor\")\n",
    "\t\tsuper().__init__()\n",
    "\n",
    "\tdef child_method(self):\n",
    "\t\tprint(\"child method\")\n",
    "\n",
    "class child1(parent):\n",
    "\tdef __init__(self):\n",
    "\t\tprint(\"child constructor\")\n",
    "\t\tsuper().__init__()\n",
    "\n",
    "\tdef parent_method(self):  #方法重写\n",
    "\t\tprint(\"child method\")\n",
    "\n",
    "c = child()\n",
    "c1 = child1()\n",
    "p = parent()\n",
    "c.child_method()\n",
    "c.parent_method()\n",
    "c.setattr(\"changed p_attr\")\n",
    "c.getattr()\n",
    "print('\\n', end='')\n",
    "c.parent_method()\n",
    "c1.parent_method()\n",
    "p.parent_method()"
   ]
  },
  {
   "cell_type": "code",
   "execution_count": 81,
   "metadata": {},
   "outputs": [
    {
     "name": "stdout",
     "output_type": "stream",
     "text": [
      "False\n",
      "True\n",
      "True\n",
      "True\n",
      "True\n"
     ]
    }
   ],
   "source": [
    "# 继承多个类\n",
    "class A:\n",
    "\t...\n",
    "class B:\n",
    "\t...\n",
    "class C(A, B):\n",
    "\t...\n",
    "\n",
    "print(issubclass(A, C))\n",
    "print(issubclass(C, A))\n",
    "print(issubclass(C, B))\n",
    "a = A()\n",
    "b = B()\n",
    "c = C()\n",
    "print(isinstance(a, A))\n",
    "print(isinstance(c, A))  # 子类的实例也算父类的实例"
   ]
  },
  {
   "cell_type": "markdown",
   "metadata": {},
   "source": [
    "# [MRO方法](http://c.biancheng.net/view/5450.html)：\n",
    "python中的类在寻找方法的定义时要在当前类和基类中进行搜索以确定方法的属性和位置\n",
    "\n",
    "搜索顺序就是方法解析顺序(Method Resolution Order)\n",
    "\n",
    "旧式类MRO: 深度优先算法\n",
    "\n",
    "新式类MRO:从Python2.2开始,仍然从左到右深度优先遍历,如果出现重复的,只保留\"最后一个\". 这样的方法有问题,可能违反单调性\n",
    "\n",
    "[MRO C3线性化](https://zh.wikipedia.org/wiki/C3%E7%BA%BF%E6%80%A7%E5%8C%96):\n",
    "1. 版本: Python $\\geq$ 2.3\n",
    "2. 特性: 基于一致性拓展的优先图,局部优先,单调性原则\n",
    "3. 例子: 不断拿头部,做线性化\n",
    "![](Images/2022-03-20-15-11-10.png)\n",
    "\n",
    "给定： （在定义继承关系时候的顺序很重要，直接影响了最后的选择顺序）\n",
    "\n",
    "\tclass O\n",
    "\tclass A extends O\n",
    "\tclass B extends O\n",
    "\tclass C extends O\n",
    "\tclass D extends O\n",
    "\tclass E extends O\n",
    "\tclass K1 extends A, B, C\n",
    "\tclass K2 extends D, B, E\n",
    "\tclass K3 extends D, A\n",
    "\tclass Z extends K1, K2, K3\n",
    "\n",
    "![](Images/2022-03-07-14-31-50.png)"
   ]
  },
  {
   "cell_type": "markdown",
   "metadata": {},
   "source": [
    "# 私有属性"
   ]
  },
  {
   "cell_type": "markdown",
   "metadata": {},
   "source": []
  }
 ],
 "metadata": {
  "interpreter": {
   "hash": "31f2aee4e71d21fbe5cf8b01ff0e069b9275f58929596ceb00d14d90e3e16cd6"
  },
  "kernelspec": {
   "display_name": "Python 3.8.10 64-bit",
   "language": "python",
   "name": "python3"
  },
  "language_info": {
   "codemirror_mode": {
    "name": "ipython",
    "version": 3
   },
   "file_extension": ".py",
   "mimetype": "text/x-python",
   "name": "python",
   "nbconvert_exporter": "python",
   "pygments_lexer": "ipython3",
   "version": "3.8.10"
  },
  "orig_nbformat": 4
 },
 "nbformat": 4,
 "nbformat_minor": 2
}
