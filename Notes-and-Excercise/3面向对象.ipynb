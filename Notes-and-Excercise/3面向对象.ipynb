{
 "cells": [
  {
   "cell_type": "markdown",
   "metadata": {},
   "source": [
    "# 类中基本概念\n",
    "* 类变量：在实例化的对象中是公用的，定义在类中，函数体之外\n",
    "* 数据成员：类变量或者实例变量\n",
    "* 局部变量：定义在方法中的变量，只作用于当前实例的类\n",
    "* 实例变量"
   ]
  },
  {
   "cell_type": "code",
   "execution_count": 6,
   "metadata": {},
   "outputs": [
    {
     "name": "stdout",
     "output_type": "stream",
     "text": [
      "<class '__main__.A'>\n",
      "\n",
      "\tA class to try\n",
      "\t\n",
      "Help on class A in module __main__:\n",
      "\n",
      "class A(builtins.object)\n",
      " |  A class to try\n",
      " |  \n",
      " |  Methods defined here:\n",
      " |  \n",
      " |  __init__(self)\n",
      " |      my class\n",
      " |  \n",
      " |  ----------------------------------------------------------------------\n",
      " |  Data descriptors defined here:\n",
      " |  \n",
      " |  __dict__\n",
      " |      dictionary for instance variables (if defined)\n",
      " |  \n",
      " |  __weakref__\n",
      " |      list of weak references to the object (if defined)\n",
      " |  \n",
      " |  ----------------------------------------------------------------------\n",
      " |  Data and other attributes defined here:\n",
      " |  \n",
      " |  l = 0\n",
      "\n",
      "None\n"
     ]
    }
   ],
   "source": [
    "class A:\n",
    "\t\"\"\"\n",
    "\tA class to try\n",
    "\t\"\"\"\n",
    "\t# my class  # 这种不会放到help里面\n",
    "\tl=0  # 类属性\n",
    "\tdef __init__(self):\n",
    "\t\t'''\n",
    "\t\tmy class\n",
    "\t\t'''\n",
    "\t\tself.a = 0\n",
    "print(A)\n",
    "print(A.__doc__)  # 会打印类定义后的注释！\n",
    "print(help(A))  # 更详细的信息\n"
   ]
  },
  {
   "cell_type": "code",
   "execution_count": 11,
   "metadata": {},
   "outputs": [
    {
     "name": "stdout",
     "output_type": "stream",
     "text": [
      "**********************************************************************\n",
      "File \"__main__\", line 12, in __main__.MyMath.add\n",
      "Failed example:\n",
      "    mt.add(3,-2)\n",
      "Expected:\n",
      "    0\n",
      "Got:\n",
      "    1\n",
      "**********************************************************************\n",
      "1 items had failures:\n",
      "   1 of   4 in __main__.MyMath.add\n",
      "***Test Failed*** 1 failures.\n"
     ]
    }
   ],
   "source": [
    "class MyMath:\n",
    "    \"\"\"\n",
    "    A class with math operator\n",
    "    \"\"\"\n",
    "    def add(self,x,y):\n",
    "        \"\"\"\n",
    "        Function to get the sum of x and y.\n",
    "        Example:\n",
    "        >>> mt=MyMath() \n",
    "        >>> mt.add(1,2)\n",
    "        3\n",
    "        >>> mt.add(3,-2)\n",
    "        0\n",
    "        >>> mt.add(2.4,1.5)\n",
    "        3.9\n",
    "        \"\"\"\n",
    "        return x+y\n",
    "\n",
    "if __name__=='__main__':\n",
    "\timport doctest\n",
    "\tdoctest.testmod()\n",
    "# 会自动检测doc中的test来核查是不是正确的，为了能够初步检验函数的正确性"
   ]
  },
  {
   "cell_type": "code",
   "execution_count": 33,
   "metadata": {},
   "outputs": [
    {
     "name": "stdout",
     "output_type": "stream",
     "text": [
      "<__main__.A object at 0x7f0f47cf71f0>\n",
      "<class '__main__.A'>\n",
      "1\n",
      "0\n",
      "1\n",
      "2\n",
      "2\n",
      "9788992\n",
      "9789024\n",
      "9789024\n"
     ]
    }
   ],
   "source": [
    "# 添加删除属性\n",
    "class A:\n",
    "\ta=0  # 类变量，所有实例共享，并不是self.xxx的形式\n",
    "\tdef test(self):\n",
    "\t\tprint(self)\n",
    "\t\tprint(self.__class__)\n",
    "\n",
    "A_ = A()\n",
    "A_.test()\n",
    "B_ = A()\n",
    "C_ = A()\n",
    "A_.a+=1\n",
    "print(A_.a)\n",
    "print(B_.a)  # 直接通过对象来改变类变量并没有作用，需要从类来改\n",
    "\n",
    "A.a=2\n",
    "print(A_.a)\n",
    "print(B_.a) \n",
    "print(C_.a) \n",
    "print(id(A_.a))  # 本质上是实例属性覆盖了类属性,先调用实例属性\n",
    "print(id(B_.a))\n",
    "print(id(C_.a))  # A_的量改了之后，整个不再属于同一个引用\n",
    "# 相当于一个类变量是被所有该类的实例所共享的引用"
   ]
  },
  {
   "cell_type": "code",
   "execution_count": 129,
   "metadata": {},
   "outputs": [
    {
     "name": "stdout",
     "output_type": "stream",
     "text": [
      "c1.b = 0\n",
      "c1.c = add class attribute\n",
      "c2.c = add class attribute\n"
     ]
    }
   ],
   "source": [
    "# 添加删除属性\n",
    "class C():\n",
    "\tclass_attribute = \"class_attribute\"\n",
    "\n",
    "c1=C()\n",
    "c2=C()\n",
    "\n",
    "c1.b=0 # 给对象添加一个属性\n",
    "print(\"c1.b =\",c1.b)\n",
    "# print(\"c2.b =\",c2.b)  # 报错，因为b只是c1的对象的属性\n",
    "\n",
    "C.c=\"add class attribute\"  # 给类添加类属性\n",
    "print(\"c1.c =\", c1.c)\n",
    "print(\"c2.c =\", c2.c)\n",
    "\n",
    "# del c1.c # 不可以，因为c是共享是类属性，不能由实例来操作（权限不够）\n",
    "del C.c # 可以\n",
    "# print(c1.c)  # 已经被删除"
   ]
  },
  {
   "cell_type": "code",
   "execution_count": 130,
   "metadata": {},
   "outputs": [
    {
     "name": "stdout",
     "output_type": "stream",
     "text": [
      "2\n"
     ]
    }
   ],
   "source": [
    "getattr(c1, \"b\")# # 访问对象的属性。\n",
    "hasattr(c1, \"b\") # 检查是否存在一个属性。\n",
    "setattr(c1, \"c\", 2) # 设置一个属性。如果属性不存在，会创建一个新属性。\n",
    "delattr(c1, \"b\") # 删除属性。\n",
    "print(c1.c)\n",
    "# print(c1.b)  # 被delattr删掉了"
   ]
  },
  {
   "cell_type": "code",
   "execution_count": 126,
   "metadata": {},
   "outputs": [
    {
     "name": "stdout",
     "output_type": "stream",
     "text": [
      "(*w*)\n"
     ]
    }
   ],
   "source": [
    "# 给对象添加method:\n",
    "import types\n",
    "class C:\n",
    "\ta=1\n",
    "\tdef __init__(self, name):\n",
    "\t\tself.name = name\n",
    "\n",
    "c = C(\"w\")\n",
    "def get_smile(self):\n",
    "\tself.name = '(*'+self.name+'*)'\n",
    "\tprint(self.name)\n",
    "\n",
    "c.b=2\n",
    "\n",
    "# 给对象加method\n",
    "c.get_smile = types.MethodType(get_smile, c)\n",
    "c.get_smile()\n"
   ]
  },
  {
   "cell_type": "markdown",
   "metadata": {},
   "source": [
    "# 对象的内省(introspection)\n"
   ]
  },
  {
   "cell_type": "code",
   "execution_count": 127,
   "metadata": {},
   "outputs": [
    {
     "name": "stdout",
     "output_type": "stream",
     "text": [
      "['__class__', '__delattr__', '__dict__', '__dir__', '__doc__', '__eq__', '__format__', '__ge__', '__getattribute__', '__gt__', '__hash__', '__init__', '__init_subclass__', '__le__', '__lt__', '__module__', '__ne__', '__new__', '__reduce__', '__reduce_ex__', '__repr__', '__setattr__', '__sizeof__', '__str__', '__subclasshook__', '__weakref__', 'a']\n",
      "['__class__', '__delattr__', '__dict__', '__dir__', '__doc__', '__eq__', '__format__', '__ge__', '__getattribute__', '__gt__', '__hash__', '__init__', '__init_subclass__', '__le__', '__lt__', '__module__', '__ne__', '__new__', '__reduce__', '__reduce_ex__', '__repr__', '__setattr__', '__sizeof__', '__str__', '__subclasshook__', '__weakref__', 'a', 'b', 'get_smile', 'name']\n",
      "<class '__main__.C'>\n",
      "True\n",
      "2\n",
      "\n",
      "False\n",
      "True\n",
      "True\n",
      "True\n",
      "True\n"
     ]
    }
   ],
   "source": [
    "print(dir(C))\n",
    "print(dir(c))  # 包括了我们自己添加的method,attributes\n",
    "print(type(c))\n",
    "print(hasattr(c,\"b\"))\n",
    "print(getattr(c,\"b\"))\n",
    "print(\"\\n\", end= '')\n",
    "# 继承多个类\n",
    "class A:\n",
    "\t...\n",
    "class B:\n",
    "\t...\n",
    "class P(A, B):\n",
    "\t...\n",
    "\n",
    "print(issubclass(A, P))\n",
    "print(issubclass(P, A))\n",
    "print(issubclass(P, B))\n",
    "a = A()\n",
    "b = B()\n",
    "p = P()\n",
    "print(isinstance(a, A))\n",
    "print(isinstance(p, A))  # 子类的实例也算父类的实例\n",
    "\n"
   ]
  },
  {
   "cell_type": "markdown",
   "metadata": {},
   "source": [
    "# Python内置类属性\n",
    "\n",
    "    __dict__ : 类的属性（包含一个字典，由类的数据属性组成）\n",
    "    __doc__ :类的文档字符串\n",
    "    __name__: 类名\n",
    "    __module__: 类定义所在的模块（类的全名是'__main__.className'，如果类位于一个导入模块mymod中，那么className.__module__ 等于 mymod）\n",
    "    __bases__ : 类的所有父类构成元素（包含了一个由所有父类组成的元组）\n"
   ]
  },
  {
   "cell_type": "code",
   "execution_count": 67,
   "metadata": {},
   "outputs": [
    {
     "name": "stdout",
     "output_type": "stream",
     "text": [
      "\n",
      "\ta Class to try\n",
      "\t\n",
      "C\n",
      "__main__\n",
      "(<class 'object'>,)\n",
      "{'__module__': '__main__', '__doc__': '\\n\\ta Class to try\\n\\t', 'a': 0, '_C__init_': <function C.__init_ at 0x7f0f47f3cd30>, 'print_b': <function C.print_b at 0x7f0f47f3cf70>, '__dict__': <attribute '__dict__' of 'C' objects>, '__weakref__': <attribute '__weakref__' of 'C' objects>}\n"
     ]
    }
   ],
   "source": [
    "class C():\n",
    "\t# 注意，必须写到最前面才算__doc__\n",
    "\t'''\n",
    "\ta Class to try\n",
    "\t'''\n",
    "\ta=0\n",
    "\tdef __init_(self):\n",
    "\t\tself.b=0\n",
    "\tdef print_b(self):\n",
    "\t\tprint(self.b)\n",
    "print(C.__doc__)\n",
    "print(C.__name__)\n",
    "print(C.__module__)\n",
    "print(C.__bases__)\n",
    "print(C.__dict__)"
   ]
  },
  {
   "cell_type": "markdown",
   "metadata": {},
   "source": [
    "# 引用计数以及对象销毁\n",
    "对象引用变成0，会被回收。但是并不是及时的"
   ]
  },
  {
   "cell_type": "code",
   "execution_count": 72,
   "metadata": {},
   "outputs": [
    {
     "name": "stdout",
     "output_type": "stream",
     "text": [
      "139703607039408 139703607039408 139703607039408\n",
      "销毁了 Point 这个类的 <__main__.Point object at 0x7f0f47df15b0> 这个实例\n"
     ]
    }
   ],
   "source": [
    "class Point:\n",
    "   def __init__(self, x=0, y=0):\n",
    "      self.x = x\n",
    "      self.y = y\n",
    "   def __del__(self):\n",
    "      class_name = self.__class__.__name__\n",
    "      print(\"销毁了\", class_name, '这个类的',  self, \"这个实例\")\n",
    " \n",
    "pt1 = Point()\n",
    "pt2 = pt1\n",
    "pt3 = pt1  # 浅拷贝\n",
    "print(id(pt1), id(pt2), id(pt3)) # 打印对象的id\n",
    "del pt1\n",
    "del pt2\n",
    "del pt3\n",
    "# 只是销毁了这个实例"
   ]
  },
  {
   "cell_type": "markdown",
   "metadata": {},
   "source": [
    "# 类的继承\n",
    "面向对象的编程带来的主要好处之一是代码的重用，实现这种重用的方法之一是通过继承机制。\n",
    "\n",
    "通过继承创建的新类称为子类或派生类，被继承的类称为基类、父类或超类。"
   ]
  },
  {
   "cell_type": "markdown",
   "metadata": {},
   "source": [
    "# 重要特点\n",
    "* 不会自动调用父类的初始化，不重新写init函数\n",
    "* 先在本类中查找调用的方法，找不到才去基类中找\n",
    "* 在调用基类的方法时，需要加上基类的类名前缀，且需要带上 self 参数变量。区别在于类中调用普通函数时并不需要带上 self 参数（？）"
   ]
  },
  {
   "cell_type": "code",
   "execution_count": 84,
   "metadata": {},
   "outputs": [
    {
     "name": "stdout",
     "output_type": "stream",
     "text": [
      "child constructor\n",
      "parent constructor\n",
      "child constructor\n",
      "parent constructor\n",
      "parent constructor\n",
      "child method\n",
      "parent method\n",
      "parant attr: changed p_attr\n",
      "\n",
      "parent method\n",
      "child method\n",
      "parent method\n"
     ]
    }
   ],
   "source": [
    "class parent:\n",
    "\tp_attr = \"p_attr\"\n",
    "\tdef __init__(self):\n",
    "\t\tprint(\"parent constructor\")\n",
    "\tdef parent_method(self):\n",
    "\t\tprint(\"parent method\")\n",
    "\tdef setattr(self, attr):\n",
    "\t\tparent.p_attr = attr # 提供从实例修改类属性的接口\n",
    "\tdef getattr(self):\n",
    "\t\tprint(\"parant attr:\", parent.p_attr)\n",
    "\n",
    "class child(parent):\n",
    "\tdef __init__(self):\n",
    "\t\tprint(\"child constructor\")\n",
    "\t\tsuper().__init__()\n",
    "\n",
    "\tdef child_method(self):\n",
    "\t\tprint(\"child method\")\n",
    "\n",
    "class child1(parent):\n",
    "\tdef __init__(self):\n",
    "\t\tprint(\"child constructor\")\n",
    "\t\tsuper().__init__()\n",
    "\n",
    "\tdef parent_method(self):  #方法重写\n",
    "\t\tprint(\"child method\")\n",
    "\n",
    "c = child()\n",
    "c1 = child1()\n",
    "p = parent()\n",
    "c.child_method()\n",
    "c.parent_method()\n",
    "c.setattr(\"changed p_attr\")\n",
    "c.getattr()\n",
    "print('\\n', end='')\n",
    "c.parent_method()\n",
    "c1.parent_method()\n",
    "p.parent_method()"
   ]
  },
  {
   "cell_type": "code",
   "execution_count": 81,
   "metadata": {},
   "outputs": [
    {
     "name": "stdout",
     "output_type": "stream",
     "text": [
      "False\n",
      "True\n",
      "True\n",
      "True\n",
      "True\n"
     ]
    }
   ],
   "source": [
    "# 继承多个类\n",
    "class A:\n",
    "\t...\n",
    "class B:\n",
    "\t...\n",
    "class C(A, B):\n",
    "\t...\n",
    "\n",
    "print(issubclass(A, C))\n",
    "print(issubclass(C, A))\n",
    "print(issubclass(C, B))\n",
    "a = A()\n",
    "b = B()\n",
    "c = C()\n",
    "print(isinstance(a, A))\n",
    "print(isinstance(c, A))  # 子类的实例也算父类的实例"
   ]
  },
  {
   "cell_type": "markdown",
   "metadata": {},
   "source": [
    "# [MRO方法](http://c.biancheng.net/view/5450.html)：\n",
    "python中的类在寻找方法的定义时要在当前类和基类中进行搜索以确定方法的属性和位置\n",
    "\n",
    "搜索顺序就是方法解析顺序(Method Resolution Order)\n",
    "\n",
    "旧式类MRO: 深度优先算法\n",
    "\n",
    "新式类MRO:从Python2.2开始,仍然从左到右深度优先遍历,如果出现重复的,只保留\"最后一个\". 这样的方法有问题,可能违反单调性\n",
    "\n",
    "[MRO C3线性化](https://zh.wikipedia.org/wiki/C3%E7%BA%BF%E6%80%A7%E5%8C%96):\n",
    "1. 版本: Python $\\geq$ 2.3\n",
    "2. 特性: 基于一致性拓展的优先图,局部优先,单调性原则\n",
    "3. 例子: 不断拿头部,做线性化\n",
    "![](Images/2022-03-20-15-11-10.png)\n",
    "\n",
    "给定： （在定义继承关系时候的顺序很重要，直接影响了最后的选择顺序）\n",
    "\n",
    "\tclass O\n",
    "\tclass A extends O\n",
    "\tclass B extends O\n",
    "\tclass C extends O\n",
    "\tclass D extends O\n",
    "\tclass E extends O\n",
    "\tclass K1 extends A, B, C\n",
    "\tclass K2 extends D, B, E\n",
    "\tclass K3 extends D, A\n",
    "\tclass Z extends K1, K2, K3\n",
    "\n",
    "![](Images/2022-03-07-14-31-50.png)"
   ]
  },
  {
   "cell_type": "code",
   "execution_count": 21,
   "metadata": {},
   "outputs": [
    {
     "name": "stdout",
     "output_type": "stream",
     "text": [
      "init: D\n",
      "init: B\n",
      "!!!!\n",
      "init: E\n",
      "<super: <class 'E'>, <E object>>\n",
      "init: C\n",
      "init: B\n",
      "!!!\n",
      "Here, B!\n",
      "Here, C!\n",
      "(<class '__main__.D'>, <class '__main__.B'>, <class '__main__.C'>, <class '__main__.A'>, <class 'object'>)\n",
      "(<class '__main__.E'>, <class '__main__.C'>, <class '__main__.B'>, <class '__main__.A'>, <class 'object'>)\n"
     ]
    }
   ],
   "source": [
    "# 一个例子\n",
    "class A:\n",
    "\tdef __init__(self):\n",
    "\t\tprint(\"init: A\")\n",
    "\t\t# super().__init__()\n",
    "\tdef foo(self):\n",
    "\t\tprint(\"Here, A!\")\n",
    "\n",
    "class B(A):\n",
    "\tdef __init__(self):\n",
    "\t\tprint(\"init: B\")\n",
    "\t\t# super().__init__()\n",
    "\tdef foo(self):\n",
    "\t\tprint(\"Here, B!\")\n",
    "\n",
    "class C(A):\n",
    "\tdef __init__(self):\n",
    "\t\tprint(\"init: C\")\n",
    "\t\tsuper().__init__()\n",
    "\tdef foo(self):\n",
    "\t\tprint(\"Here, C!\")\n",
    "\n",
    "class D(B, C):\n",
    "\tdef __init__(self):\n",
    "\t\tprint(\"init: D\")\n",
    "\t\tsuper().__init__()  # 只找最接近的\n",
    "\n",
    "class E(C, B):\n",
    "\tdef __init__(self):\n",
    "\t\tprint(\"init: E\")\n",
    "\t\tsuper().__init__()\n",
    "\n",
    "d = D()\n",
    "print(\"!!!!\")\n",
    "e = E()\n",
    "print(\"!!!\")\n",
    "d.foo()\n",
    "e.foo()\n",
    "print(D.__mro__)  # C3线性化！\n",
    "print(E.__mro__)  # 自动继承object类"
   ]
  },
  {
   "cell_type": "code",
   "execution_count": 42,
   "metadata": {},
   "outputs": [
    {
     "name": "stdout",
     "output_type": "stream",
     "text": [
      "init: D\n",
      "<class '__main__.D'>\n",
      "init: B\n",
      "<class '__main__.D'>\n",
      "init: C\n",
      "<class '__main__.D'>\n",
      "init: A\n",
      "<class '__main__.D'>\n"
     ]
    }
   ],
   "source": [
    "# 一个例子\n",
    "class A:\n",
    "\tdef __init__(self):\n",
    "\t\tprint(\"init: A\")\n",
    "\t\tprint(self.__class__)\n",
    "\t\t# super().__init__()\n",
    "\n",
    "class B(A):\n",
    "\tdef __init__(self):\n",
    "\t\tprint(\"init: B\")\n",
    "\t\tprint(self.__class__)\n",
    "\t\tsuper().__init__()  # 这里并没有去A，而是去了C，相当于把D的MRO往前遍历\n",
    "\n",
    "class C(A):\n",
    "\tdef __init__(self):\n",
    "\t\tprint(\"init: C\")\n",
    "\t\tprint(self.__class__)\n",
    "\t\tsuper().__init__()\n",
    "\n",
    "class D(B, C):\n",
    "\tdef __init__(self):\n",
    "\t\tprint(\"init: D\")\n",
    "\t\tprint(self.__class__)\n",
    "\t\tsuper().__init__()  # 只找最接近的\n",
    "\n",
    "d = D()"
   ]
  },
  {
   "cell_type": "markdown",
   "metadata": {},
   "source": [
    "# 类方法，静态方法"
   ]
  },
  {
   "cell_type": "code",
   "execution_count": 39,
   "metadata": {},
   "outputs": [
    {
     "name": "stdout",
     "output_type": "stream",
     "text": [
      "test m1!\n",
      "m1\n",
      "test m2!\n",
      "m2\n",
      "m2\n",
      "test m3!\n",
      "m3\n",
      "<class '__main__.Class'>\n",
      "m2\n",
      "m3\n",
      "<class '__main__.Class'>\n",
      "m2\n",
      "test m4!\n",
      "<class '__main__.Class'>\n",
      "m4\n",
      "<__main__.Class object at 0x7fa065cf4f70>\n",
      "m4\n",
      "test Child!\n",
      "m3\n",
      "<class '__main__.Child'>\n",
      "m2\n",
      "<class '__main__.Class'>\n",
      "m4\n"
     ]
    }
   ],
   "source": [
    "class Class:\n",
    "\tdef __init__(self, value):\n",
    "\t\tself.value = value\n",
    "\tdef m1(self):\n",
    "\t\tprint(\"m1\")\n",
    "\t@staticmethod\n",
    "\tdef m2():\n",
    "\t\tprint(\"m2\")\n",
    "\t@classmethod\n",
    "\tdef m3(cls):\n",
    "\t\tprint(\"m3\")\n",
    "\t\tprint(cls)\n",
    "\t\tcls.m2()  # 比静态要好的地方，可以使用cls\n",
    "\tdef m4(cls):\n",
    "\t\tprint(cls)\n",
    "\t\tprint(\"m4\")\n",
    "\n",
    "class Child(Class):\n",
    "\tpass\n",
    "\n",
    "instance = Class(1)\n",
    "print(\"test m1!\")\n",
    "# Class.m1()  # Error\n",
    "instance.m1()\n",
    "\n",
    "print(\"test m2!\")\n",
    "Class.m2()\n",
    "instance.m2()\n",
    "\n",
    "print(\"test m3!\")\n",
    "Class.m3()\n",
    "instance.m3()\n",
    "\n",
    "print(\"test m4!\")\n",
    "Class.m4(Class)  # 没有装饰器要显式输入\n",
    "instance.m4()  # 注意！这里输入的并不是Class！而是对象,不能直接输入\n",
    "\n",
    "print(\"test Child!\")\n",
    "Child.m3()  # 这里的cls会变成子类！\n",
    "Child.m4(Class)"
   ]
  },
  {
   "cell_type": "markdown",
   "metadata": {},
   "source": [
    "# 私有属性 or method\n",
    "\n",
    "__foo: 双下划线的表示的是私有类型(private)的变量, 只能是允许这个类本身进行访问。\n",
    "\n",
    "也被称作伪私有变量,可以强制访问: 实例.\\_类名\\_\\_属性名"
   ]
  },
  {
   "cell_type": "code",
   "execution_count": 93,
   "metadata": {},
   "outputs": [
    {
     "name": "stdout",
     "output_type": "stream",
     "text": [
      "private\n",
      "modified private\n",
      "private method\n",
      "modified private\n"
     ]
    }
   ],
   "source": [
    "class C:\n",
    "\t__private = \"private\"\n",
    "\tdef get_private(self):\n",
    "\t\tprint(self.__private)\n",
    "\t\tC.__private = \"modified private\"\n",
    "\n",
    "\tdef __private_method(self):\n",
    "\t\tprint(\"private method\")\n",
    "\t\n",
    "\tdef use_private_method(self):\n",
    "\t\tself.__private_method()\n",
    "c = C()\n",
    "# c.__private # 报错，不能直接调用私有类属性\n",
    "c.get_private() # 通过方法来调用\n",
    "c.get_private() # 上一次调用改变了私有变量\n",
    "# c.__private_method()  # 报错，私有method\n",
    "c.use_private_method()  # 通过共有method调用私有method\n",
    "\n",
    "print(c._C__private)  # 强行调用私有变量"
   ]
  },
  {
   "cell_type": "markdown",
   "metadata": {},
   "source": [
    "# \\_\\_init\\_\\_方法:\n",
    "是一个私有方法,在创建实例时被new()自动调用"
   ]
  },
  {
   "cell_type": "code",
   "execution_count": 138,
   "metadata": {},
   "outputs": [
    {
     "name": "stdout",
     "output_type": "stream",
     "text": [
      "w\n",
      "o\n"
     ]
    }
   ],
   "source": [
    "class C:\n",
    "\tdef __init__(self, name):\n",
    "\t\tself.__name = name\n",
    "\tdef get_name(self):\n",
    "\t\tprint(self.__name)\n",
    "\n",
    "c = C(\"w\")\n",
    "c.get_name()\n",
    "# c.__name  # 报错\n",
    "c.__init__(\"o\")\n",
    "c.get_name()"
   ]
  },
  {
   "cell_type": "code",
   "execution_count": 157,
   "metadata": {},
   "outputs": [
    {
     "name": "stdout",
     "output_type": "stream",
     "text": [
      "init\n",
      "init\n",
      "_private\n"
     ]
    },
    {
     "ename": "AttributeError",
     "evalue": "'C' object has no attribute '__private_function'",
     "output_type": "error",
     "traceback": [
      "\u001b[0;31m---------------------------------------------------------------------------\u001b[0m",
      "\u001b[0;31mAttributeError\u001b[0m                            Traceback (most recent call last)",
      "\u001b[1;32m/home/gyr/file/course/Deep-Python/Notes-and-Excercise/3面向对象.ipynb Cell 23'\u001b[0m in \u001b[0;36m<module>\u001b[0;34m\u001b[0m\n\u001b[1;32m     <a href='vscode-notebook-cell:/home/gyr/file/course/Deep-Python/Notes-and-Excercise/3%E9%9D%A2%E5%90%91%E5%AF%B9%E8%B1%A1.ipynb#ch0000043?line=9'>10</a>\u001b[0m c\u001b[39m.\u001b[39m\u001b[39m__init__\u001b[39m()\n\u001b[1;32m     <a href='vscode-notebook-cell:/home/gyr/file/course/Deep-Python/Notes-and-Excercise/3%E9%9D%A2%E5%90%91%E5%AF%B9%E8%B1%A1.ipynb#ch0000043?line=10'>11</a>\u001b[0m c\u001b[39m.\u001b[39m_private_function()\n\u001b[0;32m---> <a href='vscode-notebook-cell:/home/gyr/file/course/Deep-Python/Notes-and-Excercise/3%E9%9D%A2%E5%90%91%E5%AF%B9%E8%B1%A1.ipynb#ch0000043?line=11'>12</a>\u001b[0m c\u001b[39m.\u001b[39;49m__private_function()\n",
      "\u001b[0;31mAttributeError\u001b[0m: 'C' object has no attribute '__private_function'"
     ]
    }
   ],
   "source": [
    "class C:\n",
    "\tdef __init__(self):\n",
    "\t\tprint(\"init\")\n",
    "\tdef __private_function(self):\n",
    "\t\tprint(\"__private\")\n",
    "\tdef _private_function(self):\n",
    "\t\tprint(\"_private\")\n",
    "\n",
    "c = C()\n",
    "c.__init__()\n",
    "c._private_function()\n",
    "c.__private_function()\n"
   ]
  },
  {
   "cell_type": "markdown",
   "metadata": {},
   "source": [
    "# 保护属性 or method\n",
    "_foo: 以单下划线开头的表示的是 protected 类型的变量，即保护类型只能允许其本身与子类进行访问，不能用于 from module import *\n"
   ]
  },
  {
   "cell_type": "code",
   "execution_count": 99,
   "metadata": {},
   "outputs": [
    {
     "name": "stdout",
     "output_type": "stream",
     "text": [
      "protected\n",
      "protected\n",
      "modified protected\n",
      "protected method\n",
      "protected method\n",
      "modified protected\n"
     ]
    }
   ],
   "source": [
    "class C:\n",
    "\t_protected = \"protected\"\n",
    "\tdef get_protected(self):\n",
    "\t\tprint(self._protected)\n",
    "\t\tC._protected = \"modified protected\"\n",
    "\n",
    "\tdef _protected_method(self):\n",
    "\t\tprint(\"protected method\")\n",
    "\t\n",
    "\tdef use_protected_method(self):\n",
    "\t\tself._protected_method()\n",
    "\n",
    "c = C()\n",
    "print(c._protected) # 对象可以使用protected的类属性\n",
    "c.get_protected() # 通过方法来调用\n",
    "c.get_protected() # 上一次调用改变了protected变量\n",
    "c._protected_method()  # 可以用protected method\n",
    "c.use_protected_method()  # 通过共有method调用私有method\n",
    "\n",
    "class child(C):\n",
    "\t...\n",
    "\n",
    "child = child()\n",
    "print(child._protected)  # 子类的实例也是可以直接调用的"
   ]
  },
  {
   "cell_type": "markdown",
   "metadata": {},
   "source": [
    "# 重要基础重载方法：\n",
    "\n",
    "\t__del__(self)\n",
    "\t\t析构方法, 删除一个对象\n",
    "\t\t简单的调用方法 : del obj\n",
    "\t__repr__(self)\n",
    "\t\t转化为供解释器读取的形式\n",
    "\t\t简单的调用方法 : repr(obj)\n",
    "\t__str__(self)\n",
    "\t\t用于将值转化为适于人阅读的形式\n",
    "\t\t简单的调用方法 : str(obj)\n",
    "\t__cmp__(self, x)\n",
    "\t\t对象比较\n",
    "\t\t简单的调用方法 : cmp(obj, x)\n",
    "\n",
    "# 重载运算符：\n",
    "\t__add__\n",
    "\t__eq__: ==\n",
    "\t__ne__: !=\n",
    "\t__lt__: <\n",
    "\t__le__: <=\n",
    "\t__gt__: >\n",
    "\t__ge__: >=\n",
    "\t__bool__"
   ]
  },
  {
   "cell_type": "code",
   "execution_count": 4,
   "metadata": {},
   "outputs": [
    {
     "name": "stdout",
     "output_type": "stream",
     "text": [
      "False\n",
      "True\n",
      "Vector(4, 6)\n"
     ]
    }
   ],
   "source": [
    "class vector:\n",
    "\tdef __init__(self, a, b):\n",
    "\t\tself.a = a\n",
    "\t\tself.b = b\n",
    "\tdef __str__(self):\n",
    "\t\treturn \"Vector(%d, %d)\"%(self.a, self.b)\n",
    "\tdef __add__(self, other):\n",
    "\t\treturn vector(self.a+other.a, self.b+other.b)\n",
    "\n",
    "\tdef __eq__(self, other):\n",
    "\t\treturn self.a==other.a and self.b==other.b\n",
    "\n",
    "v1 = vector(1, 2)\n",
    "v2 = vector(3, 4)\n",
    "v3 = v1+v2\n",
    "v4 = vector(1, 2)\n",
    "print(v1==v2)\n",
    "print(v1==v4)\n",
    "print(v3)"
   ]
  },
  {
   "cell_type": "markdown",
   "metadata": {},
   "source": [
    "# 其他内置方法\n",
    "\n",
    "\t__iter__\n",
    "\t__next__\n",
    "\t__reversed__\n",
    "\t__len__\n",
    "\t__contains__\n",
    "\t__getitem__\n",
    "\t__setitem__\n",
    "\t__delitem__\n",
    "\t__missing__"
   ]
  },
  {
   "cell_type": "code",
   "execution_count": 2,
   "metadata": {},
   "outputs": [
    {
     "name": "stdout",
     "output_type": "stream",
     "text": [
      "make iterator\n",
      "5\n",
      "4\n",
      "make iterator\n",
      "3 2 1 0 "
     ]
    }
   ],
   "source": [
    "# 定义一个迭代器\n",
    "\n",
    "class Seq:\n",
    "\tdef __init__(self, n):\n",
    "\t\tself.n = n\n",
    "\tdef __iter__(self):\n",
    "\t\tprint(\"make iterator\")\n",
    "\t\treturn self\n",
    "\tdef __next__(self):\n",
    "\t\tif self.n<0:\n",
    "\t\t\traise StopIteration  # 迭代停止信号\n",
    "\t\telse:\n",
    "\t\t\tn=self.n\n",
    "\t\t\tself.n-=1\n",
    "\t\t\treturn n\n",
    "\n",
    "seq=Seq(5) # 可以直接调用next\n",
    "seq = iter(seq)  # 使用iter方法\n",
    "print(next(seq))\n",
    "print(next(seq)) # 返回return的值，作为next的值\n",
    "for i in seq:  # 这里也用了iter方法\n",
    "\tprint(i, end=' ')\n"
   ]
  },
  {
   "cell_type": "code",
   "execution_count": 26,
   "metadata": {},
   "outputs": [
    {
     "name": "stdout",
     "output_type": "stream",
     "text": [
      "1\n",
      "1\n",
      "{1: 1}\n",
      "{1: 2, 0: 0}\n",
      "{1: 2}\n",
      "call __missing__!!!\n"
     ]
    },
    {
     "ename": "KeyError",
     "evalue": "'key 4 missing'",
     "output_type": "error",
     "traceback": [
      "\u001b[0;31m---------------------------------------------------------------------------\u001b[0m",
      "\u001b[0;31mKeyError\u001b[0m                                  Traceback (most recent call last)",
      "\u001b[1;32m/home/gyr/file/course/Deep-Python/Notes-and-Excercise/3面向对象.ipynb Cell 30'\u001b[0m in \u001b[0;36m<module>\u001b[0;34m\u001b[0m\n\u001b[1;32m     <a href='vscode-notebook-cell:/home/gyr/file/course/Deep-Python/Notes-and-Excercise/3%E9%9D%A2%E5%90%91%E5%AF%B9%E8%B1%A1.ipynb#ch0000029?line=34'>35</a>\u001b[0m \u001b[39mdel\u001b[39;00m data[\u001b[39m0\u001b[39m]\n\u001b[1;32m     <a href='vscode-notebook-cell:/home/gyr/file/course/Deep-Python/Notes-and-Excercise/3%E9%9D%A2%E5%90%91%E5%AF%B9%E8%B1%A1.ipynb#ch0000029?line=35'>36</a>\u001b[0m \u001b[39mprint\u001b[39m(data\u001b[39m.\u001b[39mdic)\n\u001b[0;32m---> <a href='vscode-notebook-cell:/home/gyr/file/course/Deep-Python/Notes-and-Excercise/3%E9%9D%A2%E5%90%91%E5%AF%B9%E8%B1%A1.ipynb#ch0000029?line=36'>37</a>\u001b[0m \u001b[39mprint\u001b[39m(data[\u001b[39m4\u001b[39;49m])\n",
      "\u001b[1;32m/home/gyr/file/course/Deep-Python/Notes-and-Excercise/3面向对象.ipynb Cell 30'\u001b[0m in \u001b[0;36mDataBase.__getitem__\u001b[0;34m(self, key)\u001b[0m\n\u001b[1;32m      <a href='vscode-notebook-cell:/home/gyr/file/course/Deep-Python/Notes-and-Excercise/3%E9%9D%A2%E5%90%91%E5%AF%B9%E8%B1%A1.ipynb#ch0000029?line=5'>6</a>\u001b[0m \u001b[39mdef\u001b[39;00m \u001b[39m__getitem__\u001b[39m(\u001b[39mself\u001b[39m, key):\n\u001b[1;32m      <a href='vscode-notebook-cell:/home/gyr/file/course/Deep-Python/Notes-and-Excercise/3%E9%9D%A2%E5%90%91%E5%AF%B9%E8%B1%A1.ipynb#ch0000029?line=6'>7</a>\u001b[0m \t\u001b[39mif\u001b[39;00m \u001b[39mself\u001b[39m\u001b[39m.\u001b[39mdic\u001b[39m.\u001b[39mget(key, \u001b[39m\"\u001b[39m\u001b[39mFalse\u001b[39m\u001b[39m\"\u001b[39m)\u001b[39m==\u001b[39m\u001b[39m\"\u001b[39m\u001b[39mFalse\u001b[39m\u001b[39m\"\u001b[39m:\n\u001b[0;32m----> <a href='vscode-notebook-cell:/home/gyr/file/course/Deep-Python/Notes-and-Excercise/3%E9%9D%A2%E5%90%91%E5%AF%B9%E8%B1%A1.ipynb#ch0000029?line=7'>8</a>\u001b[0m \t\t\u001b[39mself\u001b[39;49m\u001b[39m.\u001b[39;49m\u001b[39m__missing__\u001b[39;49m(key)\n\u001b[1;32m      <a href='vscode-notebook-cell:/home/gyr/file/course/Deep-Python/Notes-and-Excercise/3%E9%9D%A2%E5%90%91%E5%AF%B9%E8%B1%A1.ipynb#ch0000029?line=8'>9</a>\u001b[0m \t\u001b[39melse\u001b[39;00m:\n\u001b[1;32m     <a href='vscode-notebook-cell:/home/gyr/file/course/Deep-Python/Notes-and-Excercise/3%E9%9D%A2%E5%90%91%E5%AF%B9%E8%B1%A1.ipynb#ch0000029?line=9'>10</a>\u001b[0m \t\t\u001b[39mreturn\u001b[39;00m \u001b[39mself\u001b[39m\u001b[39m.\u001b[39mdic\u001b[39m.\u001b[39mget(key)\n",
      "\u001b[1;32m/home/gyr/file/course/Deep-Python/Notes-and-Excercise/3面向对象.ipynb Cell 30'\u001b[0m in \u001b[0;36mDataBase.__missing__\u001b[0;34m(self, key)\u001b[0m\n\u001b[1;32m     <a href='vscode-notebook-cell:/home/gyr/file/course/Deep-Python/Notes-and-Excercise/3%E9%9D%A2%E5%90%91%E5%AF%B9%E8%B1%A1.ipynb#ch0000029?line=23'>24</a>\u001b[0m \u001b[39mdef\u001b[39;00m \u001b[39m__missing__\u001b[39m(\u001b[39mself\u001b[39m, key):\n\u001b[1;32m     <a href='vscode-notebook-cell:/home/gyr/file/course/Deep-Python/Notes-and-Excercise/3%E9%9D%A2%E5%90%91%E5%AF%B9%E8%B1%A1.ipynb#ch0000029?line=24'>25</a>\u001b[0m \t\u001b[39mprint\u001b[39m(\u001b[39m\"\u001b[39m\u001b[39mcall __missing__!!!\u001b[39m\u001b[39m\"\u001b[39m)\n\u001b[0;32m---> <a href='vscode-notebook-cell:/home/gyr/file/course/Deep-Python/Notes-and-Excercise/3%E9%9D%A2%E5%90%91%E5%AF%B9%E8%B1%A1.ipynb#ch0000029?line=25'>26</a>\u001b[0m \t\u001b[39mraise\u001b[39;00m \u001b[39mKeyError\u001b[39;00m(\u001b[39mf\u001b[39m\u001b[39m\"\u001b[39m\u001b[39mkey \u001b[39m\u001b[39m{\u001b[39;00mkey\u001b[39m}\u001b[39;00m\u001b[39m missing\u001b[39m\u001b[39m\"\u001b[39m)\n",
      "\u001b[0;31mKeyError\u001b[0m: 'key 4 missing'"
     ]
    }
   ],
   "source": [
    "class DataBase:\n",
    "\tdef __init__(self, num):\n",
    "\t\tself.num = num\n",
    "\t\tself.dic = {num:num}\n",
    "\n",
    "\tdef __getitem__(self, key):\n",
    "\t\tif self.dic.get(key, \"False\")==\"False\":\n",
    "\t\t\tself.__missing__(key)\n",
    "\t\telse:\n",
    "\t\t\treturn self.dic.get(key)\t\n",
    "\n",
    "\tdef __len__(self):\n",
    "\t\treturn len(self.dic)\n",
    "\n",
    "\tdef __setitem__(self, key, value):\n",
    "\t\tself.dic[key]=value\n",
    "\n",
    "\tdef __delitem__(self, key):\n",
    "\t\tif self.dic.get(key, \"False\")==\"False\":\n",
    "\t\t\tprint(\"Dic do not have this key!\")\n",
    "\t\telse:\n",
    "\t\t\tself.dic.pop(key)\n",
    "\n",
    "\tdef __missing__(self, key):\n",
    "\t\tprint(\"call __missing__!!!\")\n",
    "\t\traise KeyError(f\"key {key} missing\")  # 见过两个raise：一个是迭代器结束，raise StopIteration，还有raise KeyError(\"xxx\")\n",
    "\n",
    "data = DataBase(1)  # 找不到默认是default\n",
    "print(data[1])\n",
    "print(len(data))\n",
    "print(data.dic)\n",
    "data[0]=0\n",
    "data[1]=2\n",
    "print(data.dic)\n",
    "del data[0]\n",
    "print(data.dic)\n",
    "print(data[4])  # 自己定义的KeyError！！"
   ]
  },
  {
   "cell_type": "code",
   "execution_count": 6,
   "metadata": {},
   "outputs": [
    {
     "name": "stdout",
     "output_type": "stream",
     "text": [
      "False\n",
      "True\n",
      "True\n",
      "True\n",
      "False\n",
      "True\n",
      "call!!!\n"
     ]
    }
   ],
   "source": [
    "# callable object\n",
    "i=0\n",
    "def f():pass\n",
    "class A:pass\n",
    "class B:\n",
    "\tdef __call__(self):\n",
    "\t\tprint(\"call!!!\")\n",
    "a=A()\n",
    "b=B()\n",
    "print(callable(i))\n",
    "print(callable(f))\n",
    "print(callable(A))\n",
    "print(callable(B))\n",
    "print(callable(a))\n",
    "print(callable(b))\n",
    "b()  # call!"
   ]
  },
  {
   "cell_type": "markdown",
   "metadata": {},
   "source": [
    "# 基于类实现的装饰器\n",
    "必须实现call和init两个内置函数"
   ]
  },
  {
   "cell_type": "code",
   "execution_count": 11,
   "metadata": {},
   "outputs": [
    {
     "name": "stdout",
     "output_type": "stream",
     "text": [
      "using decorator to f\n",
      "2\n"
     ]
    }
   ],
   "source": [
    "# 简单的装饰器\n",
    "class decorator:\n",
    "\tdef __init__(self, func):  # 装饰器的输入是一个func\n",
    "\t\tself.func = func\n",
    "\tdef __call__(self, *args, **kwargs): # 这里的args很重要\n",
    "\t\tprint(\"using decorator to {}\".format(self.func.__name__))\n",
    "\t\treturn self.func(*args, **kwargs)\n",
    "\n",
    "# 等价于 f = decorator(f(n))\n",
    "@decorator\n",
    "def f(n):\n",
    "\tprint(n)\n",
    "\n",
    "# 等价于 f = decorator(f(n))（2）\n",
    "f(2)"
   ]
  },
  {
   "cell_type": "code",
   "execution_count": 10,
   "metadata": {},
   "outputs": [
    {
     "name": "stdout",
     "output_type": "stream",
     "text": [
      "********************\n",
      "@@@@@@@@@@@@@@@@@@@@\n",
      "2\n",
      "@@@@@@@@@@@@@@@@@@@@\n",
      "********************\n"
     ]
    }
   ],
   "source": [
    "# 装饰器闭包\n",
    "class decorator_class:\n",
    "\tdef __init__(self, string):\n",
    "\t\tself.string = string\n",
    "\tdef __call__(self, func):  # 函数可以不放到init里面，可以看做call之后返回一个包装后的函数，再call之后使用\n",
    "\t\tdef wrapped(*args, **kwargs):\n",
    "\t\t\tprint(self.string)\n",
    "\t\t\tfunc(*args, **kwargs)\n",
    "\t\t\tprint(self.string)\n",
    "\t\treturn wrapped\n",
    "@decorator_class(\"*\"*20)  # 这里就先调用init输入字符串，然后调用call先输入一个函数\n",
    "@decorator_class(\"@\"*20)\n",
    "def f(n):\n",
    "\tprint(n)\n",
    "\n",
    "f(2)  # 真正调用wrapped的函数"
   ]
  },
  {
   "cell_type": "markdown",
   "metadata": {},
   "source": [
    "# 数据结构\n"
   ]
  },
  {
   "cell_type": "code",
   "execution_count": 2,
   "metadata": {},
   "outputs": [],
   "source": [
    "# 单链表\n",
    "class Node():\n",
    "\tdef __init__(self, value):\n",
    "\t\tself.value = value\n",
    "\t\tself.nextnode = None\n",
    "a = Node('a')\n",
    "b = Node('b')\n",
    "c = Node('c')\n",
    "a.nextnode = b\n",
    "b.nextnode = c"
   ]
  },
  {
   "cell_type": "code",
   "execution_count": null,
   "metadata": {},
   "outputs": [],
   "source": [
    "class  BinaryTree():\n",
    "\tdef __init__(self, root):\n",
    "\t\tself.key = root\n",
    "\t\tself.leftChild = None\n",
    "\t\tself.rightChile = None\n",
    "\n",
    "\tdef insertLeft(self, node):\n",
    "\t\tif self.leftChild == None:\n",
    "\t\t\tself.leftChild = BinaryTree(node)\n",
    "\t\telse:\n",
    "\t\t\tt = BinaryTree(node)\n",
    "\t\t\tt.leftChild = self.leftChild\n",
    "\t\t\tself.leftChild = t\n",
    "\n",
    "\tdef insertRight(self, node):\n",
    "\t\tif self.rightChile == None:\n",
    "\t\t\tself.rightChile = BinaryTree(node) \n",
    "\t\telse:\n",
    "\t\t\tt = BinaryTree(node)\n",
    "\t\t\tt.rightChile = self.rightChile\n",
    "\t\t\tself.rightChile = t\n",
    "\n",
    "\tdef getLeftChile(self):\n",
    "\t\treturn self.leftChild\n",
    "\n",
    "\tdef getRightChild(self):\n",
    "\t\treturn self.rightChile\n",
    "\n",
    "\tdef setRootValue(self, value):\n",
    "\t\tself.key = value\n",
    "\t\n",
    "\tdef getRootValue(self):\n",
    "\t\treturn self.key"
   ]
  }
 ],
 "metadata": {
  "interpreter": {
   "hash": "31f2aee4e71d21fbe5cf8b01ff0e069b9275f58929596ceb00d14d90e3e16cd6"
  },
  "kernelspec": {
   "display_name": "Python 3.8.10 64-bit",
   "language": "python",
   "name": "python3"
  },
  "language_info": {
   "codemirror_mode": {
    "name": "ipython",
    "version": 3
   },
   "file_extension": ".py",
   "mimetype": "text/x-python",
   "name": "python",
   "nbconvert_exporter": "python",
   "pygments_lexer": "ipython3",
   "version": "3.8.10"
  },
  "orig_nbformat": 4
 },
 "nbformat": 4,
 "nbformat_minor": 2
}
