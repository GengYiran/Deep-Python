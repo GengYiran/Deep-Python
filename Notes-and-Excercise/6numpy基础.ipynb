{
 "cells": [
  {
   "cell_type": "markdown",
   "metadata": {},
   "source": [
    "# python中的array"
   ]
  },
  {
   "cell_type": "code",
   "execution_count": 4,
   "metadata": {},
   "outputs": [
    {
     "name": "stdout",
     "output_type": "stream",
     "text": [
      "array('i')\n",
      "array('i', [1, 2, 3, 4])\n"
     ]
    }
   ],
   "source": [
    "from array import array\n",
    "# 类型id+初始化\n",
    "arr = array('i', [i for i in range(1, 8)])\n",
    "with open(\"useful_folder/arr.bin\", 'wb') as f:\n",
    "\tarr.tofile(f)\n",
    "arr2 = array('i')\n",
    "print(arr2)\n",
    "with open(\"useful_folder/arr.bin\", 'rb') as f:\n",
    "\tarr2.fromfile(f, 4)\n",
    "print(arr2)"
   ]
  },
  {
   "cell_type": "markdown",
   "metadata": {},
   "source": [
    "# Ndarray\n",
    "![](Images/2022-03-24-01-12-10.png)"
   ]
  },
  {
   "cell_type": "code",
   "execution_count": 5,
   "metadata": {},
   "outputs": [
    {
     "name": "stdout",
     "output_type": "stream",
     "text": [
      "<class 'numpy.ndarray'>\n",
      "<class 'numpy.int64'>\n",
      "<class 'numpy.float64'>\n",
      "[1 2 3]\n",
      "[1. 2. 3.]\n",
      "[1. 2. 3.]\n",
      "[1 2 3]\n",
      "[1 2 3 4 5 6 7]\n",
      "{1, 2, 3}\n",
      "<class 'numpy.ndarray'>\n",
      "<class 'numpy.ndarray'>\n"
     ]
    }
   ],
   "source": [
    "import numpy as np\n",
    "# np.array\n",
    "arr1 = np.array([1, 2, 3])\n",
    "arr2 = np.array([1., 2, 3])\n",
    "arr3 = np.array([1, 2, 3],dtype=float)\n",
    "arr4 = np.array([1., 2, 3],dtype=int)\n",
    "arr5 = np.array([i for i in range(1, 8)])\n",
    "arr6 = np.array(set([1, 1, 3, 2]))\n",
    "print(type(arr1))\n",
    "print(type(arr1[0]))\n",
    "print(type(arr2[0]))\n",
    "print(arr1)\n",
    "print(arr2) # 有小数全部变成小数\n",
    "print(arr3)\n",
    "print(arr4)\n",
    "print(arr5)\n",
    "print(arr6)\n",
    "print(type(arr5))\n",
    "print(type(arr6))"
   ]
  },
  {
   "cell_type": "code",
   "execution_count": 6,
   "metadata": {},
   "outputs": [
    {
     "name": "stdout",
     "output_type": "stream",
     "text": [
      "[1. 2. 3.]\n",
      "[1 2 3]\n",
      "[1 2 3]\n",
      "[1 2 3]\n",
      "[[[[[1 2 3]]]]]\n"
     ]
    }
   ],
   "source": [
    "# np.array的附加参数\n",
    "a1 = np.array([1, 2, 3],dtype=float)\n",
    "a2 = np.array([1., 2, 3],dtype=int)\n",
    "a3 = np.array([1, 2, 3], order='C')\n",
    "a4 = np.array([1, 2, 3], order='F')  # 保存元素的方式，不会显示出差别\n",
    "a5 = np.array([1, 2, 3], ndmin=5)\n",
    "\n",
    "print(a1)\n",
    "print(a2)\n",
    "print(a3)\n",
    "print(a4)\n",
    "print(a5)\n"
   ]
  },
  {
   "cell_type": "code",
   "execution_count": 7,
   "metadata": {},
   "outputs": [
    {
     "name": "stdout",
     "output_type": "stream",
     "text": [
      "[[1.+0.j 1.+0.j 1.+0.j 1.+0.j]\n",
      " [1.+0.j 1.+0.j 1.+0.j 1.+0.j]\n",
      " [1.+0.j 1.+0.j 1.+0.j 1.+0.j]]\n",
      "[1. 1.]\n",
      "[[0.+0.j 0.+0.j 0.+0.j 0.+0.j]\n",
      " [0.+0.j 0.+0.j 0.+0.j 0.+0.j]\n",
      " [0.+0.j 0.+0.j 0.+0.j 0.+0.j]]\n",
      "[0. 0.]\n",
      "[[7 7 7]\n",
      " [7 7 7]]\n",
      "[[1. 0. 0.]\n",
      " [0. 1. 0.]\n",
      " [0. 0. 1.]]\n",
      "[[0.93731534 0.43972783 0.79790082]\n",
      " [0.6834392  0.02029925 0.08107452]]\n"
     ]
    }
   ],
   "source": [
    "# 定义array\n",
    "a1 = np.ones((3, 4), dtype=complex)\n",
    "a2 = np.ones_like((3, 4), dtype=float)\n",
    "a3 = np.zeros((3, 4), dtype=complex)\n",
    "a4 = np.zeros_like((3, 4), dtype=float)\n",
    "a5 = np.full((2, 3), 7)\n",
    "a6 = np.eye(3)\n",
    "a7 = np.random.random((2, 3))\n",
    "print(a1)\n",
    "print(a2)\n",
    "print(a3)\n",
    "print(a4)\n",
    "print(a5)\n",
    "print(a6)\n",
    "print(a7)"
   ]
  },
  {
   "cell_type": "code",
   "execution_count": 8,
   "metadata": {},
   "outputs": [
    {
     "name": "stdout",
     "output_type": "stream",
     "text": [
      "(2, 3)\n",
      "2\n",
      "6\n",
      "int64\n",
      "8\n",
      "  C_CONTIGUOUS : True\n",
      "  F_CONTIGUOUS : False\n",
      "  OWNDATA : True\n",
      "  WRITEABLE : True\n",
      "  ALIGNED : True\n",
      "  WRITEBACKIFCOPY : False\n",
      "  UPDATEIFCOPY : False\n",
      "\n",
      "[[1 2 3]\n",
      " [4 5 6]]\n",
      "[[0 0 0]\n",
      " [0 0 0]]\n",
      "<memory at 0x7fccaaac1860>\n",
      "(24, 8)\n"
     ]
    }
   ],
   "source": [
    "# 数组属性\n",
    "a1 = np.array([[1, 2, 3], [4, 5, 6]])\n",
    "print(a1.shape)\n",
    "print(a1.ndim)\n",
    "print(a1.size)  # shape乘积\n",
    "print(a1.dtype)\n",
    "print(a1.itemsize)  # 元素字节大小\n",
    "print(a1.flags)  # 内存信息\n",
    "print(a1.real)\n",
    "print(a1.imag)\n",
    "print(a1.data)  # 缓冲区\n",
    "print(a1.strides) # 8字节走到下一个元素，24字节走到下一行元素"
   ]
  },
  {
   "cell_type": "code",
   "execution_count": 9,
   "metadata": {},
   "outputs": [
    {
     "name": "stdout",
     "output_type": "stream",
     "text": [
      "[[1 2 3]\n",
      " [4 5 6]]\n",
      "[1 2 3 4 5 6]\n",
      "[[[1 2 3]\n",
      "  [4 5 6]]]\n",
      "[[[1]\n",
      "  [2]]\n",
      "\n",
      " [[3]\n",
      "  [4]]\n",
      "\n",
      " [[5]\n",
      "  [6]]]\n"
     ]
    }
   ],
   "source": [
    "# reshape\n",
    "a1 = np.array([[1, 2, 3], [4, 5, 6]])\n",
    "a2 = a1.reshape((6))\n",
    "a3 = a1.reshape((1, 2, 3))\n",
    "a4 = a1.reshape((3, 2, -1))\n",
    "print(a1)\n",
    "print(a2)\n",
    "print(a3)\n",
    "print(a4)"
   ]
  },
  {
   "cell_type": "code",
   "execution_count": 10,
   "metadata": {},
   "outputs": [
    {
     "name": "stdout",
     "output_type": "stream",
     "text": [
      "0.04869556427001953\n",
      "0.04624533653259277\n",
      "0.052820682525634766\n",
      "0.05434775352478027\n",
      "0.05295157432556152\n",
      "0.058889150619506836\n",
      "0.04332423210144043\n",
      "0.06547999382019043\n",
      "0.07342529296875\n",
      "0.06537723541259766\n"
     ]
    }
   ],
   "source": [
    "# 矩阵相加\n",
    "import torch\n",
    "import time\n",
    "x = np.array([[i for i in range(1, 10000000)], [i for i in range(1, 10000000)]])\n",
    "y = np.array([[i for i in range(1, 10000000)], [i for i in range(1, 10000000)]])\n",
    "x_t = torch.tensor(x)\n",
    "y_t = torch.tensor(y)\n",
    "time1 = time.time()\n",
    "x+y\n",
    "time2 = time.time()\n",
    "x_t+y_t\n",
    "time3 = time.time()\n",
    "np.add(x, y)\n",
    "time4 = time.time()\n",
    "x-y\n",
    "time5 = time.time()\n",
    "np.subtract(x, y)\n",
    "time6 = time.time()\n",
    "x*y\n",
    "time7 = time.time()\n",
    "x_t*y_t\n",
    "time8 = time.time()\n",
    "x/y\n",
    "time9 = time.time()\n",
    "np.divide(x, y)\n",
    "time10 = time.time()\n",
    "x_t/y_t\n",
    "time11 = time.time()\n",
    "np.sqrt(x)\n",
    "print(time2-time1)\n",
    "print(time3-time2)\n",
    "print(time4-time3)\n",
    "print(time5-time4)\n",
    "print(time6-time5)\n",
    "print(time7-time6)\n",
    "print(time8-time7)\n",
    "print(time9-time8)\n",
    "print(time10-time9)\n",
    "print(time11-time10)\n",
    "# 发现时间相近！！！"
   ]
  },
  {
   "cell_type": "code",
   "execution_count": 11,
   "metadata": {},
   "outputs": [
    {
     "name": "stdout",
     "output_type": "stream",
     "text": [
      "[[1 3 2]\n",
      " [6 5 4]\n",
      " [1 1 1]\n",
      " [1 1 1]]\n",
      "[[1 3 2 1 1 1]\n",
      " [6 5 4 1 1 1]]\n",
      "[[1 2 3]\n",
      " [4 5 6]\n",
      " [1 1 1]\n",
      " [1 1 1]]\n",
      "[[1 2 3]\n",
      " [4 5 6]\n",
      " [1 1 1]\n",
      " [1 1 1]]\n",
      "5\n"
     ]
    }
   ],
   "source": [
    "# concatenate\n",
    "x = np.array([[1, 3, 2], [6, 5, 4]])\n",
    "y = np.array([[1, 1, 1], [1, 1, 1]])\n",
    "z = np.concatenate((x, y), axis=0) # axis默认是0\n",
    "w = np.concatenate((x, y), axis=1)\n",
    "print(z)\n",
    "print(w)\n",
    "z.sort(axis=1)\n",
    "print(z)\n",
    "z.sort()\n",
    "print(z)\n",
    "print(np.argmax(z))\n"
   ]
  },
  {
   "cell_type": "code",
   "execution_count": 12,
   "metadata": {},
   "outputs": [
    {
     "name": "stdout",
     "output_type": "stream",
     "text": [
      "(3,) (1, 3) (1, 3)\n",
      "[[2 4 6]]\n",
      "[[1]\n",
      " [2]\n",
      " [3]]\n",
      "[[2 3 4]\n",
      " [3 4 5]\n",
      " [4 5 6]]\n"
     ]
    }
   ],
   "source": [
    "# 广播机制\n",
    "x = np.array([1, 2, 3])\n",
    "y = np.array([[1, 2, 3]])\n",
    "z = x+y\n",
    "print(x.shape, y.shape, z.shape)\n",
    "print(z)\n",
    "w = x[:, np.newaxis]\n",
    "print(w)\n",
    "print(x+w)"
   ]
  },
  {
   "cell_type": "code",
   "execution_count": 13,
   "metadata": {},
   "outputs": [
    {
     "name": "stdout",
     "output_type": "stream",
     "text": [
      "[[  61 3721]\n",
      " [   1    1]\n",
      " [  17  289]\n",
      " [  30  900]\n",
      " [  76 5776]\n",
      " [  51 2601]\n",
      " [  38 1444]\n",
      " [  48 2304]\n",
      " [  69 4761]\n",
      " [  94 8836]]\n"
     ]
    }
   ],
   "source": [
    "# sample点\n",
    "import random\n",
    "def rand_row(array,dim_needed):  #array为需要采样的矩阵，dim_needed为想要抽取的行数\n",
    "    row_total = array.shape[0]\n",
    "    row_sequence = np.arange(row_total)\n",
    "    np.random.shuffle(row_sequence)\n",
    "    return array[row_sequence[0:dim_needed],:]\n",
    "\n",
    "input = np.array([[i, i*i] for i in range(100)])\n",
    "output = rand_row(input, 10)\n",
    "print(output)"
   ]
  },
  {
   "cell_type": "code",
   "execution_count": 14,
   "metadata": {},
   "outputs": [
    {
     "name": "stdout",
     "output_type": "stream",
     "text": [
      "[[False False  True]\n",
      " [ True False False]]\n",
      "(array([0, 1]), array([2, 0]))\n",
      "[3 3]\n",
      "[[  1 102 103]\n",
      " [103 102   1]]\n",
      "[['low' '102' '103']\n",
      " ['103' '102' 'low']]\n"
     ]
    }
   ],
   "source": [
    "x = np.array([[1, 2, 3], [3, 2, 1]])\n",
    "y = x>2\n",
    "z = np.where(x>2)\n",
    "w = x[x>2]\n",
    "x[x>1]+=100\n",
    "xx = np.where(x>100, x, 'low')\n",
    "print(y)\n",
    "print(z)  # 坐标\n",
    "print(w)\n",
    "print(x)\n",
    "print(xx)"
   ]
  },
  {
   "cell_type": "code",
   "execution_count": 15,
   "metadata": {},
   "outputs": [
    {
     "name": "stdout",
     "output_type": "stream",
     "text": [
      "[[0 3 3]\n",
      " [0 1 9]]\n",
      "<class 'numpy.ndarray'>\n",
      "[3 3]\n",
      "[[2 3 3]\n",
      " [2 2 7]]\n"
     ]
    }
   ],
   "source": [
    "a = np.random.randint(10, size=(2, 3))\n",
    "print(a)\n",
    "a2 = np.extract(((a<7)&(a>2)), a)\n",
    "print(type(a2))\n",
    "print(a2)\n",
    "a3 = np.clip(a, 2, 7)\n",
    "print(a3)"
   ]
  },
  {
   "cell_type": "code",
   "execution_count": 16,
   "metadata": {},
   "outputs": [
    {
     "name": "stdout",
     "output_type": "stream",
     "text": [
      "[[4 5]\n",
      " [5 6]]\n",
      "[[4 5]\n",
      " [6 7]]\n",
      "[[ 4  5]\n",
      " [11 12]]\n"
     ]
    }
   ],
   "source": [
    "x = np.array([1, 2])\n",
    "y = np.array([3, 4])\n",
    "z = np.add.outer(x, y)\n",
    "print(z)\n",
    "z[1:]+=1\n",
    "print(z)\n",
    "np.add.at(z, np.s_[1,[0,1]], [5])\n",
    "print(z)"
   ]
  },
  {
   "cell_type": "markdown",
   "metadata": {},
   "source": [
    "# 矩阵乘法\n",
    "\n",
    "\tnp.dot：一般向量乘法\n",
    "\tnp.matmul/@：矩阵乘法\n",
    "\tnp.multiple/*：矩阵与标量乘法，或者对应元素相乘：\n"
   ]
  },
  {
   "cell_type": "code",
   "execution_count": 17,
   "metadata": {},
   "outputs": [
    {
     "name": "stdout",
     "output_type": "stream",
     "text": [
      "285\n",
      "[[3 3]\n",
      " [7 7]]\n",
      "[[3 3]\n",
      " [7 7]]\n",
      "[[ 5 10]\n",
      " [15 20]]\n",
      "[[ 5 10]\n",
      " [15 20]]\n"
     ]
    }
   ],
   "source": [
    "x = np.array([i for i in range(10)])\n",
    "y = np.array([i for i in range(10)])\n",
    "z = np.dot(x, y)\n",
    "print(z)\n",
    "x = np.array([[1, 2], [3, 4]])\n",
    "y = np.array([[1, 1], [1, 1]])\n",
    "z = np.matmul(x, y)\n",
    "z_ = x@y\n",
    "print(z)\n",
    "print(z_)\n",
    "z = x*5\n",
    "z_ = np.multiply(x, 5)\n",
    "print(z)\n",
    "print(z_)"
   ]
  },
  {
   "cell_type": "code",
   "execution_count": 34,
   "metadata": {},
   "outputs": [
    {
     "name": "stdout",
     "output_type": "stream",
     "text": [
      "(32512, 4) (4, 4)\n",
      "[[4. 4. 4. 4.]\n",
      " [4. 4. 4. 4.]\n",
      " [4. 4. 4. 4.]\n",
      " ...\n",
      " [4. 4. 4. 4.]\n",
      " [4. 4. 4. 4.]\n",
      " [4. 4. 4. 4.]]\n"
     ]
    }
   ],
   "source": [
    "# 注意，matrix逐渐被淘汰！\n",
    "a = np.matrix(np.ones((32512, 4)))\n",
    "b = np.matrix(np.ones((4, 4)))\n",
    "print(a.shape, b.shape)\n",
    "print(a*b)   # 相当于dot，和array不同！！！"
   ]
  },
  {
   "cell_type": "code",
   "execution_count": null,
   "metadata": {},
   "outputs": [
    {
     "name": "stdout",
     "output_type": "stream",
     "text": [
      "[2 3]\n"
     ]
    }
   ],
   "source": [
    "# 生成式做组合下标\n",
    "a = np.array([[1, 2], [3, 4]])\n",
    "b = np.array([1, 0])\n",
    "c = a[np.arange(2), b]\n",
    "print(c)"
   ]
  },
  {
   "cell_type": "code",
   "execution_count": null,
   "metadata": {},
   "outputs": [
    {
     "name": "stdout",
     "output_type": "stream",
     "text": [
      "[[False False]\n",
      " [ True  True]]\n",
      "[[0 0]\n",
      " [1 1]]\n"
     ]
    }
   ],
   "source": [
    "d = a>2\n",
    "print(d)\n",
    "print(np.array(d,dtype=int))"
   ]
  },
  {
   "cell_type": "markdown",
   "metadata": {},
   "source": [
    "# 聚合函数"
   ]
  },
  {
   "cell_type": "code",
   "execution_count": null,
   "metadata": {},
   "outputs": [
    {
     "name": "stdout",
     "output_type": "stream",
     "text": [
      "[2. 4.]\n",
      "[2. 3. 4.]\n"
     ]
    },
    {
     "data": {
      "text/plain": [
       "2.0"
      ]
     },
     "execution_count": 18,
     "metadata": {},
     "output_type": "execute_result"
    }
   ],
   "source": [
    "a = np.array([[1, 2, 3], [3, 4, 5]])\n",
    "b = np.mean(a, axis=1)  # 2*3 -> 2\n",
    "c = np.mean(a, axis=0)  # 2*3 -> 3\n",
    "print(b)\n",
    "print(c)\n",
    "a = np.array([1, 2, 3, np.nan])\n",
    "np.nanmean(a)"
   ]
  },
  {
   "cell_type": "code",
   "execution_count": null,
   "metadata": {},
   "outputs": [
    {
     "name": "stdout",
     "output_type": "stream",
     "text": [
      "2.5\n",
      "1.118033988749895\n",
      "1.25\n",
      "4\n",
      "3\n",
      "2.5\n"
     ]
    }
   ],
   "source": [
    "a = np.array([1, 2, 3, 4])\n",
    "mean = np.mean(a)\n",
    "std = np.std(a)\n",
    "var = np.var(a)\n",
    "max = np.max(a)\n",
    "argmax = np.argmax(a)\n",
    "median = np.median(a)\n",
    "# per = np.percentile(a)\n",
    "print(mean)\n",
    "print(std)\n",
    "print(var)\n",
    "print(max)\n",
    "print(argmax)\n",
    "print(median)\n",
    "# print(per)"
   ]
  },
  {
   "cell_type": "code",
   "execution_count": null,
   "metadata": {},
   "outputs": [
    {
     "name": "stdout",
     "output_type": "stream",
     "text": [
      "[[ 0  1  2  3]\n",
      " [ 4  5  6  7]\n",
      " [ 8  9 10 11]]\n",
      "5.5\n",
      "[4. 5. 6. 7.]\n",
      "[1.5 5.5 9.5]\n",
      "[[1.5]\n",
      " [5.5]\n",
      " [9.5]]\n",
      "[[-1.5 -0.5  0.5  1.5]\n",
      " [-1.5 -0.5  0.5  1.5]\n",
      " [-1.5 -0.5  0.5  1.5]]\n"
     ]
    }
   ],
   "source": [
    "# 按行中心化\n",
    "a = np.arange(12).reshape(3, 4)\n",
    "print(a)\n",
    "print(a.mean())  # all over\n",
    "print(a.mean(axis=0))  # 3*4 -> 4\n",
    "print(a.mean(axis=1))  # 3*4 -> 3\n",
    "print(a.mean(axis=1, keepdims=True))\n",
    "mean1 = a.mean(axis=1, keepdims=True)\n",
    "mean2 = a.mean(axis=1)\n",
    "b1 = a-mean1\n",
    "# operands could not be broadcast together with shapes (3,4) (3,) \n",
    "# b2 = a-mean2\n",
    "print(b1)\n"
   ]
  },
  {
   "cell_type": "code",
   "execution_count": null,
   "metadata": {},
   "outputs": [
    {
     "name": "stdout",
     "output_type": "stream",
     "text": [
      "[0 3 8 7 4 9 1 7 8 9]\n",
      "[3 0 1 4 7 7 8 8 9 9]\n",
      "[7 8 8 9 9]\n"
     ]
    }
   ],
   "source": [
    "# 排序和计数\n",
    "a = np.random.randint(0, 10, size=10)\n",
    "print(a)\n",
    "print(np.partition(a, 5))  # 第五位正确，左边都小于，右边都大于\n",
    "index = np.argpartition(a, 5)[5:]\n",
    "print(a[index])  # >=5th 元素集合"
   ]
  },
  {
   "cell_type": "markdown",
   "metadata": {},
   "source": [
    "# Ufunc: Universal function"
   ]
  },
  {
   "cell_type": "code",
   "execution_count": null,
   "metadata": {},
   "outputs": [
    {
     "name": "stdout",
     "output_type": "stream",
     "text": [
      "[[0 1 2 3]\n",
      " [4 5 6 7]]\n",
      "[ 4  6  8 10]\n",
      "[ 6 22]\n",
      "[ 3 -1  7 -1]\n"
     ]
    }
   ],
   "source": [
    "x = np.arange(8).reshape(2, 4)\n",
    "print(x)\n",
    "print(np.add.reduce(x))\n",
    "print(np.add.reduce(x, 1))\n",
    "print(np.add.reduce(x, initial=-1, where=[True, False, True, False]))\n"
   ]
  },
  {
   "cell_type": "markdown",
   "metadata": {},
   "source": [
    "# Nditer\n",
    "```python\n",
    "class numpy.nditer(op, flags=None, op_flags=None, op_dtypes=None, order='K', casting='safe', op_axes=None, itershape=None, buffersize=0)\n",
    "```\n",
    "\n"
   ]
  },
  {
   "cell_type": "code",
   "execution_count": null,
   "metadata": {},
   "outputs": [
    {
     "name": "stdout",
     "output_type": "stream",
     "text": [
      "<class 'numpy.nditer'>\n",
      "0\n",
      "1\n"
     ]
    }
   ],
   "source": [
    "# 迭代器\n",
    "a = np.arange(12)\n",
    "iter = np.nditer(a)\n",
    "print(type(iter))\n",
    "print(next(iter))\n",
    "print(next(iter))"
   ]
  },
  {
   "cell_type": "markdown",
   "metadata": {},
   "source": [
    "# np.frompyfunc()"
   ]
  },
  {
   "cell_type": "code",
   "execution_count": null,
   "metadata": {},
   "outputs": [
    {
     "name": "stdout",
     "output_type": "stream",
     "text": [
      "[1 2 3]\n"
     ]
    }
   ],
   "source": [
    "def func_x(a):\n",
    "\ty = a + 1\n",
    "\treturn y\n",
    "A = [0, 1, 2]\n",
    "func_ = np.frompyfunc(func_x, 1, 1)  # 1， 1 分别是参数和返回值的个数\n",
    "y = func_(A)\n",
    "print(y)\n"
   ]
  },
  {
   "cell_type": "markdown",
   "metadata": {},
   "source": [
    "# 求解矩阵方程"
   ]
  },
  {
   "cell_type": "code",
   "execution_count": null,
   "metadata": {},
   "outputs": [
    {
     "name": "stdout",
     "output_type": "stream",
     "text": [
      "delta_time1: 0.0015420913696289062\n",
      "delta_time2: 0.0004324913024902344\n",
      "[[-3. -4.]\n",
      " [ 4.  5.]]\n",
      "[[-3. -4.]\n",
      " [ 4.  5.]]\n"
     ]
    }
   ],
   "source": [
    "def func1(B, C):\n",
    "\tx = np.linalg.inv(B)@C\n",
    "\treturn x\n",
    "def func2(B, C):\n",
    "\tx = np.linalg.solve(B, C)\n",
    "\treturn x\n",
    "B = np.array([[1, 2], [3, 4]])\n",
    "C = np.array([[5, 6], [7, 8]])\n",
    "time1 = time.time()\n",
    "s1 = func1(B, C)\n",
    "time2 = time.time()\n",
    "s2 = func2(B, C)\n",
    "time3 = time.time()\n",
    "print(\"delta_time1:\", time2-time1)\n",
    "print(\"delta_time2:\", time3-time2)\n",
    "print(s1)\n",
    "print(s2)\n"
   ]
  },
  {
   "cell_type": "markdown",
   "metadata": {},
   "source": [
    "# 特征值与特征向量"
   ]
  },
  {
   "cell_type": "code",
   "execution_count": null,
   "metadata": {},
   "outputs": [
    {
     "name": "stdout",
     "output_type": "stream",
     "text": [
      "(100, 1)\n",
      "(100, 1)\n",
      "(100, 2)\n",
      "(100, 2)\n"
     ]
    }
   ],
   "source": [
    "np.random.seed(123)\n",
    "x = 5 * np.random.rand(100)\n",
    "y = 2 * x + 1 + np.random.randn(100)\n",
    "x = x.reshape((100, 1))\n",
    "y = y.reshape((100, 1))\n",
    "print(x.shape)\n",
    "print(y.shape)\n",
    "X = np.hstack((x, y))  # 水平堆叠\n",
    "X_ = np.concatenate((x, y), axis=1)\n",
    "\n",
    "print(X.shape)\n",
    "print(X_.shape)"
   ]
  },
  {
   "cell_type": "code",
   "execution_count": null,
   "metadata": {},
   "outputs": [
    {
     "data": {
      "image/png": "[encoded data removed]",
      "text/plain": [
       "<Figure size 432x288 with 1 Axes>"
      ]
     },
     "metadata": {
      "needs_background": "light"
     },
     "output_type": "display_data"
    }
   ],
   "source": [
    "import matplotlib.pyplot as plt\n",
    "plt.plot(X[:, 0], X[:, 1], '*')\n",
    "plt.show()"
   ]
  },
  {
   "cell_type": "code",
   "execution_count": null,
   "metadata": {},
   "outputs": [
    {
     "data": {
      "image/png": "[encoded data removed]",
      "text/plain": [
       "<Figure size 432x288 with 1 Axes>"
      ]
     },
     "metadata": {
      "needs_background": "light"
     },
     "output_type": "display_data"
    }
   ],
   "source": [
    "def centerData(X):\n",
    "\tX = X.copy()\n",
    "\tX -=np.mean(X, axis=0)\n",
    "\treturn X\n",
    "X_centered = centerData(X)\n",
    "plt.plot(X_centered[:, 0], X_centered[:, 1], '*')\n",
    "plt.show()"
   ]
  },
  {
   "cell_type": "code",
   "execution_count": null,
   "metadata": {},
   "outputs": [
    {
     "data": {
      "image/png": "[encoded data removed]",
      "text/plain": [
       "<Figure size 432x288 with 1 Axes>"
      ]
     },
     "metadata": {
      "needs_background": "light"
     },
     "output_type": "display_data"
    }
   ],
   "source": [
    "eigVal, eigVec = np.linalg.eig(X_centered.T.dot(X_centered))\n",
    "orange = '#FF9A13'\n",
    "blue = '#1190FF'\n",
    "plt.plot([0, eigVec[0][0]], [0, eigVec[1][0]], orange)\n",
    "plt.plot([0, eigVec[0][1]], [0, eigVec[1][1]], blue)\n",
    "plt.plot(X_centered[:, 0], X_centered[:, 1], '*')\n",
    "plt.xlim(-3, 3)\n",
    "plt.ylim(-3, 3)\n",
    "plt.show()"
   ]
  },
  {
   "cell_type": "markdown",
   "metadata": {},
   "source": [
    "# 主成分分析和特征空间降维"
   ]
  },
  {
   "cell_type": "code",
   "execution_count": null,
   "metadata": {},
   "outputs": [
    {
     "name": "stdout",
     "output_type": "stream",
     "text": [
      "(10000, 3) (10000,)\n"
     ]
    },
    {
     "name": "stderr",
     "output_type": "stream",
     "text": [
      "/tmp/ipykernel_108079/2255385191.py:13: MatplotlibDeprecationWarning: Axes3D(fig) adding itself to the figure is deprecated since 3.4. Pass the keyword argument auto_add_to_figure=False and use fig.add_axes(ax) to suppress this warning. The default value of auto_add_to_figure will change to False in mpl3.5 and True values will no longer work in 3.6.  This is consistent with other Axes classes.\n",
      "  ax = Axes3D(fig, rect=[0, 0, 1, 1], elev=30, azim=20)\n",
      "/home/gyr/.local/lib/python3.8/site-packages/matplotlib/collections.py:982: RuntimeWarning: invalid value encountered in sqrt\n",
      "  scale = np.sqrt(self._sizes) * dpi / 72.0 * self._factor\n"
     ]
    },
    {
     "data": {
      "image/png": "[encoded data removed]",
      "text/plain": [
       "<Figure size 432x288 with 1 Axes>"
      ]
     },
     "metadata": {
      "needs_background": "light"
     },
     "output_type": "display_data"
    }
   ],
   "source": [
    "import numpy as np\n",
    "import matplotlib.pyplot as plt\n",
    "from mpl_toolkits.mplot3d import Axes3D\n",
    "from sklearn.datasets._samples_generator import make_blobs\n",
    "\n",
    "# 样本10000个，特征维度3\n",
    "X, y = make_blobs(n_samples=10000, n_features=3, centers=[[3, 3, 3], [0, 0, 0], [1, 1, 1], [2, 2, 2]],\n",
    "                  cluster_std=[0.3, 0.1, 0.2, 0.2], random_state=9)\n",
    "print(X.shape, y.shape)\n",
    "\n",
    "# 画图\n",
    "fig = plt.figure()\n",
    "ax = Axes3D(fig, rect=[0, 0, 1, 1], elev=30, azim=20)\n",
    "plt.scatter(X[:, 0], X[:, 1], X[:, 2], marker='o')\n",
    "plt.show()"
   ]
  },
  {
   "cell_type": "code",
   "execution_count": null,
   "metadata": {},
   "outputs": [
    {
     "name": "stdout",
     "output_type": "stream",
     "text": [
      "[3.79892109 0.04478817 0.04527736]\n"
     ]
    }
   ],
   "source": [
    "eigvalue, eigvector = np.linalg.eig(np.cov(X.T))\n",
    "print(eigvalue)"
   ]
  },
  {
   "cell_type": "code",
   "execution_count": null,
   "metadata": {},
   "outputs": [
    {
     "name": "stdout",
     "output_type": "stream",
     "text": [
      "[[ 0.57562588 -0.03567609]\n",
      " [ 0.57886451 -0.68785517]\n",
      " [ 0.57755581  0.72497068]]\n",
      "[[ 1.29020605  0.08293971]\n",
      " [-2.59042662 -0.02068752]\n",
      " [ 2.91868629 -0.11216306]\n",
      " ...\n",
      " [ 2.48746513 -0.01803636]\n",
      " [ 3.1736115  -0.12625339]\n",
      " [ 2.12166867 -0.23719664]]\n"
     ]
    }
   ],
   "source": [
    "# 获取第一个和第三个特征\n",
    "a = np.hstack((eigvector[:, 0].reshape(3, -1), eigvector[:, -1].reshape(3, -1)))\n",
    "print(a)\n",
    "X = X - X.mean(axis=0)\n",
    "X_new1 = X.dot(a)\n",
    "print(X_new1)"
   ]
  },
  {
   "cell_type": "code",
   "execution_count": null,
   "metadata": {},
   "outputs": [
    {
     "data": {
      "image/png": "[encoded data removed]",
      "text/plain": [
       "<Figure size 432x288 with 1 Axes>"
      ]
     },
     "metadata": {
      "needs_background": "light"
     },
     "output_type": "display_data"
    }
   ],
   "source": [
    "fig = plt.scatter(X_new1[:, 0], X_new1[:, 1], marker='o')\n",
    "plt.show()"
   ]
  },
  {
   "cell_type": "code",
   "execution_count": null,
   "metadata": {},
   "outputs": [],
   "source": []
  }
 ],
 "metadata": {
  "interpreter": {
   "hash": "31f2aee4e71d21fbe5cf8b01ff0e069b9275f58929596ceb00d14d90e3e16cd6"
  },
  "kernelspec": {
   "display_name": "Python 3.8.10 64-bit",
   "language": "python",
   "name": "python3"
  },
  "language_info": {
   "codemirror_mode": {
    "name": "ipython",
    "version": 3
   },
   "file_extension": ".py",
   "mimetype": "text/x-python",
   "name": "python",
   "nbconvert_exporter": "python",
   "pygments_lexer": "ipython3",
   "version": "3.8.10"
  },
  "orig_nbformat": 4
 },
 "nbformat": 4,
 "nbformat_minor": 2
}
