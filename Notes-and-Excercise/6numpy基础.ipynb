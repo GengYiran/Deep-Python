{
 "cells": [
  {
   "cell_type": "markdown",
   "metadata": {},
   "source": [
    "# python中的array"
   ]
  },
  {
   "cell_type": "code",
   "execution_count": 1,
   "metadata": {},
   "outputs": [
    {
     "name": "stdout",
     "output_type": "stream",
     "text": [
      "array('i')\n",
      "array('i', [1, 2, 3, 4])\n"
     ]
    }
   ],
   "source": [
    "from array import array\n",
    "# 类型id+初始化\n",
    "arr = array('i', [i for i in range(1, 8)])\n",
    "with open(\"useful_folder/arr.bin\", 'wb') as f:\n",
    "\tarr.tofile(f)\n",
    "arr2 = array('i')\n",
    "print(arr2)\n",
    "with open(\"useful_folder/arr.bin\", 'rb') as f:\n",
    "\tarr2.fromfile(f, 4)\n",
    "print(arr2)"
   ]
  },
  {
   "cell_type": "markdown",
   "metadata": {},
   "source": [
    "# Ndarray\n",
    "![](Images/2022-03-24-01-12-10.png)"
   ]
  },
  {
   "cell_type": "code",
   "execution_count": 2,
   "metadata": {},
   "outputs": [
    {
     "name": "stdout",
     "output_type": "stream",
     "text": [
      "<class 'numpy.ndarray'>\n",
      "<class 'numpy.int64'>\n",
      "<class 'numpy.float64'>\n",
      "[1 2 3]\n",
      "[1. 2. 3.]\n",
      "[1. 2. 3.]\n",
      "[1 2 3]\n",
      "[1 2 3 4 5 6 7]\n",
      "{1, 2, 3}\n",
      "<class 'numpy.ndarray'>\n",
      "<class 'numpy.ndarray'>\n"
     ]
    }
   ],
   "source": [
    "import numpy as np\n",
    "# np.array\n",
    "arr1 = np.array([1, 2, 3])\n",
    "arr2 = np.array([1., 2, 3])\n",
    "arr3 = np.array([1, 2, 3],dtype=float)\n",
    "arr4 = np.array([1., 2, 3],dtype=int)\n",
    "arr5 = np.array([i for i in range(1, 8)])\n",
    "arr6 = np.array(set([1, 1, 3, 2]))\n",
    "print(type(arr1))\n",
    "print(type(arr1[0]))\n",
    "print(type(arr2[0]))\n",
    "print(arr1)\n",
    "print(arr2) # 有小数全部变成小数\n",
    "print(arr3)\n",
    "print(arr4)\n",
    "print(arr5)\n",
    "print(arr6)\n",
    "print(type(arr5))\n",
    "print(type(arr6))"
   ]
  },
  {
   "cell_type": "code",
   "execution_count": 3,
   "metadata": {},
   "outputs": [
    {
     "name": "stdout",
     "output_type": "stream",
     "text": [
      "[1. 2. 3.]\n",
      "[1 2 3]\n",
      "[1 2 3]\n",
      "[1 2 3]\n",
      "[[[[[1 2 3]]]]]\n"
     ]
    }
   ],
   "source": [
    "# np.array的附加参数\n",
    "a1 = np.array([1, 2, 3],dtype=float)\n",
    "a2 = np.array([1., 2, 3],dtype=int)\n",
    "a3 = np.array([1, 2, 3], order='C')\n",
    "a4 = np.array([1, 2, 3], order='F')  # 保存元素的方式，不会显示出差别\n",
    "a5 = np.array([1, 2, 3], ndmin=5)\n",
    "\n",
    "print(a1)\n",
    "print(a2)\n",
    "print(a3)\n",
    "print(a4)\n",
    "print(a5)\n"
   ]
  },
  {
   "cell_type": "code",
   "execution_count": 4,
   "metadata": {},
   "outputs": [
    {
     "name": "stdout",
     "output_type": "stream",
     "text": [
      "[[1.+0.j 1.+0.j 1.+0.j 1.+0.j]\n",
      " [1.+0.j 1.+0.j 1.+0.j 1.+0.j]\n",
      " [1.+0.j 1.+0.j 1.+0.j 1.+0.j]]\n",
      "[1. 1.]\n",
      "[[0.+0.j 0.+0.j 0.+0.j 0.+0.j]\n",
      " [0.+0.j 0.+0.j 0.+0.j 0.+0.j]\n",
      " [0.+0.j 0.+0.j 0.+0.j 0.+0.j]]\n",
      "[0. 0.]\n",
      "[[7 7 7]\n",
      " [7 7 7]]\n",
      "[[1. 0. 0.]\n",
      " [0. 1. 0.]\n",
      " [0. 0. 1.]]\n",
      "[[0.76637593 0.5320267  0.31043896]\n",
      " [0.5601544  0.96268575 0.09391817]]\n"
     ]
    }
   ],
   "source": [
    "# 定义array\n",
    "a1 = np.ones((3, 4), dtype=complex)\n",
    "a2 = np.ones_like((3, 4), dtype=float)\n",
    "a3 = np.zeros((3, 4), dtype=complex)\n",
    "a4 = np.zeros_like((3, 4), dtype=float)\n",
    "a5 = np.full((2, 3), 7)\n",
    "a6 = np.eye(3)\n",
    "a7 = np.random.random((2, 3))\n",
    "print(a1)\n",
    "print(a2)\n",
    "print(a3)\n",
    "print(a4)\n",
    "print(a5)\n",
    "print(a6)\n",
    "print(a7)"
   ]
  },
  {
   "cell_type": "code",
   "execution_count": 5,
   "metadata": {},
   "outputs": [
    {
     "name": "stdout",
     "output_type": "stream",
     "text": [
      "(2, 3)\n",
      "2\n",
      "6\n",
      "int64\n",
      "8\n",
      "  C_CONTIGUOUS : True\n",
      "  F_CONTIGUOUS : False\n",
      "  OWNDATA : True\n",
      "  WRITEABLE : True\n",
      "  ALIGNED : True\n",
      "  WRITEBACKIFCOPY : False\n",
      "  UPDATEIFCOPY : False\n",
      "\n",
      "[[1 2 3]\n",
      " [4 5 6]]\n",
      "[[0 0 0]\n",
      " [0 0 0]]\n",
      "<memory at 0x7f4d7d7f5380>\n",
      "(24, 8)\n"
     ]
    }
   ],
   "source": [
    "# 数组属性\n",
    "a1 = np.array([[1, 2, 3], [4, 5, 6]])\n",
    "print(a1.shape)\n",
    "print(a1.ndim)\n",
    "print(a1.size)  # shape乘积\n",
    "print(a1.dtype)\n",
    "print(a1.itemsize)  # 元素字节大小\n",
    "print(a1.flags)  # 内存信息\n",
    "print(a1.real)\n",
    "print(a1.imag)\n",
    "print(a1.data)  # 缓冲区\n",
    "print(a1.strides) # 8字节走到下一个元素，24字节走到下一行元素"
   ]
  },
  {
   "cell_type": "code",
   "execution_count": 6,
   "metadata": {},
   "outputs": [
    {
     "name": "stdout",
     "output_type": "stream",
     "text": [
      "[[1 2 3]\n",
      " [4 5 6]]\n",
      "[1 2 3 4 5 6]\n",
      "[[[1 2 3]\n",
      "  [4 5 6]]]\n",
      "[[[1]\n",
      "  [2]]\n",
      "\n",
      " [[3]\n",
      "  [4]]\n",
      "\n",
      " [[5]\n",
      "  [6]]]\n"
     ]
    }
   ],
   "source": [
    "# reshape\n",
    "a1 = np.array([[1, 2, 3], [4, 5, 6]])\n",
    "a2 = a1.reshape((6))\n",
    "a3 = a1.reshape((1, 2, 3))\n",
    "a4 = a1.reshape((3, 2, -1))\n",
    "print(a1)\n",
    "print(a2)\n",
    "print(a3)\n",
    "print(a4)"
   ]
  },
  {
   "cell_type": "code",
   "execution_count": 7,
   "metadata": {},
   "outputs": [
    {
     "name": "stdout",
     "output_type": "stream",
     "text": [
      "0.054651498794555664\n",
      "0.0469815731048584\n",
      "0.06186676025390625\n",
      "0.052898406982421875\n",
      "0.04966998100280762\n",
      "0.05733227729797363\n",
      "0.05394911766052246\n",
      "0.07128667831420898\n",
      "0.07538533210754395\n",
      "0.06815767288208008\n"
     ]
    }
   ],
   "source": [
    "# 矩阵相加\n",
    "import torch\n",
    "import time\n",
    "x = np.array([[i for i in range(1, 10000000)], [i for i in range(1, 10000000)]])\n",
    "y = np.array([[i for i in range(1, 10000000)], [i for i in range(1, 10000000)]])\n",
    "x_t = torch.tensor(x)\n",
    "y_t = torch.tensor(y)\n",
    "time1 = time.time()\n",
    "x+y\n",
    "time2 = time.time()\n",
    "x_t+y_t\n",
    "time3 = time.time()\n",
    "np.add(x, y)\n",
    "time4 = time.time()\n",
    "x-y\n",
    "time5 = time.time()\n",
    "np.subtract(x, y)\n",
    "time6 = time.time()\n",
    "x*y\n",
    "time7 = time.time()\n",
    "x_t*y_t\n",
    "time8 = time.time()\n",
    "x/y\n",
    "time9 = time.time()\n",
    "np.divide(x, y)\n",
    "time10 = time.time()\n",
    "x_t/y_t\n",
    "time11 = time.time()\n",
    "np.sqrt(x)\n",
    "print(time2-time1)\n",
    "print(time3-time2)\n",
    "print(time4-time3)\n",
    "print(time5-time4)\n",
    "print(time6-time5)\n",
    "print(time7-time6)\n",
    "print(time8-time7)\n",
    "print(time9-time8)\n",
    "print(time10-time9)\n",
    "print(time11-time10)\n",
    "# 发现时间相近！！！"
   ]
  },
  {
   "cell_type": "code",
   "execution_count": 8,
   "metadata": {},
   "outputs": [
    {
     "name": "stdout",
     "output_type": "stream",
     "text": [
      "[[1 3 2]\n",
      " [6 5 4]\n",
      " [1 1 1]\n",
      " [1 1 1]]\n",
      "[[1 3 2 1 1 1]\n",
      " [6 5 4 1 1 1]]\n",
      "[[1 2 3]\n",
      " [4 5 6]\n",
      " [1 1 1]\n",
      " [1 1 1]]\n",
      "[[1 2 3]\n",
      " [4 5 6]\n",
      " [1 1 1]\n",
      " [1 1 1]]\n",
      "5\n"
     ]
    }
   ],
   "source": [
    "# concatenate\n",
    "x = np.array([[1, 3, 2], [6, 5, 4]])\n",
    "y = np.array([[1, 1, 1], [1, 1, 1]])\n",
    "z = np.concatenate((x, y), axis=0) # axis默认是0\n",
    "w = np.concatenate((x, y), axis=1)\n",
    "print(z)\n",
    "print(w)\n",
    "z.sort(axis=1)\n",
    "print(z)\n",
    "z.sort()\n",
    "print(z)\n",
    "print(np.argmax(z))\n"
   ]
  },
  {
   "cell_type": "code",
   "execution_count": 9,
   "metadata": {},
   "outputs": [
    {
     "name": "stdout",
     "output_type": "stream",
     "text": [
      "(3,) (1, 3) (1, 3)\n",
      "[[2 4 6]]\n",
      "[[1]\n",
      " [2]\n",
      " [3]]\n",
      "[[2 3 4]\n",
      " [3 4 5]\n",
      " [4 5 6]]\n"
     ]
    }
   ],
   "source": [
    "# 广播机制\n",
    "x = np.array([1, 2, 3])\n",
    "y = np.array([[1, 2, 3]])\n",
    "z = x+y\n",
    "print(x.shape, y.shape, z.shape)\n",
    "print(z)\n",
    "w = x[:, np.newaxis]\n",
    "print(w)\n",
    "print(x+w)"
   ]
  },
  {
   "cell_type": "code",
   "execution_count": 10,
   "metadata": {},
   "outputs": [
    {
     "name": "stdout",
     "output_type": "stream",
     "text": [
      "[[  88 7744]\n",
      " [   2    4]\n",
      " [  92 8464]\n",
      " [   5   25]\n",
      " [  68 4624]\n",
      " [  81 6561]\n",
      " [  89 7921]\n",
      " [  64 4096]\n",
      " [  74 5476]\n",
      " [   7   49]]\n"
     ]
    }
   ],
   "source": [
    "# sample点\n",
    "import random\n",
    "def rand_row(array,dim_needed):  #array为需要采样的矩阵，dim_needed为想要抽取的行数\n",
    "    row_total = array.shape[0]\n",
    "    row_sequence = np.arange(row_total)\n",
    "    np.random.shuffle(row_sequence)\n",
    "    return array[row_sequence[0:dim_needed],:]\n",
    "\n",
    "input = np.array([[i, i*i] for i in range(100)])\n",
    "output = rand_row(input, 10)\n",
    "print(output)"
   ]
  },
  {
   "cell_type": "markdown",
   "metadata": {},
   "source": [
    "# 矩阵乘法\n",
    "\n",
    "\tnp.dot：一般向量乘法\n",
    "\tnp.matmul/@：矩阵乘法\n",
    "\tnp.multiple/*：矩阵与标量乘法\n"
   ]
  },
  {
   "cell_type": "code",
   "execution_count": 11,
   "metadata": {},
   "outputs": [
    {
     "name": "stdout",
     "output_type": "stream",
     "text": [
      "285\n",
      "[[3 3]\n",
      " [7 7]]\n",
      "[[3 3]\n",
      " [7 7]]\n",
      "[[ 5 10]\n",
      " [15 20]]\n",
      "[[ 5 10]\n",
      " [15 20]]\n"
     ]
    }
   ],
   "source": [
    "x = np.array([i for i in range(10)])\n",
    "y = np.array([i for i in range(10)])\n",
    "z = np.dot(x, y)\n",
    "print(z)\n",
    "x = np.array([[1, 2], [3, 4]])\n",
    "y = np.array([[1, 1], [1, 1]])\n",
    "z = np.matmul(x, y)\n",
    "z_ = x@y\n",
    "print(z)\n",
    "print(z_)\n",
    "z = x*5\n",
    "z_ = np.multiply(x, 5)\n",
    "print(z)\n",
    "print(z_)"
   ]
  },
  {
   "cell_type": "code",
   "execution_count": 12,
   "metadata": {},
   "outputs": [
    {
     "name": "stdout",
     "output_type": "stream",
     "text": [
      "[2 3]\n"
     ]
    }
   ],
   "source": [
    "# 生成式做组合下标\n",
    "a = np.array([[1, 2], [3, 4]])\n",
    "b = np.array([1, 0])\n",
    "c = a[np.arange(2), b]\n",
    "print(c)"
   ]
  },
  {
   "cell_type": "code",
   "execution_count": 13,
   "metadata": {},
   "outputs": [
    {
     "name": "stdout",
     "output_type": "stream",
     "text": [
      "[[False False]\n",
      " [ True  True]]\n",
      "[[0 0]\n",
      " [1 1]]\n"
     ]
    }
   ],
   "source": [
    "d = a>2\n",
    "print(d)\n",
    "print(np.array(d,dtype=int))"
   ]
  },
  {
   "cell_type": "markdown",
   "metadata": {},
   "source": [
    "# 求解矩阵方程"
   ]
  },
  {
   "cell_type": "code",
   "execution_count": 14,
   "metadata": {},
   "outputs": [
    {
     "name": "stdout",
     "output_type": "stream",
     "text": [
      "delta_time1: 0.0004093647003173828\n",
      "delta_time2: 0.0001404285430908203\n",
      "[[-3. -4.]\n",
      " [ 4.  5.]]\n",
      "[[-3. -4.]\n",
      " [ 4.  5.]]\n"
     ]
    }
   ],
   "source": [
    "def func1(B, C):\n",
    "\tx = np.linalg.inv(B)@C\n",
    "\treturn x\n",
    "def func2(B, C):\n",
    "\tx = np.linalg.solve(B, C)\n",
    "\treturn x\n",
    "B = np.array([[1, 2], [3, 4]])\n",
    "C = np.array([[5, 6], [7, 8]])\n",
    "time1 = time.time()\n",
    "s1 = func1(B, C)\n",
    "time2 = time.time()\n",
    "s2 = func2(B, C)\n",
    "time3 = time.time()\n",
    "print(\"delta_time1:\", time2-time1)\n",
    "print(\"delta_time2:\", time3-time2)\n",
    "print(s1)\n",
    "print(s2)\n"
   ]
  },
  {
   "cell_type": "markdown",
   "metadata": {},
   "source": [
    "# 特征值与特征向量"
   ]
  },
  {
   "cell_type": "code",
   "execution_count": 15,
   "metadata": {},
   "outputs": [
    {
     "name": "stdout",
     "output_type": "stream",
     "text": [
      "(100, 1)\n",
      "(100, 1)\n",
      "(100, 2)\n",
      "(100, 2)\n"
     ]
    }
   ],
   "source": [
    "np.random.seed(123)\n",
    "x = 5 * np.random.rand(100)\n",
    "y = 2 * x + 1 + np.random.randn(100)\n",
    "x = x.reshape((100, 1))\n",
    "y = y.reshape((100, 1))\n",
    "print(x.shape)\n",
    "print(y.shape)\n",
    "X = np.hstack((x, y))  # 水平堆叠\n",
    "X_ = np.concatenate((x, y), axis=1)\n",
    "\n",
    "print(X.shape)\n",
    "print(X_.shape)"
   ]
  },
  {
   "cell_type": "code",
   "execution_count": 16,
   "metadata": {},
   "outputs": [
    {
     "data": {
      "image/png": "[encoded data removed]",
      "text/plain": [
       "<Figure size 432x288 with 1 Axes>"
      ]
     },
     "metadata": {},
     "output_type": "display_data"
    }
   ],
   "source": [
    "import matplotlib.pyplot as plt\n",
    "plt.plot(X[:, 0], X[:, 1], '*')\n",
    "plt.show()"
   ]
  },
  {
   "cell_type": "code",
   "execution_count": 18,
   "metadata": {},
   "outputs": [
    {
     "data": {
      "image/png": "[encoded data removed]",
      "text/plain": [
       "<Figure size 432x288 with 1 Axes>"
      ]
     },
     "metadata": {},
     "output_type": "display_data"
    }
   ],
   "source": [
    "def centerData(X):\n",
    "\tX = X.copy()\n",
    "\tX -=np.mean(X, axis=0)\n",
    "\treturn X\n",
    "X_centered = centerData(X)\n",
    "plt.plot(X_centered[:, 0], X_centered[:, 1], '*')\n",
    "plt.show()"
   ]
  },
  {
   "cell_type": "code",
   "execution_count": null,
   "metadata": {},
   "outputs": [],
   "source": []
  }
 ],
 "metadata": {
  "interpreter": {
   "hash": "31f2aee4e71d21fbe5cf8b01ff0e069b9275f58929596ceb00d14d90e3e16cd6"
  },
  "kernelspec": {
   "display_name": "Python 3.8.10 64-bit",
   "language": "python",
   "name": "python3"
  },
  "language_info": {
   "codemirror_mode": {
    "name": "ipython",
    "version": 3
   },
   "file_extension": ".py",
   "mimetype": "text/x-python",
   "name": "python",
   "nbconvert_exporter": "python",
   "pygments_lexer": "ipython3",
   "version": "3.8.10"
  },
  "orig_nbformat": 4
 },
 "nbformat": 4,
 "nbformat_minor": 2
}
