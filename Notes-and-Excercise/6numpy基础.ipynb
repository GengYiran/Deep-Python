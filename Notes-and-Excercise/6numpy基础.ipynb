{
 "cells": [
  {
   "cell_type": "markdown",
   "metadata": {},
   "source": [
    "# python中的array"
   ]
  },
  {
   "cell_type": "code",
   "execution_count": 3,
   "metadata": {},
   "outputs": [
    {
     "name": "stdout",
     "output_type": "stream",
     "text": [
      "array('i')\n",
      "array('i', [1, 2, 3, 4])\n"
     ]
    }
   ],
   "source": [
    "from array import array\n",
    "# 类型id+初始化\n",
    "arr = array('i', [i for i in range(1, 8)])\n",
    "with open(\"useful_folder/arr.bin\", 'wb') as f:\n",
    "\tarr.tofile(f)\n",
    "arr2 = array('i')\n",
    "print(arr2)\n",
    "with open(\"useful_folder/arr,bin\", 'rb') as f:\n",
    "\tarr2.fromfile(f, 4)\n",
    "print(arr2)"
   ]
  },
  {
   "cell_type": "markdown",
   "metadata": {},
   "source": [
    "# Ndarray\n",
    "![](Images/2022-03-24-01-12-10.png)"
   ]
  },
  {
   "cell_type": "code",
   "execution_count": 35,
   "metadata": {},
   "outputs": [
    {
     "name": "stdout",
     "output_type": "stream",
     "text": [
      "<class 'numpy.ndarray'>\n",
      "<class 'numpy.int64'>\n",
      "<class 'numpy.float64'>\n",
      "[1 2 3]\n",
      "[1. 2. 3.]\n",
      "[1. 2. 3.]\n",
      "[1 2 3]\n",
      "[1 2 3 4 5 6 7]\n",
      "{1, 2, 3}\n",
      "<class 'numpy.ndarray'>\n",
      "<class 'numpy.ndarray'>\n"
     ]
    }
   ],
   "source": [
    "import numpy as np\n",
    "# np.array\n",
    "arr1 = np.array([1, 2, 3])\n",
    "arr2 = np.array([1., 2, 3])\n",
    "arr3 = np.array([1, 2, 3],dtype=float)\n",
    "arr4 = np.array([1., 2, 3],dtype=int)\n",
    "arr5 = np.array([i for i in range(1, 8)])\n",
    "arr6 = np.array(set([1, 1, 3, 2]))\n",
    "print(type(arr1))\n",
    "print(type(arr1[0]))\n",
    "print(type(arr2[0]))\n",
    "print(arr1)\n",
    "print(arr2) # 有小数全部变成小数\n",
    "print(arr3)\n",
    "print(arr4)\n",
    "print(arr5)\n",
    "print(arr6)\n",
    "print(type(arr5))\n",
    "print(type(arr6))"
   ]
  },
  {
   "cell_type": "code",
   "execution_count": 29,
   "metadata": {},
   "outputs": [
    {
     "name": "stdout",
     "output_type": "stream",
     "text": [
      "[1 2 3]\n",
      "[1 2 3]\n",
      "[[[[[1 2 3]]]]]\n",
      "[1 2 3 4 5 6 7]\n",
      "{1, 2, 3}\n",
      "<class 'numpy.ndarray'>\n",
      "<class 'numpy.ndarray'>\n"
     ]
    }
   ],
   "source": [
    "# np.array的附加参数\n",
    "a1 = np.array([1, 2, 3],dtype=float)\n",
    "a2 = np.array([1., 2, 3],dtype=int)\n",
    "a3 = np.array([1, 2, 3], order='C')\n",
    "a4 = np.array([1, 2, 3], order='F')  # 保存元素的方式，不会显示出差别\n",
    "a5 = np.array([1, 2, 3], ndmin=5)\n",
    "\n",
    "print(a1)\n",
    "print(a2)\n",
    "print(a3)\n",
    "print(a4)\n",
    "print(a5)\n"
   ]
  },
  {
   "cell_type": "code",
   "execution_count": 36,
   "metadata": {},
   "outputs": [
    {
     "name": "stdout",
     "output_type": "stream",
     "text": [
      "[[1.+0.j 1.+0.j 1.+0.j 1.+0.j]\n",
      " [1.+0.j 1.+0.j 1.+0.j 1.+0.j]\n",
      " [1.+0.j 1.+0.j 1.+0.j 1.+0.j]]\n",
      "[1. 1.]\n",
      "[[0.+0.j 0.+0.j 0.+0.j 0.+0.j]\n",
      " [0.+0.j 0.+0.j 0.+0.j 0.+0.j]\n",
      " [0.+0.j 0.+0.j 0.+0.j 0.+0.j]]\n",
      "[0. 0.]\n",
      "[[7 7 7]\n",
      " [7 7 7]]\n",
      "[[1. 0. 0.]\n",
      " [0. 1. 0.]\n",
      " [0. 0. 1.]]\n",
      "[[0.87486111 0.71044505 0.73286844]\n",
      " [0.6893115  0.45261792 0.39504636]]\n"
     ]
    }
   ],
   "source": [
    "# 定义array\n",
    "a1 = np.ones((3, 4), dtype=complex)\n",
    "a2 = np.ones_like((3, 4), dtype=float)\n",
    "a3 = np.zeros((3, 4), dtype=complex)\n",
    "a4 = np.zeros_like((3, 4), dtype=float)\n",
    "a5 = np.full((2, 3), 7)\n",
    "a6 = np.eye(3)\n",
    "a7 = np.random.random((2, 3))\n",
    "print(a1)\n",
    "print(a2)\n",
    "print(a3)\n",
    "print(a4)\n",
    "print(a5)\n",
    "print(a6)\n",
    "print(a7)"
   ]
  },
  {
   "cell_type": "code",
   "execution_count": 40,
   "metadata": {},
   "outputs": [
    {
     "name": "stdout",
     "output_type": "stream",
     "text": [
      "(2, 3)\n",
      "2\n",
      "6\n",
      "int64\n",
      "8\n",
      "  C_CONTIGUOUS : True\n",
      "  F_CONTIGUOUS : False\n",
      "  OWNDATA : True\n",
      "  WRITEABLE : True\n",
      "  ALIGNED : True\n",
      "  WRITEBACKIFCOPY : False\n",
      "  UPDATEIFCOPY : False\n",
      "\n",
      "[[1 2 3]\n",
      " [4 5 6]]\n",
      "[[0 0 0]\n",
      " [0 0 0]]\n",
      "<memory at 0x7febf81106c0>\n",
      "(24, 8)\n"
     ]
    }
   ],
   "source": [
    "# 数组属性\n",
    "a1 = np.array([[1, 2, 3], [4, 5, 6]])\n",
    "print(a1.shape)\n",
    "print(a1.ndim)\n",
    "print(a1.size)  # shape乘积\n",
    "print(a1.dtype)\n",
    "print(a1.itemsize)  # 元素字节大小\n",
    "print(a1.flags)  # 内存信息\n",
    "print(a1.real)\n",
    "print(a1.imag)\n",
    "print(a1.data)  # 缓冲区\n",
    "print(a1.strides) # 8字节走到下一个元素，24字节走到下一行元素"
   ]
  },
  {
   "cell_type": "code",
   "execution_count": 42,
   "metadata": {},
   "outputs": [
    {
     "name": "stdout",
     "output_type": "stream",
     "text": [
      "[[1 2 3]\n",
      " [4 5 6]]\n",
      "[1 2 3 4 5 6]\n",
      "[[[1 2 3]\n",
      "  [4 5 6]]]\n",
      "[[[1]\n",
      "  [2]]\n",
      "\n",
      " [[3]\n",
      "  [4]]\n",
      "\n",
      " [[5]\n",
      "  [6]]]\n"
     ]
    }
   ],
   "source": [
    "# reshape\n",
    "a1 = np.array([[1, 2, 3], [4, 5, 6]])\n",
    "a2 = a1.reshape((6))\n",
    "a3 = a1.reshape((1, 2, 3))\n",
    "a4 = a1.reshape((3, 2, -1))\n",
    "print(a1)\n",
    "print(a2)\n",
    "print(a3)\n",
    "print(a4)"
   ]
  },
  {
   "cell_type": "code",
   "execution_count": 58,
   "metadata": {},
   "outputs": [
    {
     "name": "stdout",
     "output_type": "stream",
     "text": [
      "0.032497406005859375\n",
      "0.03466320037841797\n",
      "0.03673887252807617\n",
      "0.03975248336791992\n",
      "0.0550074577331543\n",
      "0.053078413009643555\n",
      "0.044530630111694336\n",
      "0.053530216217041016\n",
      "0.054949045181274414\n",
      "0.0560455322265625\n"
     ]
    }
   ],
   "source": [
    "# 矩阵相加\n",
    "import torch\n",
    "import time\n",
    "x = np.array([[i for i in range(1, 10000000)], [i for i in range(1, 10000000)]])\n",
    "y = np.array([[i for i in range(1, 10000000)], [i for i in range(1, 10000000)]])\n",
    "x_t = torch.tensor(x)\n",
    "y_t = torch.tensor(y)\n",
    "time1 = time.time()\n",
    "x+y\n",
    "time2 = time.time()\n",
    "x_t+y_t\n",
    "time3 = time.time()\n",
    "np.add(x, y)\n",
    "time4 = time.time()\n",
    "x-y\n",
    "time5 = time.time()\n",
    "np.subtract(x, y)\n",
    "time6 = time.time()\n",
    "x*y\n",
    "time7 = time.time()\n",
    "x_t*y_t\n",
    "time8 = time.time()\n",
    "x/y\n",
    "time9 = time.time()\n",
    "np.divide(x, y)\n",
    "time10 = time.time()\n",
    "x_t/y_t\n",
    "time11 = time.time()\n",
    "np.sqrt(x)\n",
    "print(time2-time1)\n",
    "print(time3-time2)\n",
    "print(time4-time3)\n",
    "print(time5-time4)\n",
    "print(time6-time5)\n",
    "print(time7-time6)\n",
    "print(time8-time7)\n",
    "print(time9-time8)\n",
    "print(time10-time9)\n",
    "print(time11-time10)\n",
    "# 发现时间相近！！！"
   ]
  },
  {
   "cell_type": "code",
   "execution_count": 70,
   "metadata": {},
   "outputs": [
    {
     "name": "stdout",
     "output_type": "stream",
     "text": [
      "[[1 3 2]\n",
      " [6 5 4]\n",
      " [1 1 1]\n",
      " [1 1 1]]\n",
      "[[1 3 2 1 1 1]\n",
      " [6 5 4 1 1 1]]\n",
      "[[1 2 3]\n",
      " [4 5 6]\n",
      " [1 1 1]\n",
      " [1 1 1]]\n",
      "[[1 2 3]\n",
      " [4 5 6]\n",
      " [1 1 1]\n",
      " [1 1 1]]\n",
      "5\n"
     ]
    }
   ],
   "source": [
    "# concatenate\n",
    "x = np.array([[1, 3, 2], [6, 5, 4]])\n",
    "y = np.array([[1, 1, 1], [1, 1, 1]])\n",
    "z = np.concatenate((x, y), axis=0) # axis默认是0\n",
    "w = np.concatenate((x, y), axis=1)\n",
    "print(z)\n",
    "print(w)\n",
    "z.sort(axis=1)\n",
    "print(z)\n",
    "z.sort()\n",
    "print(z)\n",
    "print(np.argmax(z))\n"
   ]
  },
  {
   "cell_type": "code",
   "execution_count": null,
   "metadata": {},
   "outputs": [],
   "source": [
    "# 广播机制\n"
   ]
  }
 ],
 "metadata": {
  "interpreter": {
   "hash": "31f2aee4e71d21fbe5cf8b01ff0e069b9275f58929596ceb00d14d90e3e16cd6"
  },
  "kernelspec": {
   "display_name": "Python 3.8.10 64-bit",
   "language": "python",
   "name": "python3"
  },
  "language_info": {
   "codemirror_mode": {
    "name": "ipython",
    "version": 3
   },
   "file_extension": ".py",
   "mimetype": "text/x-python",
   "name": "python",
   "nbconvert_exporter": "python",
   "pygments_lexer": "ipython3",
   "version": "3.8.10"
  },
  "orig_nbformat": 4
 },
 "nbformat": 4,
 "nbformat_minor": 2
}
