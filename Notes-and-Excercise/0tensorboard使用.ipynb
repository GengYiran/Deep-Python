{
 "cells": [
  {
   "cell_type": "markdown",
   "metadata": {},
   "source": [
    "# tensorboard使用\n",
    "有两种查看方法，一个是在import tensorboardX的时候，上方vscode自带\n",
    "\n",
    "或者直接在命令行输入tensorboard --logdir=xxxx就可以显示网址并直接访问了"
   ]
  },
  {
   "cell_type": "code",
   "execution_count": 11,
   "metadata": {},
   "outputs": [],
   "source": [
    "import torch\n",
    "from tensorboardX import SummaryWriter\n",
    "import numpy as np\n",
    "writer = SummaryWriter()\n",
    "\n",
    "# 默认大的路径都是runs，内部具体路径是放到第一个参数里面\n",
    "for i in range(100):\n",
    "\twriter.add_scalar(\"\", np.random.rand(), i)\n",
    "\twriter.add_scalars(\"\", {'xsinx':i*np.sin(i), 'xcosx':i*np.cos(i)}, i)\n",
    "writer.close()\n"
   ]
  },
  {
   "cell_type": "code",
   "execution_count": null,
   "metadata": {},
   "outputs": [],
   "source": []
  }
 ],
 "metadata": {
  "interpreter": {
   "hash": "224f25fc0be08b930fddfad12a010fb7adcf3a716374ba1b6741252a895f3cad"
  },
  "kernelspec": {
   "display_name": "Python 3.7.12 ('rlgpu')",
   "language": "python",
   "name": "python3"
  },
  "language_info": {
   "codemirror_mode": {
    "name": "ipython",
    "version": 3
   },
   "file_extension": ".py",
   "mimetype": "text/x-python",
   "name": "python",
   "nbconvert_exporter": "python",
   "pygments_lexer": "ipython3",
   "version": "3.7.12"
  },
  "orig_nbformat": 4
 },
 "nbformat": 4,
 "nbformat_minor": 2
}
