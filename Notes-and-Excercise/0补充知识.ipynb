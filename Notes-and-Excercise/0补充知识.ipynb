{
 "cells": [
  {
   "cell_type": "markdown",
   "metadata": {},
   "source": [
    "# raise用法\n",
    "程序出错会自动引发异常,python也允许使用raise来自行引发异常\n",
    "\n",
    "    raise：单独一个 raise。该语句引发当前上下文中捕获的异常（比如在 except 块中），或默认引发 RuntimeError 异常。\n",
    "    raise 异常类：raise 后带一个异常类。该语句引发指定异常类的默认实例。\n",
    "    raise 异常对象：引发指定的异常对象。"
   ]
  },
  {
   "cell_type": "code",
   "execution_count": 6,
   "metadata": {},
   "outputs": [
    {
     "name": "stdout",
     "output_type": "stream",
     "text": [
      "asdasd\n",
      "asddarfr\n",
      "asdavdds\n",
      "asdasd\n"
     ]
    }
   ],
   "source": [
    "# \\r是回车，回到开头\n",
    "# \\n是换行\n",
    "print(\"asdad\\rasdasd\")\n",
    "print(\"\\rasddarfr\")\n",
    "print(\"asdavdds\\nasdasd\")"
   ]
  },
  {
   "cell_type": "code",
   "execution_count": 4,
   "metadata": {},
   "outputs": [
    {
     "data": {
      "text/plain": [
       "range"
      ]
     },
     "execution_count": 4,
     "metadata": {},
     "output_type": "execute_result"
    }
   ],
   "source": [
    "type(range(10))"
   ]
  },
  {
   "cell_type": "markdown",
   "metadata": {},
   "source": [
    "Ipython magic命令：\n",
    "![](Images/2022-03-14-00-54-54.png)"
   ]
  },
  {
   "cell_type": "code",
   "execution_count": null,
   "metadata": {},
   "outputs": [],
   "source": [
    "i = 5\n",
    "print(i)\n",
    "%whos"
   ]
  },
  {
   "cell_type": "code",
   "execution_count": null,
   "metadata": {},
   "outputs": [],
   "source": [
    "i = 0\n",
    "%reset -f\n",
    "%whos\n",
    "print(i)"
   ]
  },
  {
   "cell_type": "code",
   "execution_count": null,
   "metadata": {},
   "outputs": [],
   "source": [
    "%ls"
   ]
  },
  {
   "cell_type": "code",
   "execution_count": null,
   "metadata": {},
   "outputs": [],
   "source": [
    "!ping baidu.com\n",
    "#ping (Packet Internet Groper)，因特网包探索器，\n",
    "#用于测试网络连接量的程序。Ping发送一个ICMP；\n",
    "#回声请求消息给目的地并报告是否收到所希望的ICMP echo （ICMP回声应答）。\n",
    "#它是用来检查网络是否通畅或者网络连接速度的命令"
   ]
  },
  {
   "cell_type": "markdown",
   "metadata": {},
   "source": [
    "# Block\n",
    "类似c++中的{}，每个缩进代表一个block"
   ]
  },
  {
   "cell_type": "code",
   "execution_count": null,
   "metadata": {},
   "outputs": [],
   "source": []
  }
 ],
 "metadata": {
  "interpreter": {
   "hash": "31f2aee4e71d21fbe5cf8b01ff0e069b9275f58929596ceb00d14d90e3e16cd6"
  },
  "kernelspec": {
   "display_name": "Python 3.8.10 64-bit",
   "language": "python",
   "name": "python3"
  },
  "language_info": {
   "codemirror_mode": {
    "name": "ipython",
    "version": 3
   },
   "file_extension": ".py",
   "mimetype": "text/x-python",
   "name": "python",
   "nbconvert_exporter": "python",
   "pygments_lexer": "ipython3",
   "version": "3.8.10"
  },
  "orig_nbformat": 4
 },
 "nbformat": 4,
 "nbformat_minor": 2
}
