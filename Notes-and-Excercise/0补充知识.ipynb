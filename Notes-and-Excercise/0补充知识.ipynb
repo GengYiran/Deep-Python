{
 "cells": [
  {
   "cell_type": "markdown",
   "metadata": {},
   "source": [
    "# raise用法\n",
    "程序出错会自动引发异常,python也允许使用raise来自行引发异常\n",
    "\n",
    "    raise：单独一个 raise。该语句引发当前上下文中捕获的异常（比如在 except 块中），或默认引发 RuntimeError 异常。\n",
    "    raise 异常类：raise 后带一个异常类。该语句引发指定异常类的默认实例。\n",
    "    raise 异常对象：引发指定的异常对象。"
   ]
  },
  {
   "cell_type": "markdown",
   "metadata": {},
   "source": []
  }
 ],
 "metadata": {
  "language_info": {
   "name": "python"
  },
  "orig_nbformat": 4
 },
 "nbformat": 4,
 "nbformat_minor": 2
}
