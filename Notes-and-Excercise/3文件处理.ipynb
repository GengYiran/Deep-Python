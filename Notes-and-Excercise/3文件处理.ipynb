{
 "cells": [
  {
   "cell_type": "markdown",
   "metadata": {},
   "source": [
    "# python文件操作\n",
    "\n",
    "\tmode默认文本模式\n",
    "\tmode=w或者w+，每次都会从头开始写，覆盖原有内容（可以新建文件）\n",
    "\tfileObject.seek(offset[, whence]):\n",
    "\n",
    "    \toffset -- 开始的偏移量，也就是代表需要移动偏移的字节数\n",
    "\n",
    "    \twhence：可选，默认值为 0。给offset参数一个定义，表示要从哪个位置开始偏移；0代表从文件开头开始算起，1代表从当前位置开始算起，2代表从文件末尾算起。\n",
    "\t没有使用rb模式打开的文件只能使用从开头记录的方法\n"
   ]
  },
  {
   "cell_type": "code",
   "execution_count": 1,
   "metadata": {},
   "outputs": [],
   "source": [
    "f = open('useful_folder/text.txt', mode='w+')\n",
    "f.write(\"write line 1\\n\")\n",
    "f.write(\"write line 2\\n\")  # 不会自动加上换行\n",
    "f.close()"
   ]
  },
  {
   "cell_type": "code",
   "execution_count": 2,
   "metadata": {},
   "outputs": [
    {
     "name": "stdout",
     "output_type": "stream",
     "text": [
      "['write line 1\\n', 'write line 2\\n']\n",
      "it\n",
      "e li\n",
      "8\n",
      "b' '\n"
     ]
    }
   ],
   "source": [
    "f = open('useful_folder/text.txt', mode='r')\n",
    "lines = f.readlines()\n",
    "print(lines)\n",
    "f.close()\n",
    "f = open('useful_folder/text.txt', mode='r')\n",
    "f.seek(2) # 指向第3个字符\n",
    "print(f.read(2))\n",
    "print(f.read(4))\n",
    "print(f.tell()) # 指针位置\n",
    "f.close()\n",
    "\n",
    "f = open('useful_folder/text.txt', mode='rb')\n",
    "f.seek(-3, 2)\n",
    "print(f.read(1))\n",
    "f.close()"
   ]
  },
  {
   "cell_type": "code",
   "execution_count": 3,
   "metadata": {},
   "outputs": [
    {
     "name": "stdout",
     "output_type": "stream",
     "text": [
      "write line 1\n",
      "write line 2\n",
      "False\n",
      "True\n"
     ]
    }
   ],
   "source": [
    "with open('useful_folder/text.txt') as f:\n",
    "\tfor line in f:\n",
    "\t\tprint(line.strip())  # 默认为空格或换行符\n",
    "\tprint(f.closed)\n",
    "print(f.closed)"
   ]
  }
 ],
 "metadata": {
  "interpreter": {
   "hash": "31f2aee4e71d21fbe5cf8b01ff0e069b9275f58929596ceb00d14d90e3e16cd6"
  },
  "kernelspec": {
   "display_name": "Python 3.8.10 64-bit",
   "language": "python",
   "name": "python3"
  },
  "language_info": {
   "codemirror_mode": {
    "name": "ipython",
    "version": 3
   },
   "file_extension": ".py",
   "mimetype": "text/x-python",
   "name": "python",
   "nbconvert_exporter": "python",
   "pygments_lexer": "ipython3",
   "version": "3.8.10"
  },
  "orig_nbformat": 4
 },
 "nbformat": 4,
 "nbformat_minor": 2
}
