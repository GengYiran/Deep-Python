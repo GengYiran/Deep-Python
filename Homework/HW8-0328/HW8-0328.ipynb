{
 "cells": [
  {
   "cell_type": "markdown",
   "id": "0d6775e5",
   "metadata": {},
   "source": [
    "# Homework_2022_03_07\n",
    "\n",
    "<font color=ff0000> 截止日期 3.31（周四） 23:59</font>"
   ]
  },
  {
   "cell_type": "markdown",
   "id": "ce3f1894",
   "metadata": {},
   "source": [
    "### Exercise 1 Pandas基础练习(4')"
   ]
  },
  {
   "cell_type": "code",
   "execution_count": 2,
   "id": "728f5ab8",
   "metadata": {},
   "outputs": [],
   "source": [
    "import pandas as pd\n",
    "import numpy as np\n",
    "from matplotlib import pyplot as plt\n",
    "%matplotlib inline\n",
    "data = {\n",
    "    'age': [24, 53, 23, 24, 33, 42, 57, 57, 36, 29, 53, 39],\n",
    "    'gender': ['M', 'F', 'M', 'M', 'F', 'M', 'M', 'M', 'M', 'M', 'M', 'F'],\n",
    "    'occupation': ['technician', 'other', 'writer', 'technician', 'technician', 'executive', 'administrator', 'administrator', 'administrator', 'student', 'lawyer', 'other'],\n",
    "    'zip_code': ['85711', '94043', '32067', '43537', '15213', '98101', '91344', '91344', '05201', '01002', '90703', '30329']\n",
    "}"
   ]
  },
  {
   "cell_type": "markdown",
   "id": "0a19dea3",
   "metadata": {},
   "source": [
    "1.1 创建一组从1开始递增的id，作为行索引，由data生成一个DataFrame(1')："
   ]
  },
  {
   "cell_type": "code",
   "execution_count": 32,
   "id": "94fdd981",
   "metadata": {},
   "outputs": [
    {
     "data": {
      "text/html": [
       "<div>\n",
       "<style scoped>\n",
       "    .dataframe tbody tr th:only-of-type {\n",
       "        vertical-align: middle;\n",
       "    }\n",
       "\n",
       "    .dataframe tbody tr th {\n",
       "        vertical-align: top;\n",
       "    }\n",
       "\n",
       "    .dataframe thead th {\n",
       "        text-align: right;\n",
       "    }\n",
       "</style>\n",
       "<table border=\"1\" class=\"dataframe\">\n",
       "  <thead>\n",
       "    <tr style=\"text-align: right;\">\n",
       "      <th></th>\n",
       "      <th>age</th>\n",
       "      <th>gender</th>\n",
       "      <th>occupation</th>\n",
       "      <th>zip_code</th>\n",
       "    </tr>\n",
       "  </thead>\n",
       "  <tbody>\n",
       "    <tr>\n",
       "      <th>1</th>\n",
       "      <td>24</td>\n",
       "      <td>M</td>\n",
       "      <td>technician</td>\n",
       "      <td>85711</td>\n",
       "    </tr>\n",
       "    <tr>\n",
       "      <th>2</th>\n",
       "      <td>53</td>\n",
       "      <td>F</td>\n",
       "      <td>other</td>\n",
       "      <td>94043</td>\n",
       "    </tr>\n",
       "    <tr>\n",
       "      <th>3</th>\n",
       "      <td>23</td>\n",
       "      <td>M</td>\n",
       "      <td>writer</td>\n",
       "      <td>32067</td>\n",
       "    </tr>\n",
       "    <tr>\n",
       "      <th>4</th>\n",
       "      <td>24</td>\n",
       "      <td>M</td>\n",
       "      <td>technician</td>\n",
       "      <td>43537</td>\n",
       "    </tr>\n",
       "    <tr>\n",
       "      <th>5</th>\n",
       "      <td>33</td>\n",
       "      <td>F</td>\n",
       "      <td>technician</td>\n",
       "      <td>15213</td>\n",
       "    </tr>\n",
       "    <tr>\n",
       "      <th>6</th>\n",
       "      <td>42</td>\n",
       "      <td>M</td>\n",
       "      <td>executive</td>\n",
       "      <td>98101</td>\n",
       "    </tr>\n",
       "    <tr>\n",
       "      <th>7</th>\n",
       "      <td>57</td>\n",
       "      <td>M</td>\n",
       "      <td>administrator</td>\n",
       "      <td>91344</td>\n",
       "    </tr>\n",
       "    <tr>\n",
       "      <th>8</th>\n",
       "      <td>57</td>\n",
       "      <td>M</td>\n",
       "      <td>administrator</td>\n",
       "      <td>91344</td>\n",
       "    </tr>\n",
       "    <tr>\n",
       "      <th>9</th>\n",
       "      <td>36</td>\n",
       "      <td>M</td>\n",
       "      <td>administrator</td>\n",
       "      <td>05201</td>\n",
       "    </tr>\n",
       "    <tr>\n",
       "      <th>10</th>\n",
       "      <td>29</td>\n",
       "      <td>M</td>\n",
       "      <td>student</td>\n",
       "      <td>01002</td>\n",
       "    </tr>\n",
       "    <tr>\n",
       "      <th>11</th>\n",
       "      <td>53</td>\n",
       "      <td>M</td>\n",
       "      <td>lawyer</td>\n",
       "      <td>90703</td>\n",
       "    </tr>\n",
       "    <tr>\n",
       "      <th>12</th>\n",
       "      <td>39</td>\n",
       "      <td>F</td>\n",
       "      <td>other</td>\n",
       "      <td>30329</td>\n",
       "    </tr>\n",
       "  </tbody>\n",
       "</table>\n",
       "</div>"
      ],
      "text/plain": [
       "    age gender     occupation zip_code\n",
       "1    24      M     technician    85711\n",
       "2    53      F          other    94043\n",
       "3    23      M         writer    32067\n",
       "4    24      M     technician    43537\n",
       "5    33      F     technician    15213\n",
       "6    42      M      executive    98101\n",
       "7    57      M  administrator    91344\n",
       "8    57      M  administrator    91344\n",
       "9    36      M  administrator    05201\n",
       "10   29      M        student    01002\n",
       "11   53      M         lawyer    90703\n",
       "12   39      F          other    30329"
      ]
     },
     "execution_count": 32,
     "metadata": {},
     "output_type": "execute_result"
    }
   ],
   "source": [
    "# TODO\n",
    "index=[i+1 for i in range(len(data['age']))]\n",
    "frame = pd.DataFrame(data, index=index)\n",
    "frame"
   ]
  },
  {
   "cell_type": "markdown",
   "id": "3a7c5fe3",
   "metadata": {},
   "source": [
    "1.2 删除DataFrame中重复的行（保留一行），再删除所有occupation为\"other\"的行(0.5'):"
   ]
  },
  {
   "cell_type": "code",
   "execution_count": 35,
   "id": "061a2578",
   "metadata": {},
   "outputs": [
    {
     "name": "stdout",
     "output_type": "stream",
     "text": [
      "    age gender     occupation zip_code\n",
      "1    24      M     technician    85711\n",
      "2    53      F          other    94043\n",
      "3    23      M         writer    32067\n",
      "4    24      M     technician    43537\n",
      "5    33      F     technician    15213\n",
      "6    42      M      executive    98101\n",
      "7    57      M  administrator    91344\n",
      "9    36      M  administrator    05201\n",
      "10   29      M        student    01002\n",
      "11   53      M         lawyer    90703\n",
      "12   39      F          other    30329\n",
      "    age gender     occupation zip_code\n",
      "1    24      M     technician    85711\n",
      "3    23      M         writer    32067\n",
      "4    24      M     technician    43537\n",
      "5    33      F     technician    15213\n",
      "6    42      M      executive    98101\n",
      "7    57      M  administrator    91344\n",
      "9    36      M  administrator    05201\n",
      "10   29      M        student    01002\n",
      "11   53      M         lawyer    90703\n"
     ]
    }
   ],
   "source": [
    "# TODO\n",
    "frame = frame[frame.duplicated()==False]\n",
    "print(frame)\n",
    "frame = frame[frame.occupation!='other']\n",
    "print(frame)"
   ]
  },
  {
   "cell_type": "markdown",
   "id": "3f53ff7e",
   "metadata": {},
   "source": [
    "1.3 以两种方式访问DataFrame的第一行(0.5')："
   ]
  },
  {
   "cell_type": "code",
   "execution_count": 37,
   "id": "bf3c247c",
   "metadata": {},
   "outputs": [
    {
     "name": "stdout",
     "output_type": "stream",
     "text": [
      "age                   24\n",
      "gender                 M\n",
      "occupation    technician\n",
      "zip_code           85711\n",
      "Name: 1, dtype: object\n",
      "age                   24\n",
      "gender                 M\n",
      "occupation    technician\n",
      "zip_code           85711\n",
      "Name: 1, dtype: object\n"
     ]
    }
   ],
   "source": [
    "# TODO\n",
    "print(frame.loc[1])  # loc是index索引\n",
    "print(frame.iloc[0])  # iloc是类似python的索引"
   ]
  },
  {
   "cell_type": "markdown",
   "id": "eff01058",
   "metadata": {},
   "source": [
    "1.4 以两种方式访问DataFrame的\"occupation\"列(0.5')："
   ]
  },
  {
   "cell_type": "code",
   "execution_count": 38,
   "id": "e8848ff5",
   "metadata": {},
   "outputs": [
    {
     "name": "stdout",
     "output_type": "stream",
     "text": [
      "1        technician\n",
      "3            writer\n",
      "4        technician\n",
      "5        technician\n",
      "6         executive\n",
      "7     administrator\n",
      "9     administrator\n",
      "10          student\n",
      "11           lawyer\n",
      "Name: occupation, dtype: object\n",
      "1        technician\n",
      "3            writer\n",
      "4        technician\n",
      "5        technician\n",
      "6         executive\n",
      "7     administrator\n",
      "9     administrator\n",
      "10          student\n",
      "11           lawyer\n",
      "Name: occupation, dtype: object\n"
     ]
    }
   ],
   "source": [
    "# TODO\n",
    "print(frame.occupation)\n",
    "print(frame['occupation'])"
   ]
  },
  {
   "cell_type": "markdown",
   "id": "dc388b3d",
   "metadata": {},
   "source": [
    "1.5 打印出DataFrame中出现次数最多的职业名称(0.5')："
   ]
  },
  {
   "cell_type": "code",
   "execution_count": 42,
   "id": "649d77f3",
   "metadata": {},
   "outputs": [
    {
     "name": "stdout",
     "output_type": "stream",
     "text": [
      "technician\n"
     ]
    }
   ],
   "source": [
    "# TODO\n",
    "l = list(frame.occupation)\n",
    "maxlabel = max(l, key=l.count)\n",
    "print(maxlabel)"
   ]
  },
  {
   "cell_type": "markdown",
   "id": "167b0185",
   "metadata": {},
   "source": [
    "1.6 将data_2转换成DataFrame，与上一个DataFrame按照\"zip_code\"这一列合并，按两种合并方式：\n",
    "\n",
    "1.合并后结果保留两个DataFrame的并集(0.5')；\n",
    "2.合并后只保留data_2的所有数据(0.5')。"
   ]
  },
  {
   "cell_type": "code",
   "execution_count": 58,
   "id": "98a8bfde",
   "metadata": {},
   "outputs": [
    {
     "name": "stdout",
     "output_type": "stream",
     "text": [
      "     age gender     occupation zip_code zip_code     name\n",
      "1   24.0      M     technician    85711    94043    Alice\n",
      "3   23.0      M         writer    32067    98101      Bob\n",
      "4   24.0      M     technician    43537    30329     Dave\n",
      "5   33.0      F     technician    15213      NaN      NaN\n",
      "6   42.0      M      executive    98101      NaN      NaN\n",
      "7   57.0      M  administrator    91344      NaN      NaN\n",
      "9   36.0      M  administrator    05201      NaN      NaN\n",
      "10  29.0      M        student    01002      NaN      NaN\n",
      "11  53.0      M         lawyer    90703      NaN      NaN\n",
      "0    NaN    NaN            NaN      NaN    85711     Alan\n",
      "2    NaN    NaN            NaN      NaN    15213  Abigail\n",
      "    age gender  occupation zip_code     name\n",
      "0  24.0      M  technician    85711     Alan\n",
      "1   NaN    NaN         NaN    94043    Alice\n",
      "2  33.0      F  technician    15213  Abigail\n",
      "3  42.0      M   executive    98101      Bob\n",
      "4   NaN    NaN         NaN    30329     Dave\n"
     ]
    }
   ],
   "source": [
    "data_2 = {\n",
    "    'zip_code': ['85711', '94043', '15213', '98101', '30329'],\n",
    "    'name': ['Alan', 'Alice', 'Abigail', 'Bob', 'Dave']\n",
    "}\n",
    "df2 = pd.DataFrame(data_2)\n",
    "\n",
    "# TODO\n",
    "df3 = pd.concat([frame, df2], axis=1, join='outer')\n",
    "print(df3)\n",
    "df4 = pd.merge(frame, df2, how='right')\n",
    "print(df4)"
   ]
  },
  {
   "cell_type": "markdown",
   "id": "eef6617c",
   "metadata": {},
   "source": [
    "### Exercise 2 Pandas数据分析(6')"
   ]
  },
  {
   "cell_type": "markdown",
   "id": "0114a7ed",
   "metadata": {},
   "source": [
    "本部分数据基于2022年3月的COVID-19疫情数据进行数据分析。\n",
    "\n",
    "在此致谢数据来源：https://github.com/BlankerL/DXY-COVID-19-Data ，并祝愿疫情的影响早日结束。\n",
    "\n",
    "2.1 读取COVID-19_March.csv，通过shape和info()查看数据基本信息(0.5')。"
   ]
  },
  {
   "cell_type": "code",
   "execution_count": 62,
   "id": "3131ac2d",
   "metadata": {
    "scrolled": true
   },
   "outputs": [
    {
     "name": "stdout",
     "output_type": "stream",
     "text": [
      "(34021, 19)\n",
      "<class 'pandas.core.frame.DataFrame'>\n",
      "RangeIndex: 34021 entries, 0 to 34020\n",
      "Data columns (total 19 columns):\n",
      " #   Column                   Non-Null Count  Dtype  \n",
      "---  ------                   --------------  -----  \n",
      " 0   continentName            34021 non-null  object \n",
      " 1   continentEnglishName     34021 non-null  object \n",
      " 2   countryName              34021 non-null  object \n",
      " 3   countryEnglishName       31953 non-null  object \n",
      " 4   provinceName             34021 non-null  object \n",
      " 5   provinceEnglishName      31953 non-null  object \n",
      " 6   province_zipCode         34021 non-null  int64  \n",
      " 7   province_confirmedCount  34021 non-null  int64  \n",
      " 8   province_suspectedCount  34021 non-null  int64  \n",
      " 9   province_curedCount      34021 non-null  int64  \n",
      " 10  province_deadCount       34021 non-null  int64  \n",
      " 11  cityName                 16252 non-null  object \n",
      " 12  cityEnglishName          15017 non-null  object \n",
      " 13  city_zipCode             16252 non-null  float64\n",
      " 14  city_confirmedCount      16252 non-null  float64\n",
      " 15  city_suspectedCount      16252 non-null  float64\n",
      " 16  city_curedCount          16252 non-null  float64\n",
      " 17  city_deadCount           16252 non-null  float64\n",
      " 18  updateTime               34021 non-null  object \n",
      "dtypes: float64(5), int64(5), object(9)\n",
      "memory usage: 4.9+ MB\n",
      "None\n"
     ]
    }
   ],
   "source": [
    "import pandas as pd\n",
    "#TODO\n",
    "import pandas as pd\n",
    "import numpy as np\n",
    "f=pd.read_csv('COVID19_March.csv') \n",
    "print(f.shape)\n",
    "print(f.info())"
   ]
  },
  {
   "cell_type": "markdown",
   "id": "bf99bf0b",
   "metadata": {},
   "source": [
    "2.2 从原表格的updateTime中提取最后更新时间，去除具体时间得到日期，并在原DataFrame中增加一列\"Date\"保存日期(0.5')。"
   ]
  },
  {
   "cell_type": "code",
   "execution_count": 63,
   "id": "927f5fad",
   "metadata": {},
   "outputs": [
    {
     "name": "stdout",
     "output_type": "stream",
     "text": [
      "      continentName continentEnglishName countryName  \\\n",
      "34016            亚洲                 Asia       塔吉克斯坦   \n",
      "34017           南美洲        South America     荷兰加勒比地区   \n",
      "34018            其他               Others     钻石公主号邮轮   \n",
      "34019           北美洲        North America       蒙特塞拉特   \n",
      "34020           南美洲        South America       福克兰群岛   \n",
      "\n",
      "                 countryEnglishName provinceName  \\\n",
      "34016                     Tajikstan        塔吉克斯坦   \n",
      "34017                           NaN      荷兰加勒比地区   \n",
      "34018  Diamond Princess Cruise Ship      钻石公主号邮轮   \n",
      "34019                           NaN        蒙特塞拉特   \n",
      "34020                           NaN        福克兰群岛   \n",
      "\n",
      "                provinceEnglishName  province_zipCode  \\\n",
      "34016                     Tajikstan            954003   \n",
      "34017                           NaN                 0   \n",
      "34018  Diamond Princess Cruise Ship                 0   \n",
      "34019                           NaN                 0   \n",
      "34020                           NaN                 0   \n",
      "\n",
      "       province_confirmedCount  province_suspectedCount  province_curedCount  \\\n",
      "34016                    17786                        0                17263   \n",
      "34017                      177                        0                    0   \n",
      "34018                      741                        0                  574   \n",
      "34019                      163                        0                   19   \n",
      "34020                      109                        0                   80   \n",
      "\n",
      "       province_deadCount cityName cityEnglishName  city_zipCode  \\\n",
      "34016                 125      NaN             NaN           NaN   \n",
      "34017                   3      NaN             NaN           NaN   \n",
      "34018                  13      NaN             NaN           NaN   \n",
      "34019                   2      NaN             NaN           NaN   \n",
      "34020                   0      NaN             NaN           NaN   \n",
      "\n",
      "       city_confirmedCount  city_suspectedCount  city_curedCount  \\\n",
      "34016                  NaN                  NaN              NaN   \n",
      "34017                  NaN                  NaN              NaN   \n",
      "34018                  NaN                  NaN              NaN   \n",
      "34019                  NaN                  NaN              NaN   \n",
      "34020                  NaN                  NaN              NaN   \n",
      "\n",
      "       city_deadCount     updateTime  \n",
      "34016             NaN  2022/3/1 8:50  \n",
      "34017             NaN  2022/3/1 8:50  \n",
      "34018             NaN  2022/3/1 8:50  \n",
      "34019             NaN  2022/3/1 8:50  \n",
      "34020             NaN  2022/3/1 8:50  \n"
     ]
    }
   ],
   "source": [
    "#TODO\n",
    "print(f.tail())"
   ]
  },
  {
   "cell_type": "markdown",
   "id": "fb44a728",
   "metadata": {},
   "source": [
    "2.3 这里给出的数据由每天循环爬取得到，因此同一地区同一日的数据可能会有多项纪录，但我们只需保存每一天同一个地区（精确到城市）最后一条记录。请对数据进行筛选，按provinceName, cityName, Date三列为标准去重，并将DataFrame按时间从早到晚的顺序排序(1')。"
   ]
  },
  {
   "cell_type": "code",
   "execution_count": 11,
   "id": "c32d2912",
   "metadata": {},
   "outputs": [],
   "source": [
    "#TODO\n"
   ]
  },
  {
   "cell_type": "markdown",
   "id": "eba4b711",
   "metadata": {},
   "source": [
    "2.4 新建两个DataFrame，分别包含筛选后国内的数据和国外的数据，便于后面分别统计(0.5')。"
   ]
  },
  {
   "cell_type": "code",
   "execution_count": 12,
   "id": "21929981",
   "metadata": {},
   "outputs": [],
   "source": [
    "#TODO\n"
   ]
  },
  {
   "cell_type": "markdown",
   "id": "5f736444",
   "metadata": {},
   "source": [
    "2.5 对于境外的每一个国家，请用记录中最后一天的病例数(province_confirmed)减去第一天的病例数，再除以之间间隔的天数，以此统计日平均新增情况，并打印全球平均日新增的前十名(1')。\n",
    "\n",
    "提示：可以使用groupby&apply等方法；请注意，记录的第一天与最后一天未必是3.1和3.27。\n",
    "参考阅读：https://zhuanlan.zhihu.com/p/101284491"
   ]
  },
  {
   "cell_type": "code",
   "execution_count": 13,
   "id": "1782b5ad",
   "metadata": {
    "scrolled": true
   },
   "outputs": [],
   "source": [
    "#TODO\n"
   ]
  },
  {
   "cell_type": "markdown",
   "id": "49c00b04",
   "metadata": {},
   "source": [
    "2.6 利用pandas的cut功能对境外的日平均新增情况进行分组，打印每个数量级区间内的国家数(0.5')。"
   ]
  },
  {
   "cell_type": "code",
   "execution_count": 14,
   "id": "62e8a192",
   "metadata": {
    "scrolled": true
   },
   "outputs": [],
   "source": [
    "#TODO\n"
   ]
  },
  {
   "cell_type": "markdown",
   "id": "69218d62",
   "metadata": {},
   "source": [
    "2.7 绘制3月以来吉林省每日新增的疫情曲线，以后一日减去前一日的确诊病例之差作为新增标准(提示，差分操作在pandas中也有对应的方法)(1')。"
   ]
  },
  {
   "cell_type": "code",
   "execution_count": 15,
   "id": "0623eec3",
   "metadata": {
    "scrolled": true
   },
   "outputs": [],
   "source": [
    "#TODO\n"
   ]
  },
  {
   "cell_type": "markdown",
   "id": "76d4e08a",
   "metadata": {},
   "source": [
    "2.8 请绘制3月以来上海市每日新增的疫情曲线，在一张图上同时画出总新增与本土新增（cityName中有境外输入条目，可以作为区分）(1')。"
   ]
  },
  {
   "cell_type": "code",
   "execution_count": 16,
   "id": "5f325487",
   "metadata": {},
   "outputs": [],
   "source": [
    "#TODO\n"
   ]
  },
  {
   "cell_type": "markdown",
   "id": "6640eee1",
   "metadata": {},
   "source": [
    "### 附加题 聚类方法比较及评价 (+2')\n",
    "本题我们利用Minst数据集进行KMeans聚类方法的测试，并对聚类的效果进行评估。"
   ]
  },
  {
   "cell_type": "code",
   "execution_count": 17,
   "id": "a1be5b02",
   "metadata": {},
   "outputs": [
    {
     "name": "stdout",
     "output_type": "stream",
     "text": [
      "(6000, 784)\n",
      "(6000, 1)\n"
     ]
    }
   ],
   "source": [
    "from sklearn import datasets, preprocessing\n",
    "from sklearn.decomposition import PCA\n",
    "from sklearn.cluster import KMeans, MeanShift\n",
    "import pandas as pd\n",
    "import numpy as np\n",
    "from matplotlib import pyplot as plt\n",
    "%matplotlib inline\n",
    "X = pd.read_csv('./train_X.csv') # 为了方便起见，这里只采用前6000个MNIST数据\n",
    "y = pd.read_csv('./train_y.csv')\n",
    "X, y = np.array(X), np.array(y)\n",
    "print(X.shape)\n",
    "print(y.shape)"
   ]
  },
  {
   "cell_type": "code",
   "execution_count": 18,
   "id": "e39a6288",
   "metadata": {
    "scrolled": true
   },
   "outputs": [
    {
     "data": {
      "text/plain": [
       "<matplotlib.collections.PathCollection at 0x7fc3bf37b850>"
      ]
     },
     "execution_count": 18,
     "metadata": {},
     "output_type": "execute_result"
    },
    {
     "data": {
      "image/png": "[encoded data removed]",
      "text/plain": [
       "<Figure size 432x288 with 1 Axes>"
      ]
     },
     "metadata": {
      "needs_background": "light"
     },
     "output_type": "display_data"
    }
   ],
   "source": [
    "pca2d = PCA(n_components=2)\n",
    "X_std = preprocessing.scale(X) # 数据标准化\n",
    "X_2d = pca2d.fit_transform(X_std)# 数据降维至两维便于可视化\n",
    "plt.scatter(X_2d[:, 0], X_2d[:, 1], c=y)"
   ]
  },
  {
   "cell_type": "markdown",
   "id": "b9b9fa0f",
   "metadata": {},
   "source": [
    "3.1 请在原始的标准化数据X_std和降至二维的数据X_2d上分别进行KMeans聚类，并对两种聚类结果进行可视化（以标签作为颜色，均只在二维可视化即可）和纯度计算（参考PPT第四页的公式）。+1'"
   ]
  },
  {
   "cell_type": "code",
   "execution_count": 19,
   "id": "924b3b40",
   "metadata": {},
   "outputs": [],
   "source": [
    "#TODO\n"
   ]
  },
  {
   "attachments": {},
   "cell_type": "markdown",
   "id": "d5153290",
   "metadata": {},
   "source": [
    "3.2 请用KM算法等方式实现聚类结果和原标签的最优匹配，并在此基础上计算两种结果的F值。+1'\n",
    "\n",
    "参考阅读：\n",
    "\n",
    "1. 匈牙利算法Wiki https://zh.wikipedia.org/wiki/%E5%8C%88%E7%89%99%E5%88%A9%E7%AE%97%E6%B3%95 \n",
    "2. KM算法讲解 https://blog.csdn.net/sixdaycoder/article/details/47720471\n",
    "3. KM算法python实现https://blog.csdn.net/weixin_39504758/article/details/120183504\n"
   ]
  },
  {
   "cell_type": "code",
   "execution_count": 20,
   "id": "876ec561",
   "metadata": {},
   "outputs": [],
   "source": [
    "#TODO\n"
   ]
  }
 ],
 "metadata": {
  "kernelspec": {
   "display_name": "Python 3 (ipykernel)",
   "language": "python",
   "name": "python3"
  },
  "language_info": {
   "codemirror_mode": {
    "name": "ipython",
    "version": 3
   },
   "file_extension": ".py",
   "mimetype": "text/x-python",
   "name": "python",
   "nbconvert_exporter": "python",
   "pygments_lexer": "ipython3",
   "version": "3.8.10"
  }
 },
 "nbformat": 4,
 "nbformat_minor": 5
}
