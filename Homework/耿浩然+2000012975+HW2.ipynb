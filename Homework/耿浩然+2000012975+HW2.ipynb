{
 "cells": [
  {
   "cell_type": "markdown",
   "id": "e7c161a5",
   "metadata": {},
   "source": [
    "## HW2-0228\n",
    "\n",
    "\n",
    "ddl：本周四（3月3日）中午12点\n",
    "\n",
    "有问题请联系微信群联系姜腾"
   ]
  },
  {
   "cell_type": "markdown",
   "id": "69fbc454",
   "metadata": {},
   "source": [
    "## 1 基础题"
   ]
  },
  {
   "cell_type": "markdown",
   "id": "153cd9d5",
   "metadata": {},
   "source": [
    "#### 1.1 分割范围（考察列表生成式，字符串分割）\n",
    "输入数字范围的字符串，中间用-连接，以逗号隔开，将字符串表示的范围转化为数字的**生成器**。\n",
    "\n",
    "举例：\n",
    "```python\n",
    ">>> parse_ranges(\"1-2,4-5,8-10\")\n",
    "<generator object parse_ranges.<locals>.<genexpr> at 0x7ffe7bd0a4d0>\n",
    ">>> list(parse_ranges(\"1-2,4-5,8-10\"))\n",
    "[1, 2, 4, 5, 8, 9, 10]\n",
    "```"
   ]
  },
  {
   "cell_type": "code",
   "execution_count": 23,
   "id": "f164f467",
   "metadata": {},
   "outputs": [
    {
     "name": "stdout",
     "output_type": "stream",
     "text": [
      "<generator object parse_ranges.<locals>.<genexpr> at 0x7f6f1c107040>\n",
      "[1, 2, 4, 5, 8, 9, 10]\n"
     ]
    }
   ],
   "source": [
    "def parse_ranges(ranges_string=\"\"):\n",
    "    # todo\n",
    "    l = ranges_string.split(\",\")\n",
    "    l = [i.split(\"-\") for i in l]\n",
    "    l = (num  for k in l for num in range(int(k[0]), int(k[1])+1))\n",
    "    return l\n",
    "\n",
    "print(parse_ranges(\"1-2,4-5,8-10\"))\n",
    "print(list(parse_ranges(\"1-2,4-5,8-10\")))"
   ]
  },
  {
   "cell_type": "markdown",
   "id": "ea9bac0f",
   "metadata": {},
   "source": [
    "#### 1.2 改进的cache装饰器（考察装饰器和函数可变参数列表）\n",
    "\n",
    "课上实现了有记忆存储的cache装饰器，但是对输入的参数有限制。现在希望实现一个@cached装饰器，支持对\\*args和\\*kwargs的输入同样的缓存支持。\n",
    "\n",
    "注：无需考虑输入不可哈希的情况（学有余力者可以在输入不可哈希时抛出异常，不算分）"
   ]
  },
  {
   "cell_type": "code",
   "execution_count": 62,
   "id": "442338e3",
   "metadata": {},
   "outputs": [],
   "source": [
    "import time\n",
    "\n",
    "def cached(func):\n",
    "    # todo\n",
    "    memory = []\n",
    "    def newFunc(farg,*args,**kwargs):\n",
    "        if [farg, args, sorted(kwargs.items())] not in memory:\n",
    "            memory.append([farg, args, sorted(kwargs.items())])\n",
    "            func(farg, args, kwargs)\n",
    "    return newFunc\n",
    "    \n",
    "@cached\n",
    "def test_func(farg,*args,**kwargs):\n",
    "    time.sleep(2)\n",
    "    return farg,args,kwargs"
   ]
  },
  {
   "cell_type": "code",
   "execution_count": 63,
   "id": "cdb76472",
   "metadata": {},
   "outputs": [
    {
     "name": "stdout",
     "output_type": "stream",
     "text": [
      "2.0006189346313477 sec\n",
      "0.00032401084899902344 sec\n"
     ]
    }
   ],
   "source": [
    "time_start = time.time()\n",
    "test_func(1,2,3,a=4)\n",
    "print(f'{time.time() - time_start} sec')\n",
    "time_start = time.time()\n",
    "test_func(1,2,3,a=4)\n",
    "print(f'{time.time() - time_start} sec')\n",
    "# time_start = time.time()\n",
    "# test_func(1,2,3,a=4, b=5)\n",
    "# print(f'{time.time() - time_start} sec')\n",
    "# time_start = time.time()\n",
    "# test_func(1,2,3,b=5, a=4)\n",
    "# print(f'{time.time() - time_start} sec')"
   ]
  },
  {
   "cell_type": "markdown",
   "id": "ab21fa06",
   "metadata": {},
   "source": [
    "#### 1.3 用lambda表达式和map函数编写一个程序，生成一个key为1到20之间整数，value为对应数的平方的字典(1和20都包含在内)。"
   ]
  },
  {
   "cell_type": "code",
   "execution_count": 11,
   "id": "5f0c862b",
   "metadata": {},
   "outputs": [
    {
     "data": {
      "text/plain": [
       "{1: 1,\n",
       " 2: 4,\n",
       " 3: 9,\n",
       " 4: 16,\n",
       " 5: 25,\n",
       " 6: 36,\n",
       " 7: 49,\n",
       " 8: 64,\n",
       " 9: 81,\n",
       " 10: 100,\n",
       " 11: 121,\n",
       " 12: 144,\n",
       " 13: 169,\n",
       " 14: 196,\n",
       " 15: 225,\n",
       " 16: 256,\n",
       " 17: 289,\n",
       " 18: 324,\n",
       " 19: 361,\n",
       " 20: 400}"
      ]
     },
     "execution_count": 11,
     "metadata": {},
     "output_type": "execute_result"
    }
   ],
   "source": [
    "# todo\n",
    "l1 = [i for i in range(1, 21)]\n",
    "l = iter(l1)\n",
    "l2 = list(map(lambda x:x**2, l))\n",
    "print(dict(zip(l1, l2)))"
   ]
  },
  {
   "cell_type": "markdown",
   "id": "72df6e20",
   "metadata": {},
   "source": [
    "#### 1.4 递归函数\n",
    "以方程：$x^3-0.2x^2-0.2x-1.2=0$为例，根据牛顿迭代法编写程序，求该方程的根，精度为0.00000001（该方程只有一个根）\n",
    "\n",
    "提示：牛顿迭代法——设方程$f(x)=0$的根为$r$，取$x_0$作为$r$的初始近似值，过点($x_0$, $f(x_0)$)作$f(x)$的切线，与x轴交点的横坐标为$x_1=x_0-\\frac{f(x_0)}{f'(x_0)}$，$x_1$称为$r$的一次近似值。再过点$(x_1,f(x_1)$作切线，继续迭代……\n",
    "$x_{n+1}=x_n-\\frac{f(x_n)}{f'(x_n)}$"
   ]
  },
  {
   "cell_type": "code",
   "execution_count": 12,
   "id": "391cb83a",
   "metadata": {},
   "outputs": [
    {
     "name": "stdout",
     "output_type": "stream",
     "text": [
      "1.2000000000051205\n"
     ]
    }
   ],
   "source": [
    "# todo\n",
    "def f(x):\n",
    "\treturn x**3-0.2*x**2-0.2*x-1.2\n",
    "\n",
    "def df(x):\n",
    "\treturn 3*x**2-0.4*x-0.2\n",
    "\n",
    "r=0\n",
    "while(1):\n",
    "\tfx = f(r)\n",
    "\tdfx = df(r)\n",
    "\tr_new = r-fx/dfx\n",
    "\tif(abs(r-r_new)<0.00000001):\n",
    "\t\tprint(r)\n",
    "\t\tbreak\n",
    "\telse:\n",
    "\t\tr = r_new"
   ]
  },
  {
   "cell_type": "markdown",
   "id": "05b7b6ca",
   "metadata": {},
   "source": [
    "## 2 进阶题"
   ]
  },
  {
   "cell_type": "markdown",
   "id": "a383ccb7",
   "metadata": {},
   "source": [
    "#### 2.1 运行下面的代码，根据异常信息进行分析，定位出错误源头，并修复"
   ]
  },
  {
   "cell_type": "code",
   "execution_count": 19,
   "id": "562d85c4",
   "metadata": {},
   "outputs": [
    {
     "name": "stdout",
     "output_type": "stream",
     "text": [
      "100 + 200 + 345 = 645.0\n",
      "99 + 88 + 7.6 = 194.6\n"
     ]
    }
   ],
   "source": [
    "from functools import reduce\n",
    "\n",
    "def str2num(s):\n",
    "    return float(s)\n",
    "\n",
    "def calc(exp):\n",
    "    ss = exp.split(' + ')\n",
    "    ns = map(str2num, ss)\n",
    "    return reduce(lambda acc, x: acc + x, ns)\n",
    "\n",
    "def main():\n",
    "    r = calc('100 + 200 + 345')\n",
    "    print('100 + 200 + 345 =', r)\n",
    "    r = calc('99 + 88 + 7.6')\n",
    "    print('99 + 88 + 7.6 =', r)\n",
    "\n",
    "main()"
   ]
  },
  {
   "cell_type": "markdown",
   "id": "28b50975",
   "metadata": {},
   "source": [
    "### 以下2.2与2.3的bonus question大家都可以尝试，如果两个尝试都正确*只算一个的分数*。"
   ]
  },
  {
   "cell_type": "markdown",
   "id": "1eee6527",
   "metadata": {},
   "source": [
    "#### 2.2 废弃功能提醒装饰器\n",
    "有些时候我们希望用户用新功能逐渐替代老功能，但是又希望保有兼容性，本题希望实现装饰器@deprecated达到这个功能。**注意，希望可以只在函数第一次被定义时抛出提示，之后不再抛出。**示例如下：\n",
    "\n",
    "```python\n",
    "@deprecated\n",
    "def f(): \n",
    "    pass\n",
    "\n",
    ">>> f()\n",
    "Function deprecated, do not use.\n",
    ">>> f()\n",
    ">>> f()\n",
    "```"
   ]
  },
  {
   "cell_type": "code",
   "execution_count": 76,
   "id": "2389fdfb",
   "metadata": {},
   "outputs": [],
   "source": [
    "import functools\n",
    "\n",
    "def deprecate(func):\n",
    "    # todo\n",
    "    memory = []\n",
    "    def ff():\n",
    "        if len(memory)==0:\n",
    "            memory.append(\"Function deprecated, do not use.\")\n",
    "            print(\"Function deprecated, do not use.\")\n",
    "        func()\n",
    "    return ff\n",
    "\n",
    "@deprecate\n",
    "def f(): \n",
    "    pass"
   ]
  },
  {
   "cell_type": "code",
   "execution_count": 77,
   "id": "7e7fda9e",
   "metadata": {},
   "outputs": [
    {
     "name": "stdout",
     "output_type": "stream",
     "text": [
      "Function deprecated, do not use.\n"
     ]
    }
   ],
   "source": [
    "f()"
   ]
  },
  {
   "cell_type": "code",
   "execution_count": 78,
   "id": "2e1cfbd8",
   "metadata": {},
   "outputs": [],
   "source": [
    "f()"
   ]
  },
  {
   "cell_type": "markdown",
   "id": "78693cb0",
   "metadata": {},
   "source": [
    "#### bonus 2.1.1（两个bonus只算一个分）\n",
    "对废弃功能提醒装饰器进行如下的改进：\n",
    "1. 同时打印本函数的名字\n",
    "1. 接受自定义提醒语句\n",
    "\n",
    "举例：\n",
    "```python\n",
    "@deprecate('use f1 instead')\n",
    "def f(): \n",
    "    pass\n",
    "\n",
    ">>> f()\n",
    "Function f is deprecated, use f1 instead\n",
    ">>> f()\n",
    ">>> f()\n",
    "```"
   ]
  },
  {
   "cell_type": "code",
   "execution_count": 81,
   "id": "4a69b0ca",
   "metadata": {},
   "outputs": [],
   "source": [
    "import functools\n",
    "\n",
    "def deprecate(msg):\n",
    "    # todo\n",
    "    memory = []\n",
    "    def fff(func):\n",
    "        def ff():\n",
    "            if len(memory)==0:\n",
    "                memory.append(\"Function deprecated, do not use.\")\n",
    "                print(\"Function \"+str(func.__name__)+\" is deprecated, \"+msg)\n",
    "            func()\n",
    "        return ff\n",
    "    return fff\n",
    "\n",
    "@deprecate('use f1 instead')\n",
    "def f(): \n",
    "    pass"
   ]
  },
  {
   "cell_type": "code",
   "execution_count": 82,
   "id": "78798252",
   "metadata": {},
   "outputs": [
    {
     "name": "stdout",
     "output_type": "stream",
     "text": [
      "Function f is deprecated, use f1 instead\n"
     ]
    }
   ],
   "source": [
    "f()"
   ]
  },
  {
   "cell_type": "code",
   "execution_count": 84,
   "id": "7f8db8a3",
   "metadata": {},
   "outputs": [],
   "source": [
    "f()"
   ]
  },
  {
   "cell_type": "markdown",
   "id": "97843267",
   "metadata": {},
   "source": [
    "#### 2.3 用字典表示图\n",
    "本题中我们将用边表示的无向图构建一个字典表示的无向图，这种表示在图的遍历中很有效，最后我们选择性地可以尝试找到该图的两个节点之间的最短路径（提示：用BFS算法）。\n",
    "\n",
    "举例：\n",
    "```python\n",
    ">>> edges = [[\"A\", \"B\"], [\"A\", \"E\"], \n",
    "     [\"A\", \"C\"], [\"B\", \"D\"], \n",
    "     [\"B\", \"E\"], [\"C\", \"F\"], \n",
    "     [\"C\", \"G\"], [\"D\", \"E\"]]\n",
    ">>> build_graph(edges)\n",
    "{'A': ['B', 'E', 'C'], \n",
    " 'B': ['A', 'D', 'E'],\n",
    " 'E': ['A', 'B', 'D'],\n",
    " 'C': ['A', 'F', 'G'],\n",
    " 'D': ['B', 'E'],\n",
    " 'F': ['C'],\n",
    " 'G': ['C']}\n",
    "\n",
    "```"
   ]
  },
  {
   "cell_type": "code",
   "execution_count": 13,
   "id": "377caaf7",
   "metadata": {},
   "outputs": [
    {
     "data": {
      "text/plain": [
       "{'A': ['B', 'E', 'C'],\n",
       " 'B': ['A', 'D', 'E'],\n",
       " 'E': ['A', 'B', 'D'],\n",
       " 'C': ['A', 'F', 'G'],\n",
       " 'D': ['B', 'E'],\n",
       " 'F': ['C'],\n",
       " 'G': ['C']}"
      ]
     },
     "execution_count": 13,
     "metadata": {},
     "output_type": "execute_result"
    }
   ],
   "source": [
    "from collections import defaultdict\n",
    "\n",
    "# 建图\n",
    "def build_graph(edges):\n",
    "    # todo\n",
    "    pass\n",
    "\n",
    "edges = [\n",
    "    [\"A\", \"B\"], [\"A\", \"E\"],\n",
    "    [\"A\", \"C\"], [\"B\", \"D\"],\n",
    "    [\"B\", \"E\"], [\"C\", \"F\"],\n",
    "    [\"C\", \"G\"], [\"D\", \"E\"]\n",
    "]\n",
    "\n",
    "graph = build_graph(edges)\n",
    "graph"
   ]
  },
  {
   "cell_type": "markdown",
   "id": "f0236f2e",
   "metadata": {},
   "source": [
    "#### bonus 2.3.1:(打印输出两节点间最短路径)，两个bonus只算一个分"
   ]
  },
  {
   "cell_type": "code",
   "execution_count": 14,
   "id": "b0e8d007",
   "metadata": {},
   "outputs": [
    {
     "name": "stdout",
     "output_type": "stream",
     "text": [
      "Shortest path =  A B D\n"
     ]
    }
   ],
   "source": [
    "#Find the shortest path in the graph using dictionaries\n",
    "\n",
    "def BFS_SP(graph, start, goal):\n",
    "    # todo\n",
    "    pass\n",
    "\n",
    "BFS_SP(graph, 'A', 'D')"
   ]
  },
  {
   "cell_type": "code",
   "execution_count": null,
   "id": "1335ebc0",
   "metadata": {},
   "outputs": [],
   "source": []
  }
 ],
 "metadata": {
  "kernelspec": {
   "display_name": "Python 3 (ipykernel)",
   "language": "python",
   "name": "python3"
  },
  "language_info": {
   "codemirror_mode": {
    "name": "ipython",
    "version": 3
   },
   "file_extension": ".py",
   "mimetype": "text/x-python",
   "name": "python",
   "nbconvert_exporter": "python",
   "pygments_lexer": "ipython3",
   "version": "3.8.10"
  }
 },
 "nbformat": 4,
 "nbformat_minor": 5
}
