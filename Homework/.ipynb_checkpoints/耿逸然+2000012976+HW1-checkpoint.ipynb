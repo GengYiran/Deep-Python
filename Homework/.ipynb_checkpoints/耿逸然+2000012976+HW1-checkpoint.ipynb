{
 "cells": [
  {
   "cell_type": "markdown",
   "metadata": {},
   "source": [
    "## Homework1-0221\n",
    "\n",
    "### 第一部分：基础练习（5分）\n",
    "\n",
    "#### 1.1 基本数据类型，表达式，简单输入输出（1分）\n",
    "    请实现汇率转换程序，输入美元数额，输出其等价于多少人民币。\n",
    "    注：目前美元兑人民币约为6.3345"
   ]
  },
  {
   "cell_type": "code",
   "execution_count": 1,
   "metadata": {},
   "outputs": [
    {
     "name": "stdout",
     "output_type": "stream",
     "text": [
      "6.3345\n"
     ]
    }
   ],
   "source": [
    "USD=float(input())\n",
    "#TODO\n",
    "trans = 6.3345\n",
    "RMB = USD*trans\n",
    "print(RMB)"
   ]
  },
  {
   "cell_type": "markdown",
   "metadata": {},
   "source": [
    "#### 1.2 字符串基本操作（1分）\n",
    "    找出字符串中小写字母a第二次出现的位置\n",
    "    例如：输入：'An apple a day keeps the doctor away'\n",
    "          输出：9"
   ]
  },
  {
   "cell_type": "code",
   "execution_count": 7,
   "metadata": {},
   "outputs": [
    {
     "name": "stdout",
     "output_type": "stream",
     "text": [
      "17\n"
     ]
    }
   ],
   "source": [
    "s='Python is a programming language that lets you work quickly and integrate systems more effectively.'\n",
    "#TODO\n",
    "find_time = 0\n",
    "for i in range(len(s)):\n",
    "\tif s[i]=='a':\n",
    "\t\tfind_time = find_time + 1\n",
    "\t\tif find_time == 2:\n",
    "\t\t\tprint(i)\n",
    "\t\t\tbreak\n",
    "if find_time<2:\n",
    "\tprint(\"Not Found\")"
   ]
  },
  {
   "cell_type": "markdown",
   "metadata": {},
   "source": [
    "#### 1.3 条件表达式、分支流程（1分）\n",
    "    你在玩某个的抽卡游戏，单抽抽中四星的概率为5%，但有每十抽必中一个四星的保底机制。请输入一个抽卡次数，并计算抽中至少一个四星的概率。"
   ]
  },
  {
   "cell_type": "code",
   "execution_count": 2,
   "metadata": {},
   "outputs": [
    {
     "name": "stdout",
     "output_type": "stream",
     "text": [
      "0.050000000000000044\n"
     ]
    }
   ],
   "source": [
    "t=int(input())\n",
    "#TODO\n",
    "P = 0\n",
    "if t<10:\n",
    "\tP = 1-0.95**t\n",
    "else:\n",
    "\tP = 1\n",
    "print(P)"
   ]
  },
  {
   "cell_type": "markdown",
   "metadata": {},
   "source": [
    "#### 1.4 List、Tuple类型基本操作（2分）\n",
    "    （1）分别创建包含p、y、t与t、h、o、n这几个字符的两个元组，并将其合并、输出。\n",
    "    （2）将得到的元组转换为列表，①在最后添加字符串‘3.9’②将p改为大写③删除任意一个t，并输出\n",
    "    （3）将列表内容合并为一个字符串,并输出"
   ]
  },
  {
   "cell_type": "code",
   "execution_count": 16,
   "metadata": {},
   "outputs": [
    {
     "name": "stdout",
     "output_type": "stream",
     "text": [
      "('p', 'y', 't', 't', 'h', 'o', 'n')\n",
      "['P', 'y', 't', 'h', 'o', 'n', '3.9']\n",
      "Python3.9\n"
     ]
    }
   ],
   "source": [
    "#TODO\n",
    "t1 = ('p', 'y', 't')\n",
    "t2 = ('t', 'h', 'o', 'n')\n",
    "T = t1 + t2\n",
    "print(T)\n",
    "L = list(T)\n",
    "L.append('3.9')\n",
    "L[0]='P'\n",
    "del(L[2])\n",
    "print(L)\n",
    "S = ''\n",
    "S = S.join(L)\n",
    "print(S)"
   ]
  },
  {
   "cell_type": "markdown",
   "metadata": {},
   "source": [
    "### 第二部分：进阶练习（5分+1分）\n",
    "#### 2.1 字符串分割、循环表达式（1分）\n",
    "    找出只出现过一次的数字，并保持原次序输出\n",
    "    例如： 输入：2,6,1,3,7,2,7    输出：6,1,3"
   ]
  },
  {
   "cell_type": "code",
   "execution_count": 6,
   "metadata": {},
   "outputs": [
    {
     "name": "stdout",
     "output_type": "stream",
     "text": [
      "6,1,3\n"
     ]
    }
   ],
   "source": [
    "s = '2,6,1,3,7,2,7'\n",
    "#TODO\n",
    "l = s.split(',')\n",
    "index = 0\n",
    "while(1):\n",
    "\tif_del = 0\n",
    "\tfor i in range(index+1, len(l)):\n",
    "\t\tif(i>=len(l)):\n",
    "\t\t\tbreak\n",
    "\t\tif l[i]==l[index]:\n",
    "\t\t\tif_del = 1\n",
    "\t\t\tdel l[i]\n",
    "\t\t\n",
    "\t\t\t\n",
    "\tif if_del == 1:\n",
    "\t\tdel l[index]\n",
    "\telse:\n",
    "\t\tindex += 1\n",
    "\tif index > len(l):\n",
    "\t\tbreak\n",
    "\n",
    "delimiter = ','\n",
    "print(delimiter.join(l))\n"
   ]
  },
  {
   "cell_type": "markdown",
   "metadata": {},
   "source": [
    "#### 2.2 列表生成及查找（2分）\n",
    "    生成一个包含1-20中所有整数的列表，判断11是其中的第几个奇数"
   ]
  },
  {
   "cell_type": "code",
   "execution_count": 12,
   "metadata": {},
   "outputs": [
    {
     "name": "stdout",
     "output_type": "stream",
     "text": [
      "6\n"
     ]
    }
   ],
   "source": [
    "#TODO\n",
    "l = [i for i in range(1, 21)]\n",
    "num = 0\n",
    "for i in l:\n",
    "\tif i%2==1:\n",
    "\t\tnum+=1\n",
    "\tif i==11:\n",
    "\t\tprint(num)\n",
    "\t\tbreak"
   ]
  },
  {
   "cell_type": "markdown",
   "metadata": {},
   "source": [
    "#### 2.3 迭代器使用（2分）\n",
    "    在一个随机生成的包含100个10以内的数字的列表中，输出首次出现的1之后的两个数字"
   ]
  },
  {
   "cell_type": "code",
   "execution_count": 19,
   "metadata": {},
   "outputs": [
    {
     "name": "stdout",
     "output_type": "stream",
     "text": [
      "5 8\n"
     ]
    }
   ],
   "source": [
    "import random\n",
    "l=[random.randint(0,10) for _ in range(100)]\n",
    "#TODO\n",
    "iterator = iter(l)\n",
    "while(1):\n",
    "\ti = next(iterator)\n",
    "\tif i == 1:\n",
    "\t\tprint(next(iterator),next(iterator))\n",
    "\t\tbreak"
   ]
  },
  {
   "cell_type": "markdown",
   "metadata": {},
   "source": [
    "#### 2.4（选做，1分）找出1~100之间的所有素数（建议使用filter函数）\n",
    "filter的基本说明见https://www.runoob.com/python3/python3-func-filter.html"
   ]
  },
  {
   "cell_type": "code",
   "execution_count": 29,
   "metadata": {},
   "outputs": [
    {
     "name": "stdout",
     "output_type": "stream",
     "text": [
      "[2, 3, 5, 7, 11, 13, 17, 19, 23, 29, 31, 37, 41, 43, 47, 53, 59, 61, 67, 71, 73, 79, 83, 89, 97]\n"
     ]
    }
   ],
   "source": [
    "#TODO\n",
    "import math\n",
    "def is_prime(n):\n",
    "\tfor i in range(2, int(math.sqrt(n))+1):\n",
    "\t\tif n%i == 0:\n",
    "\t\t\treturn 0\n",
    "\treturn 1\n",
    "l = [i for i in range(2, 101)]\n",
    "print(list(filter(is_prime, l)))\n"
   ]
  },
  {
   "cell_type": "code",
   "execution_count": null,
   "metadata": {},
   "outputs": [],
   "source": []
  }
 ],
 "metadata": {
  "kernelspec": {
   "display_name": "Python 3 (ipykernel)",
   "language": "python",
   "name": "python3"
  },
  "language_info": {
   "codemirror_mode": {
    "name": "ipython",
    "version": 3
   },
   "file_extension": ".py",
   "mimetype": "text/x-python",
   "name": "python",
   "nbconvert_exporter": "python",
   "pygments_lexer": "ipython3",
   "version": "3.8.10"
  }
 },
 "nbformat": 4,
 "nbformat_minor": 4
}
